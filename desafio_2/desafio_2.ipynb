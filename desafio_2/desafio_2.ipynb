{
  "cells": [
    {
      "cell_type": "markdown",
      "metadata": {
        "id": "vA7nqkumo9z9"
      },
      "source": [
        "## Desafio 2 PNL\n",
        "\n",
        "\n",
        "*   Crear sus propios vectores con Gensim basado en lo visto en clase con otro dataset.\n",
        "*   Probar términos de interés y explicar similitudes en el espacio de embeddings (sacar conclusiones entre palabras similitudes y diferencias)\n",
        "*   Graficarlos.\n",
        "*   Obtener conclusiones."
      ]
    },
    {
      "cell_type": "markdown",
      "source": [
        "### Dependencias"
      ],
      "metadata": {
        "id": "2vdD89Szcfei"
      }
    },
    {
      "cell_type": "code",
      "source": [
        "!pip install --upgrade --force-reinstall numpy gensim pandas"
      ],
      "metadata": {
        "colab": {
          "base_uri": "https://localhost:8080/",
          "height": 1000
        },
        "id": "l-HFCLf9LlPX",
        "outputId": "d31c116f-3cd4-4a85-fe06-fb92df2ce1c9"
      },
      "execution_count": 53,
      "outputs": [
        {
          "output_type": "stream",
          "name": "stdout",
          "text": [
            "Collecting numpy\n",
            "  Using cached numpy-2.2.4-cp311-cp311-manylinux_2_17_x86_64.manylinux2014_x86_64.whl.metadata (62 kB)\n",
            "Collecting gensim\n",
            "  Using cached gensim-4.3.3-cp311-cp311-manylinux_2_17_x86_64.manylinux2014_x86_64.whl.metadata (8.1 kB)\n",
            "Collecting pandas\n",
            "  Using cached pandas-2.2.3-cp311-cp311-manylinux_2_17_x86_64.manylinux2014_x86_64.whl.metadata (89 kB)\n",
            "Collecting numpy\n",
            "  Using cached numpy-1.26.4-cp311-cp311-manylinux_2_17_x86_64.manylinux2014_x86_64.whl.metadata (61 kB)\n",
            "Collecting scipy<1.14.0,>=1.7.0 (from gensim)\n",
            "  Using cached scipy-1.13.1-cp311-cp311-manylinux_2_17_x86_64.manylinux2014_x86_64.whl.metadata (60 kB)\n",
            "Collecting smart-open>=1.8.1 (from gensim)\n",
            "  Using cached smart_open-7.1.0-py3-none-any.whl.metadata (24 kB)\n",
            "Collecting python-dateutil>=2.8.2 (from pandas)\n",
            "  Using cached python_dateutil-2.9.0.post0-py2.py3-none-any.whl.metadata (8.4 kB)\n",
            "Collecting pytz>=2020.1 (from pandas)\n",
            "  Using cached pytz-2025.2-py2.py3-none-any.whl.metadata (22 kB)\n",
            "Collecting tzdata>=2022.7 (from pandas)\n",
            "  Using cached tzdata-2025.2-py2.py3-none-any.whl.metadata (1.4 kB)\n",
            "Collecting six>=1.5 (from python-dateutil>=2.8.2->pandas)\n",
            "  Using cached six-1.17.0-py2.py3-none-any.whl.metadata (1.7 kB)\n",
            "Collecting wrapt (from smart-open>=1.8.1->gensim)\n",
            "  Using cached wrapt-1.17.2-cp311-cp311-manylinux_2_5_x86_64.manylinux1_x86_64.manylinux_2_17_x86_64.manylinux2014_x86_64.whl.metadata (6.4 kB)\n",
            "Using cached gensim-4.3.3-cp311-cp311-manylinux_2_17_x86_64.manylinux2014_x86_64.whl (26.7 MB)\n",
            "Using cached numpy-1.26.4-cp311-cp311-manylinux_2_17_x86_64.manylinux2014_x86_64.whl (18.3 MB)\n",
            "Using cached pandas-2.2.3-cp311-cp311-manylinux_2_17_x86_64.manylinux2014_x86_64.whl (13.1 MB)\n",
            "Using cached python_dateutil-2.9.0.post0-py2.py3-none-any.whl (229 kB)\n",
            "Using cached pytz-2025.2-py2.py3-none-any.whl (509 kB)\n",
            "Using cached scipy-1.13.1-cp311-cp311-manylinux_2_17_x86_64.manylinux2014_x86_64.whl (38.6 MB)\n",
            "Using cached smart_open-7.1.0-py3-none-any.whl (61 kB)\n",
            "Using cached tzdata-2025.2-py2.py3-none-any.whl (347 kB)\n",
            "Using cached six-1.17.0-py2.py3-none-any.whl (11 kB)\n",
            "Using cached wrapt-1.17.2-cp311-cp311-manylinux_2_5_x86_64.manylinux1_x86_64.manylinux_2_17_x86_64.manylinux2014_x86_64.whl (83 kB)\n",
            "Installing collected packages: pytz, wrapt, tzdata, six, numpy, smart-open, scipy, python-dateutil, pandas, gensim\n",
            "  Attempting uninstall: pytz\n",
            "    Found existing installation: pytz 2025.2\n",
            "    Uninstalling pytz-2025.2:\n",
            "      Successfully uninstalled pytz-2025.2\n",
            "  Attempting uninstall: wrapt\n",
            "    Found existing installation: wrapt 1.17.2\n",
            "    Uninstalling wrapt-1.17.2:\n",
            "      Successfully uninstalled wrapt-1.17.2\n",
            "  Attempting uninstall: tzdata\n",
            "    Found existing installation: tzdata 2025.2\n",
            "    Uninstalling tzdata-2025.2:\n",
            "      Successfully uninstalled tzdata-2025.2\n",
            "  Attempting uninstall: six\n",
            "    Found existing installation: six 1.17.0\n",
            "    Uninstalling six-1.17.0:\n",
            "      Successfully uninstalled six-1.17.0\n",
            "  Attempting uninstall: numpy\n",
            "    Found existing installation: numpy 1.26.4\n",
            "    Uninstalling numpy-1.26.4:\n",
            "      Successfully uninstalled numpy-1.26.4\n",
            "  Attempting uninstall: smart-open\n",
            "    Found existing installation: smart-open 7.1.0\n",
            "    Uninstalling smart-open-7.1.0:\n",
            "      Successfully uninstalled smart-open-7.1.0\n",
            "  Attempting uninstall: scipy\n",
            "    Found existing installation: scipy 1.13.1\n",
            "    Uninstalling scipy-1.13.1:\n",
            "      Successfully uninstalled scipy-1.13.1\n",
            "  Attempting uninstall: python-dateutil\n",
            "    Found existing installation: python-dateutil 2.9.0.post0\n",
            "    Uninstalling python-dateutil-2.9.0.post0:\n",
            "      Successfully uninstalled python-dateutil-2.9.0.post0\n",
            "  Attempting uninstall: pandas\n",
            "    Found existing installation: pandas 2.2.3\n",
            "    Uninstalling pandas-2.2.3:\n",
            "      Successfully uninstalled pandas-2.2.3\n",
            "  Attempting uninstall: gensim\n",
            "    Found existing installation: gensim 4.3.3\n",
            "    Uninstalling gensim-4.3.3:\n",
            "      Successfully uninstalled gensim-4.3.3\n",
            "\u001b[31mERROR: pip's dependency resolver does not currently take into account all the packages that are installed. This behaviour is the source of the following dependency conflicts.\n",
            "google-colab 1.0.0 requires pandas==2.2.2, but you have pandas 2.2.3 which is incompatible.\u001b[0m\u001b[31m\n",
            "\u001b[0mSuccessfully installed gensim-4.3.3 numpy-1.26.4 pandas-2.2.3 python-dateutil-2.9.0.post0 pytz-2025.2 scipy-1.13.1 six-1.17.0 smart-open-7.1.0 tzdata-2025.2 wrapt-1.17.2\n"
          ]
        },
        {
          "output_type": "display_data",
          "data": {
            "application/vnd.colab-display-data+json": {
              "pip_warning": {
                "packages": [
                  "dateutil",
                  "gensim",
                  "pytz",
                  "six",
                  "smart_open",
                  "wrapt"
                ]
              },
              "id": "4fa25a2e41aa4e40ba620f0eb3f03cd8"
            }
          },
          "metadata": {}
        }
      ]
    },
    {
      "cell_type": "code",
      "execution_count": 54,
      "metadata": {
        "id": "lFToQs5FK5uZ",
        "colab": {
          "base_uri": "https://localhost:8080/"
        },
        "outputId": "719d1cf5-3e06-4587-fc2b-7cf7011591ff"
      },
      "outputs": [
        {
          "output_type": "stream",
          "name": "stderr",
          "text": [
            "[nltk_data] Downloading package punkt to /root/nltk_data...\n",
            "[nltk_data]   Package punkt is already up-to-date!\n"
          ]
        }
      ],
      "source": [
        "import nltk\n",
        "nltk.download('punkt')\n",
        "from nltk.corpus import gutenberg\n",
        "from nltk.tokenize import word_tokenize\n",
        "import multiprocessing\n",
        "from gensim.models import Word2Vec\n",
        "import matplotlib.pyplot as plt\n",
        "from sklearn.decomposition import PCA\n",
        "import numpy as np"
      ]
    },
    {
      "cell_type": "markdown",
      "metadata": {
        "id": "g07zJxG7H9vG"
      },
      "source": [
        "### Datos\n",
        "Utilizaremos como dataset el libro Moby Dick de Herman Melville proveniente del proyecto gutenberg."
      ]
    },
    {
      "cell_type": "code",
      "execution_count": 17,
      "metadata": {
        "id": "l7z4CSBfpR3X",
        "colab": {
          "base_uri": "https://localhost:8080/"
        },
        "outputId": "6ee20896-c7c4-40a5-8a9a-2aba050785b1"
      },
      "outputs": [
        {
          "output_type": "stream",
          "name": "stderr",
          "text": [
            "[nltk_data] Downloading package gutenberg to /root/nltk_data...\n",
            "[nltk_data]   Package gutenberg is already up-to-date!\n",
            "[nltk_data] Downloading package punkt_tab to /root/nltk_data...\n",
            "[nltk_data]   Package punkt_tab is already up-to-date!\n"
          ]
        }
      ],
      "source": [
        "nltk.download('gutenberg')\n",
        "nltk.download('punkt_tab')\n",
        "\n",
        "book_files = ['melville-moby_dick.txt']\n",
        "sentences = []\n",
        "\n",
        "for file in book_files:\n",
        "  book_sentences = gutenberg.sents(file)\n",
        "  sentences.extend([[word.lower() for word in sent if word.isalpha()] for sent in book_sentences])"
      ]
    },
    {
      "cell_type": "markdown",
      "source": [
        "### Modelo"
      ],
      "metadata": {
        "id": "YetfR3h5crw3"
      }
    },
    {
      "cell_type": "code",
      "execution_count": 55,
      "metadata": {
        "id": "ticoqYD1Z3I7"
      },
      "outputs": [],
      "source": [
        "from gensim.models.callbacks import CallbackAny2Vec\n",
        "class callback(CallbackAny2Vec):\n",
        "    \"\"\"\n",
        "    Callback to print loss after each epoch\n",
        "    \"\"\"\n",
        "    def __init__(self):\n",
        "        self.epoch = 0\n",
        "\n",
        "    def on_epoch_end(self, model):\n",
        "        loss = model.get_latest_training_loss()\n",
        "        if self.epoch == 0:\n",
        "            print('Loss after epoch {}: {}'.format(self.epoch, loss))\n",
        "        else:\n",
        "            print('Loss after epoch {}: {}'.format(self.epoch, loss- self.loss_previous_step))\n",
        "        self.epoch += 1\n",
        "        self.loss_previous_step = loss\n"
      ]
    },
    {
      "cell_type": "code",
      "execution_count": 56,
      "metadata": {
        "id": "LEpKubK9XzXN"
      },
      "outputs": [],
      "source": [
        "w2v_model = Word2Vec(min_count=5,    # frecuencia mínima de palabra para incluirla en el vocabulario\n",
        "                     window=2,       # cant de palabras antes y desp de la predicha\n",
        "                     vector_size=100,       # dimensionalidad de los vectores\n",
        "                     negative=20,    # cantidad de negative samples... 0 es no se usa\n",
        "                     workers=1,      # si tienen más cores pueden cambiar este valor\n",
        "                     sg=1)           # modelo 0:CBOW  1:skipgram"
      ]
    },
    {
      "cell_type": "code",
      "execution_count": 57,
      "metadata": {
        "id": "5lTt8wErsf17"
      },
      "outputs": [],
      "source": [
        "w2v_model.build_vocab(sentences)"
      ]
    },
    {
      "cell_type": "code",
      "execution_count": 58,
      "metadata": {
        "id": "TNc9qt4os5AT",
        "colab": {
          "base_uri": "https://localhost:8080/"
        },
        "outputId": "c33e6a97-e334-4a4e-9bbe-8128983b7cf9"
      },
      "outputs": [
        {
          "output_type": "stream",
          "name": "stdout",
          "text": [
            "Cantidad de docs en el corpus: 10059\n"
          ]
        }
      ],
      "source": [
        "print(\"Cantidad de docs en el corpus:\", w2v_model.corpus_count)"
      ]
    },
    {
      "cell_type": "code",
      "execution_count": 59,
      "metadata": {
        "id": "idw9cHF3tSMl",
        "colab": {
          "base_uri": "https://localhost:8080/"
        },
        "outputId": "4be926e5-da02-47d4-89bc-93f81e1f97be"
      },
      "outputs": [
        {
          "output_type": "stream",
          "name": "stdout",
          "text": [
            "Cantidad de words distintas en el corpus: 4204\n"
          ]
        }
      ],
      "source": [
        "print(\"Cantidad de words distintas en el corpus:\", len(w2v_model.wv.index_to_key))"
      ]
    },
    {
      "cell_type": "markdown",
      "metadata": {
        "id": "fC9mZ8DPk-UC"
      },
      "source": [
        "### Entrenando al modelo"
      ]
    },
    {
      "cell_type": "code",
      "execution_count": 60,
      "metadata": {
        "id": "QSp-x0PAsq56",
        "colab": {
          "base_uri": "https://localhost:8080/"
        },
        "outputId": "09c70569-9065-4766-9f93-b3489a7ee9d8"
      },
      "outputs": [
        {
          "output_type": "stream",
          "name": "stdout",
          "text": [
            "Loss after epoch 0: 1798269.625\n",
            "Loss after epoch 1: 1216245.625\n",
            "Loss after epoch 2: 1168786.75\n",
            "Loss after epoch 3: 1091788.5\n",
            "Loss after epoch 4: 1084774.5\n",
            "Loss after epoch 5: 1075157.0\n",
            "Loss after epoch 6: 1060711.0\n",
            "Loss after epoch 7: 1018951.0\n",
            "Loss after epoch 8: 1008744.0\n",
            "Loss after epoch 9: 998082.0\n",
            "Loss after epoch 10: 991895.0\n",
            "Loss after epoch 11: 982012.0\n",
            "Loss after epoch 12: 974657.0\n",
            "Loss after epoch 13: 964851.0\n",
            "Loss after epoch 14: 958589.0\n",
            "Loss after epoch 15: 935172.0\n",
            "Loss after epoch 16: 916770.0\n",
            "Loss after epoch 17: 907668.0\n",
            "Loss after epoch 18: 903616.0\n",
            "Loss after epoch 19: 899654.0\n",
            "Loss after epoch 20: 889044.0\n",
            "Loss after epoch 21: 890426.0\n",
            "Loss after epoch 22: 885766.0\n",
            "Loss after epoch 23: 881264.0\n",
            "Loss after epoch 24: 879738.0\n",
            "Loss after epoch 25: 878220.0\n",
            "Loss after epoch 26: 873280.0\n",
            "Loss after epoch 27: 873520.0\n",
            "Loss after epoch 28: 868044.0\n",
            "Loss after epoch 29: 869736.0\n"
          ]
        },
        {
          "output_type": "execute_result",
          "data": {
            "text/plain": [
              "(4231914, 6550830)"
            ]
          },
          "metadata": {},
          "execution_count": 60
        }
      ],
      "source": [
        "w2v_model.train(sentences,\n",
        "                 total_examples=w2v_model.corpus_count,\n",
        "                 epochs=30,\n",
        "                 compute_loss = True,\n",
        "                 callbacks=[callback()]\n",
        "                 )"
      ]
    },
    {
      "cell_type": "markdown",
      "metadata": {
        "id": "ddT9NVuNlCAe"
      },
      "source": [
        "### 4 - Evaluando el modelo"
      ]
    },
    {
      "cell_type": "code",
      "execution_count": 41,
      "metadata": {
        "id": "6cHN9xGLuPEm",
        "colab": {
          "base_uri": "https://localhost:8080/"
        },
        "outputId": "9cdb82a7-1fd7-46c8-c5ed-8734e959845c"
      },
      "outputs": [
        {
          "output_type": "execute_result",
          "data": {
            "text/plain": [
              "[('vessel', 0.5375268459320068),\n",
              " ('craft', 0.5317735075950623),\n",
              " ('ding', 0.513092577457428),\n",
              " ('rigged', 0.45820027589797974),\n",
              " ('moody', 0.4575078785419464),\n",
              " ('timbers', 0.4543507397174835),\n",
              " ('authority', 0.45367303490638733),\n",
              " ('song', 0.4494699239730835),\n",
              " ('schooner', 0.4493936598300934),\n",
              " ('goney', 0.4485059976577759)]"
            ]
          },
          "metadata": {},
          "execution_count": 41
        }
      ],
      "source": [
        "w2v_model.wv.most_similar(positive=[\"ship\"], topn=10)"
      ]
    },
    {
      "cell_type": "markdown",
      "source": [
        "**Conclusiones**: Todas las palabras tienen una relación estrecha con un barco.\n",
        "\n",
        "\n",
        "*   Vessel, Craft, Ding (Dinghy), Timbers, Schooner: Son todas formas de llamar a embarcaciones o tipos de embarcaciones.\n",
        "*   Rigged: Conjunto de velas de un barco.\n",
        "*   Moody: Probablemente se refiere al humor de los marineros dentro del barco.\n",
        "*   Authority: Probablemente se refiere a la jerarquia dentro de los marineros del barco.\n",
        "*   Song: Canciones que eran cantadas por los marineros.\n",
        "*   Goney (Gooney): Tipo de ave marina. Albatros en español, similar a la gaviota.\n",
        "\n"
      ],
      "metadata": {
        "id": "GTbPleNiSAGk"
      }
    },
    {
      "cell_type": "code",
      "execution_count": 39,
      "metadata": {
        "id": "47HiU5gdkdMq",
        "colab": {
          "base_uri": "https://localhost:8080/"
        },
        "outputId": "2b76a680-8e1e-492f-f402-9761c89217ab"
      },
      "outputs": [
        {
          "output_type": "execute_result",
          "data": {
            "text/plain": [
              "[('sperm', 0.6740378141403198),\n",
              " ('whales', 0.6121435761451721),\n",
              " ('beheaded', 0.5992588996887207),\n",
              " ('grampus', 0.5943945050239563),\n",
              " ('designated', 0.5807713866233826),\n",
              " ('elephant', 0.5788158178329468),\n",
              " ('heidelburgh', 0.5675187706947327),\n",
              " ('painting', 0.5643758177757263),\n",
              " ('volume', 0.5600870251655579),\n",
              " ('aged', 0.5577319860458374)]"
            ]
          },
          "metadata": {},
          "execution_count": 39
        }
      ],
      "source": [
        "w2v_model.wv.most_similar(positive=[\"whale\"], topn=10)"
      ]
    },
    {
      "cell_type": "markdown",
      "source": [
        "**Conclusiones**: En su mayoria son relaciones directas con el animal, otras pueden ser expresiones que se usan frecuentemente al describir al animal.\n",
        "\n",
        "\n",
        "*   Sperm: Especie de ballena \"Sperm Whale\".\n",
        "*   Whales: Plural de whale.\n",
        "*   Beheaded: \"Decapitada\", probablemente relacionado a la caza de ballenas.\n",
        "*   Grampus: Especie de delfín.\n",
        "*   Designated: No tiene relación directa con el animal. Puede ser utilizado frecuentemente cuando se clasifica o se define la especie de un animal.\n",
        "*   Elephant: Probablemente se usa frecuentemente para comparar el tamaño de la ballena.\n",
        "*   Heidelburgh: Hace referencia al \"Heidelburgh Tun\", un barril de vino famoso. En el libro se compara este barril con la cabeza de la ballena.\n",
        "*   Painting: Probablemente en el libro se hace referencia a pinturas de las ballenas.\n",
        "*   Volume: Referencia a la dimensión de las ballenas.\n",
        "*   Aged: Probablemente se hace referencia a las ballenas adultas en el libro."
      ],
      "metadata": {
        "id": "uY0VmPJ1VDQy"
      }
    },
    {
      "cell_type": "code",
      "execution_count": 33,
      "metadata": {
        "id": "DT4Rvno2mD65",
        "colab": {
          "base_uri": "https://localhost:8080/"
        },
        "outputId": "a76c9c2c-df59-46c5-cd20-d9113917d7a5"
      },
      "outputs": [
        {
          "output_type": "execute_result",
          "data": {
            "text/plain": [
              "[('sky', 0.6041075587272644),\n",
              " ('space', 0.5834466218948364),\n",
              " ('euroclydon', 0.5563244223594666),\n",
              " ('rises', 0.5296376347541809),\n",
              " ('dreadful', 0.5229902863502502),\n",
              " ('tempestuous', 0.5164811611175537),\n",
              " ('thence', 0.5160410404205322),\n",
              " ('wait', 0.5140104293823242),\n",
              " ('gam', 0.5132687091827393),\n",
              " ('revelry', 0.5117452144622803)]"
            ]
          },
          "metadata": {},
          "execution_count": 33
        }
      ],
      "source": [
        "w2v_model.wv.most_similar(positive=[\"wind\"], topn=10)"
      ]
    },
    {
      "cell_type": "markdown",
      "source": [
        "**Conclusiones**: Casi todas las palabras estan altamente relacionadas al termino.\n",
        "\n",
        "\n",
        "*   Sky, Space: Hacen referencia a la naturaleza.\n",
        "*   Euroclydon: Un tipo de viento que sopla en el mediterraneo.\n",
        "*   Rises: Puede referir a que levanta la velocidad del viento.\n",
        "*   Dreadful: \"Terrible\", puede referir a las condiciones que se vivian con vientos fuertes.\n",
        "*   Tempestuous: Tormenta fuerte.\n",
        "*   Thence: Palabra antigua del ingles que indica dirección, probablemente utilizada para indicar de donde venia el viento.\n",
        "*   Wait: Probablemente utilizado en situaciones de poco viento, esperando a que este aumente.\n",
        "*   Gam: Reunión entre barcos cazadores de ballenas. Probablemente se realizaba cuando el viento era bajo.\n",
        "*   Revelry: ~ \"Fiesta\". Palabra no tan relacionada, podria ocurrir que festejaran cuando el viento era bajo.\n"
      ],
      "metadata": {
        "id": "l2xYPS9AYCLb"
      }
    },
    {
      "cell_type": "code",
      "execution_count": 47,
      "metadata": {
        "id": "XPLDPgzBmQXt",
        "colab": {
          "base_uri": "https://localhost:8080/"
        },
        "outputId": "ed0dac69-3425-42b0-af6f-cf19b558d452"
      },
      "outputs": [
        {
          "output_type": "execute_result",
          "data": {
            "text/plain": [
              "[('weapon', 0.5787127614021301),\n",
              " ('knife', 0.56232088804245),\n",
              " ('boarding', 0.5620742440223694),\n",
              " ('tattooing', 0.5585732460021973),\n",
              " ('prow', 0.5421538949012756)]"
            ]
          },
          "metadata": {},
          "execution_count": 47
        }
      ],
      "source": [
        "w2v_model.wv.most_similar(positive=[\"harpoon\"], topn=5)"
      ]
    },
    {
      "cell_type": "markdown",
      "source": [
        "**Conclusiones**: Todas las palabras estan relacionadas con el termino.\n",
        "\n",
        "\n",
        "*   Weapon, Knife: Referencia directa al arma para cazar ballenas.\n",
        "*   Boarding: Referencia a \"Boarding Sword\" arma utilizada por marineros / piratas.\n",
        "*   Tattooing: Probablemente referencia a la apariencia de las personas que utilizaban los harpones como Queequeg.\n",
        "*   Prow: Proa de un barco, puede ser el lugar desde donde se utilizan los harpones.\n"
      ],
      "metadata": {
        "id": "AzC4HJI5bDsb"
      }
    },
    {
      "cell_type": "markdown",
      "source": [
        "Momentos del día"
      ],
      "metadata": {
        "id": "-k4a5DjczLM7"
      }
    },
    {
      "cell_type": "code",
      "source": [
        "w2v_model.wv.most_similar(positive=[\"night\"], topn=5)"
      ],
      "metadata": {
        "colab": {
          "base_uri": "https://localhost:8080/"
        },
        "id": "loLbWONuxE93",
        "outputId": "6e89ec41-8cc2-4e15-fe96-77a52b72da92"
      },
      "execution_count": 64,
      "outputs": [
        {
          "output_type": "execute_result",
          "data": {
            "text/plain": [
              "[('winter', 0.5702637434005737),\n",
              " ('sunrise', 0.555353045463562),\n",
              " ('year', 0.5384345650672913),\n",
              " ('month', 0.5356404781341553),\n",
              " ('sunday', 0.5325372219085693)]"
            ]
          },
          "metadata": {},
          "execution_count": 64
        }
      ]
    },
    {
      "cell_type": "markdown",
      "source": [
        "Números"
      ],
      "metadata": {
        "id": "a-HEyjPZzNEg"
      }
    },
    {
      "cell_type": "code",
      "source": [
        "w2v_model.wv.most_similar(positive=[\"ten\"], topn=5)"
      ],
      "metadata": {
        "colab": {
          "base_uri": "https://localhost:8080/"
        },
        "id": "DUq2AoyRxZmG",
        "outputId": "ff993a34-9e52-4869-e297-c52cac8bcae5"
      },
      "execution_count": 66,
      "outputs": [
        {
          "output_type": "execute_result",
          "data": {
            "text/plain": [
              "[('fifteen', 0.669240415096283),\n",
              " ('sixteen', 0.6612465381622314),\n",
              " ('seventy', 0.6552239656448364),\n",
              " ('eighteen', 0.6471483707427979),\n",
              " ('twenty', 0.6375025510787964)]"
            ]
          },
          "metadata": {},
          "execution_count": 66
        }
      ]
    },
    {
      "cell_type": "markdown",
      "source": [
        "Unidades de medida"
      ],
      "metadata": {
        "id": "M5wniL4szT1b"
      }
    },
    {
      "cell_type": "code",
      "source": [
        "w2v_model.wv.most_similar(positive=[\"feet\"], topn=5)"
      ],
      "metadata": {
        "colab": {
          "base_uri": "https://localhost:8080/"
        },
        "id": "zqhbtvpwyhza",
        "outputId": "590f0823-0998-4f35-b317-f86f9b40f9de"
      },
      "execution_count": 79,
      "outputs": [
        {
          "output_type": "execute_result",
          "data": {
            "text/plain": [
              "[('fathoms', 0.6761485934257507),\n",
              " ('inches', 0.6157276630401611),\n",
              " ('twenty', 0.5973724722862244),\n",
              " ('tahiti', 0.5910554528236389),\n",
              " ('barrel', 0.5596619248390198)]"
            ]
          },
          "metadata": {},
          "execution_count": 79
        }
      ]
    },
    {
      "cell_type": "markdown",
      "source": [
        "\n",
        "\n",
        "*   Fathoms: Unidad de medida equivalente a 6 pies\n",
        "*   Inches: Pulgadas\n",
        "*   Tahiti: Isla del pacifico, probablemente se menciona la distancia a la isla\n",
        "*   Barrel: Unidad de medida de volúmen\n",
        "\n"
      ],
      "metadata": {
        "id": "0CPb3bpvzVGp"
      }
    },
    {
      "cell_type": "markdown",
      "metadata": {
        "id": "_g8UVWe6lFmh"
      },
      "source": [
        "### 5 - Visualización 2D"
      ]
    },
    {
      "cell_type": "code",
      "execution_count": 48,
      "metadata": {
        "id": "pDxEVXAivjr9"
      },
      "outputs": [],
      "source": [
        "from sklearn.decomposition import IncrementalPCA\n",
        "from sklearn.manifold import TSNE\n",
        "import numpy as np\n",
        "\n",
        "def reduce_dimensions(model, num_dimensions = 2 ):\n",
        "\n",
        "    vectors = np.asarray(model.wv.vectors)\n",
        "    labels = np.asarray(model.wv.index_to_key)\n",
        "\n",
        "    tsne = TSNE(n_components=num_dimensions, random_state=0)\n",
        "    vectors = tsne.fit_transform(vectors)\n",
        "\n",
        "    return vectors, labels"
      ]
    },
    {
      "cell_type": "code",
      "execution_count": 51,
      "metadata": {
        "id": "NCCXtDpcugmd",
        "colab": {
          "base_uri": "https://localhost:8080/",
          "height": 542
        },
        "outputId": "4d087fae-5692-4878-ad43-a20001a18571"
      },
      "outputs": [
        {
          "output_type": "display_data",
          "data": {
            "text/html": [
              "<html>\n",
              "<head><meta charset=\"utf-8\" /></head>\n",
              "<body>\n",
              "    <div>            <script src=\"https://cdnjs.cloudflare.com/ajax/libs/mathjax/2.7.5/MathJax.js?config=TeX-AMS-MML_SVG\"></script><script type=\"text/javascript\">if (window.MathJax && window.MathJax.Hub && window.MathJax.Hub.Config) {window.MathJax.Hub.Config({SVG: {font: \"STIX-Web\"}});}</script>                <script type=\"text/javascript\">window.PlotlyConfig = {MathJaxConfig: 'local'};</script>\n",
              "        <script charset=\"utf-8\" src=\"https://cdn.plot.ly/plotly-2.35.2.min.js\"></script>                <div id=\"ae56a662-107c-4ab2-b41f-7b5a9ef11f54\" class=\"plotly-graph-div\" style=\"height:525px; width:100%;\"></div>            <script type=\"text/javascript\">                                    window.PLOTLYENV=window.PLOTLYENV || {};                                    if (document.getElementById(\"ae56a662-107c-4ab2-b41f-7b5a9ef11f54\")) {                    Plotly.newPlot(                        \"ae56a662-107c-4ab2-b41f-7b5a9ef11f54\",                        [{\"hovertemplate\":\"x=%{x}\\u003cbr\\u003ey=%{y}\\u003cbr\\u003etext=%{text}\\u003cextra\\u003e\\u003c\\u002fextra\\u003e\",\"legendgroup\":\"\",\"marker\":{\"color\":\"#636efa\",\"symbol\":\"circle\"},\"mode\":\"markers+text\",\"name\":\"\",\"orientation\":\"v\",\"showlegend\":false,\"text\":[\"the\",\"of\",\"and\",\"a\",\"to\",\"in\",\"that\",\"his\",\"it\",\"i\",\"he\",\"but\",\"s\",\"as\",\"is\",\"with\",\"was\",\"for\",\"all\",\"this\",\"at\",\"whale\",\"by\",\"not\",\"from\",\"him\",\"so\",\"on\",\"be\",\"one\",\"you\",\"there\",\"now\",\"had\",\"have\",\"or\",\"were\",\"they\",\"which\",\"like\",\"me\",\"then\",\"their\",\"some\",\"what\",\"when\",\"are\",\"an\",\"my\",\"no\",\"upon\",\"out\",\"man\",\"into\",\"up\",\"ship\",\"ahab\",\"more\",\"if\",\"them\",\"ye\",\"we\",\"sea\",\"old\",\"would\",\"other\",\"been\",\"over\",\"these\",\"will\",\"though\",\"down\",\"only\",\"its\",\"such\",\"who\",\"yet\",\"head\",\"boat\",\"time\",\"long\",\"her\",\"captain\",\"any\",\"here\",\"very\",\"still\",\"about\",\"than\",\"do\",\"great\",\"those\",\"said\",\"before\",\"two\",\"has\",\"t\",\"must\",\"seemed\",\"most\",\"white\",\"last\",\"see\",\"way\",\"thou\",\"after\",\"whales\",\"again\",\"did\",\"stubb\",\"how\",\"queequeg\",\"little\",\"your\",\"round\",\"while\",\"three\",\"say\",\"sperm\",\"men\",\"may\",\"can\",\"first\",\"through\",\"every\",\"well\",\"us\",\"being\",\"much\",\"where\",\"off\",\"good\",\"could\",\"same\",\"hand\",\"side\",\"our\",\"ever\",\"never\",\"himself\",\"look\",\"own\",\"starbuck\",\"deck\",\"almost\",\"go\",\"even\",\"water\",\"thing\",\"too\",\"should\",\"away\",\"might\",\"come\",\"made\",\"day\",\"world\",\"sir\",\"life\",\"chapter\",\"pequod\",\"fish\",\"among\",\"many\",\"seen\",\"far\",\"back\",\"let\",\"line\",\"without\",\"nor\",\"eyes\",\"oh\",\"cried\",\"aye\",\"know\",\"god\",\"sort\",\"right\",\"thought\",\"night\",\"part\",\"once\",\"boats\",\"air\",\"crew\",\"don\",\"whole\",\"take\",\"half\",\"tell\",\"against\",\"thus\",\"things\",\"whaling\",\"thee\",\"came\",\"soon\",\"hands\",\"mast\",\"each\",\"small\",\"feet\",\"both\",\"something\",\"full\",\"till\",\"think\",\"under\",\"she\",\"between\",\"why\",\"just\",\"saw\",\"called\",\"place\",\"another\",\"nothing\",\"found\",\"ll\",\"towards\",\"poor\",\"thy\",\"make\",\"times\",\"heard\",\"body\",\"along\",\"high\",\"flask\",\"stand\",\"moment\",\"sight\",\"voyage\",\"sail\",\"sun\",\"end\",\"new\",\"hold\",\"strange\",\"went\",\"shall\",\"years\",\"leviathan\",\"nantucket\",\"face\",\"get\",\"however\",\"does\",\"few\",\"black\",\"dead\",\"because\",\"also\",\"whether\",\"am\",\"heart\",\"death\",\"stood\",\"oil\",\"certain\",\"perhaps\",\"leg\",\"indeed\",\"arm\",\"going\",\"eye\",\"sometimes\",\"iron\",\"seems\",\"ships\",\"whose\",\"true\",\"seas\",\"matter\",\"heads\",\"give\",\"jonah\",\"seem\",\"itself\",\"moby\",\"cabin\",\"wild\",\"dick\",\"soul\",\"hard\",\"days\",\"standing\",\"sailor\",\"ocean\",\"harpooneer\",\"mind\",\"always\",\"known\",\"land\",\"tail\",\"present\",\"young\",\"mate\",\"within\",\"large\",\"light\",\"ere\",\"lay\",\"length\",\"instant\",\"harpoon\",\"bed\",\"bildad\",\"open\",\"beneath\",\"enough\",\"word\",\"fire\",\"set\",\"least\",\"yes\",\"board\",\"peleg\",\"four\",\"pip\",\"done\",\"d\",\"morning\",\"living\",\"put\",\"vast\",\"often\",\"case\",\"point\",\"whalemen\",\"rather\",\"top\",\"near\",\"looking\",\"deep\",\"wind\",\"waters\",\"name\",\"cannot\",\"myself\",\"general\",\"keep\",\"business\",\"therefore\",\"left\",\"lord\",\"having\",\"turned\",\"best\",\"work\",\"since\",\"fishery\",\"boy\",\"king\",\"together\",\"order\",\"looked\",\"lower\",\"reason\",\"mr\",\"hear\",\"fast\",\"better\",\"blood\",\"aloft\",\"turn\",\"further\",\"mouth\",\"live\",\"book\",\"spout\",\"st\",\"short\",\"rope\",\"themselves\",\"chase\",\"fine\",\"gone\",\"second\",\"dark\",\"watch\",\"above\",\"jaw\",\"broad\",\"feel\",\"tashtego\",\"room\",\"indian\",\"peculiar\",\"find\",\"next\",\"harpooneers\",\"close\",\"devil\",\"home\",\"ivory\",\"mark\",\"vessel\",\"call\",\"cook\",\"goes\",\"savage\",\"bottom\",\"entire\",\"curious\",\"green\",\"ground\",\"fellow\",\"craft\",\"grand\",\"try\",\"run\",\"stern\",\"coming\",\"comes\",\"less\",\"main\",\"began\",\"cut\",\"turning\",\"taking\",\"forth\",\"forward\",\"slowly\",\"sailors\",\"coffin\",\"speak\",\"heaven\",\"rest\",\"sharks\",\"thousand\",\"bone\",\"taken\",\"besides\",\"hundred\",\"wide\",\"behind\",\"broken\",\"suddenly\",\"nevertheless\",\"monster\",\"bows\",\"bones\",\"took\",\"teeth\",\"carpenter\",\"struck\",\"story\",\"particular\",\"english\",\"below\",\"common\",\"ten\",\"pull\",\"stranger\",\"waves\",\"view\",\"used\",\"lost\",\"voice\",\"told\",\"kept\",\"quarter\",\"mighty\",\"several\",\"people\",\"sleep\",\"form\",\"touching\",\"running\",\"chance\",\"sure\",\"else\",\"got\",\"fact\",\"making\",\"whaleman\",\"earth\",\"whatever\",\"says\",\"straight\",\"sat\",\"lance\",\"mine\",\"blue\",\"door\",\"caught\",\"sails\",\"whom\",\"queer\",\"nigh\",\"o\",\"especially\",\"somehow\",\"hole\",\"means\",\"five\",\"noble\",\"house\",\"bow\",\"knew\",\"anything\",\"rolled\",\"sudden\",\"seamen\",\"sharp\",\"ready\",\"creature\",\"coast\",\"surface\",\"em\",\"hours\",\"mere\",\"wondrous\",\"passed\",\"nature\",\"felt\",\"quite\",\"clear\",\"course\",\"pipe\",\"parts\",\"alone\",\"brow\",\"sound\",\"calm\",\"art\",\"quick\",\"red\",\"mates\",\"concerning\",\"wake\",\"cape\",\"saying\",\"hour\",\"either\",\"hat\",\"mean\",\"steelkilt\",\"purpose\",\"gold\",\"mortal\",\"single\",\"cry\",\"plainly\",\"low\",\"mass\",\"distance\",\"others\",\"makes\",\"oars\",\"object\",\"easy\",\"plain\",\"fixed\",\"de\",\"power\",\"various\",\"darted\",\"forehead\",\"help\",\"brought\",\"ha\",\"around\",\"leaving\",\"gave\",\"gentlemen\",\"sailed\",\"human\",\"mad\",\"holding\",\"lines\",\"bulwarks\",\"aspect\",\"table\",\"brain\",\"middle\",\"arms\",\"placed\",\"famous\",\"skin\",\"forecastle\",\"shot\",\"bear\",\"cutting\",\"ve\",\"chief\",\"heavy\",\"flukes\",\"suppose\",\"seeing\",\"manner\",\"held\",\"daggoo\",\"wonder\",\"truth\",\"ago\",\"sign\",\"strong\",\"natural\",\"wood\",\"fell\",\"sky\",\"given\",\"use\",\"greenland\",\"legs\",\"unknown\",\"born\",\"boys\",\"loose\",\"spring\",\"weather\",\"killed\",\"helm\",\"turns\",\"previous\",\"town\",\"rose\",\"rolling\",\"american\",\"blubber\",\"remained\",\"skeleton\",\"twenty\",\"creatures\",\"ashore\",\"landlord\",\"nearly\",\"hope\",\"start\",\"rigging\",\"sailing\",\"pacific\",\"account\",\"none\",\"passage\",\"fin\",\"fair\",\"thoughts\",\"company\",\"want\",\"fifty\",\"drawing\",\"forty\",\"fear\",\"foot\",\"hardly\",\"steel\",\"completely\",\"third\",\"stop\",\"island\",\"didn\",\"kill\",\"idea\",\"hammock\",\"fresh\",\"darkness\",\"harpoons\",\"intervals\",\"doubt\",\"jet\",\"miles\",\"free\",\"strike\",\"visible\",\"already\",\"during\",\"storm\",\"nose\",\"hence\",\"show\",\"won\",\"proper\",\"ho\",\"aft\",\"bulk\",\"hull\",\"planks\",\"except\",\"knife\",\"considering\",\"pass\",\"cold\",\"six\",\"woe\",\"across\",\"tossed\",\"generally\",\"instances\",\"works\",\"thunder\",\"battle\",\"cast\",\"upper\",\"rising\",\"soft\",\"substance\",\"species\",\"swimming\",\"horn\",\"really\",\"hammer\",\"late\",\"suspended\",\"carried\",\"touch\",\"vain\",\"possibly\",\"flying\",\"hung\",\"act\",\"smoke\",\"supper\",\"possible\",\"die\",\"jaws\",\"huge\",\"hoisted\",\"shark\",\"snow\",\"play\",\"pretty\",\"final\",\"hast\",\"sideways\",\"hearts\",\"certainly\",\"m\",\"royal\",\"nay\",\"altogether\",\"question\",\"south\",\"pointed\",\"pole\",\"aside\",\"words\",\"steady\",\"leeward\",\"astern\",\"entirely\",\"stands\",\"e\",\"lamp\",\"mariners\",\"strangely\",\"unless\",\"pilot\",\"knows\",\"lightning\",\"shipmates\",\"oar\",\"giving\",\"gods\",\"become\",\"person\",\"bit\",\"coat\",\"meanwhile\",\"leaning\",\"bound\",\"glance\",\"thinking\",\"gale\",\"ancient\",\"parsee\",\"hunters\",\"scene\",\"fishermen\",\"mild\",\"state\",\"sides\",\"command\",\"feeling\",\"finally\",\"horse\",\"whiteness\",\"somewhat\",\"alive\",\"thirty\",\"looks\",\"seated\",\"started\",\"fedallah\",\"eyeing\",\"wooden\",\"year\",\"wholly\",\"kind\",\"overboard\",\"ahead\",\"read\",\"cruising\",\"thick\",\"yards\",\"alongside\",\"precisely\"],\"x\":[0.518657,0.6113854,0.8069258,0.0032965548,-15.931054,0.9676028,0.22959343,0.40291393,0.08200604,18.724817,10.052756,0.5733544,18.317354,-5.265853,0.7679317,-2.4682195,-11.4476185,0.9788251,-9.212813,0.1490843,-20.883636,18.301435,-11.23943,-12.217025,-20.927055,-19.636957,-2.8985257,1.9867393,-5.5468397,3.9536998,17.927938,14.747307,13.801516,-15.7311125,-6.259865,-7.8168,-15.781209,-4.124745,-5.723883,8.2761345,-27.23623,-5.7907324,11.98221,5.16952,12.588028,6.9368157,14.228722,-5.4724708,15.759702,-1.4669715,-5.9189224,0.31569088,23.197212,-17.615383,-8.9859705,18.278378,8.5164175,0.11030673,-11.7508745,-24.624578,18.5492,22.217703,8.307436,9.622629,-21.770063,24.259304,-7.8439193,-10.202922,11.550835,-16.056238,-9.201055,6.246133,-5.829775,-10.466948,-4.958332,22.085037,-12.084877,-10.492304,-15.889934,-12.450077,5.313396,3.8806045,7.9902887,0.7184462,16.101746,-1.920122,-18.67018,10.96443,-11.587232,-14.802918,19.948555,9.945609,11.67178,2.0563583,12.642528,0.1606741,20.730497,-10.175309,-14.798471,-7.125478,-26.414803,-0.35549057,12.4508505,-3.0316253,29.18061,-10.224742,18.26072,5.5588017,-12.052568,13.891801,-19.078365,10.475165,11.419674,15.0007,-16.8264,-24.464792,30.898184,16.64025,18.295294,15.380782,-7.0059123,-14.697557,26.787153,-14.053714,-17.103216,-19.074667,-19.239475,-11.494053,-3.5761914,5.556894,8.903442,22.869259,-16.127283,2.1642313,-0.07751539,-15.574364,13.34119,22.273218,-16.532173,-9.189688,13.814607,-2.2943249,12.681977,-2.565872,-12.552455,6.2859464,-8.147541,-17.960617,-1.730293,4.8607826,-10.198063,-4.75749,-8.480601,10.265046,-2.974679,9.995656,-10.79549,19.668213,-3.7642496,18.417315,5.466854,11.832974,6.9015245,13.011795,-7.906409,-20.35349,-2.4967108,-17.523968,-11.970508,-23.446474,14.596729,-12.609718,17.634878,11.309527,15.512057,15.130076,24.963678,23.3653,15.607828,4.843663,6.0435567,10.979687,-1.133753,-19.334375,-16.63615,-22.204973,20.61843,-22.385174,22.318218,-17.433287,-17.290945,-19.530777,-14.195221,4.312397,12.636107,-2.2619748,-23.837982,-24.059694,3.7680035,0.29766646,-3.5473893,-0.6746799,30.770758,-6.485724,4.5267134,-7.634742,-0.27911255,4.918463,0.15483502,-21.648415,-5.6289816,18.809582,4.5319767,5.249935,0.35400054,-19.650867,24.984896,14.218427,10.246695,18.674753,-12.312116,20.604338,27.728025,2.2189238,4.985184,8.512817,2.5235171,-5.515015,-16.73133,12.642749,12.076079,-9.730423,0.47598764,11.609737,-2.3959734,-18.157377,-18.636568,9.794477,4.065696,-2.4902802,-6.7972455,-16.053625,27.672132,19.499191,17.472927,-1.3683283,9.394963,-2.471809,-9.664267,26.89414,-13.363718,-4.20233,-2.3556888,-6.375356,-6.2436132,18.675083,3.5562143,-3.0862732,-11.005053,19.657707,4.796637,-4.56282,9.944223,-3.2038877,3.290451,3.595907,5.3847475,17.157719,-1.6477743,4.049801,15.0588045,11.016748,7.111112,14.199732,2.3785708,0.21917816,-18.791813,21.186256,-11.813051,-9.951943,-26.486034,-13.520655,3.7627573,-26.485212,7.6054945,-23.515198,28.262663,-7.7888947,18.426466,-14.275051,23.11995,22.338934,-16.848476,14.183201,9.77508,3.9997356,-2.3517115,17.134384,9.515336,-9.169593,-3.7941964,-21.86469,0.5861392,-4.9074483,4.6871033,-9.209773,-1.15387,-17.215979,10.766649,-20.660051,-12.514991,-4.552391,13.736449,4.8326516,-8.952373,6.9364867,16.9713,-2.851248,10.569528,29.68859,12.635036,-11.067071,18.64355,-4.081843,11.677893,5.7645717,-6.0921774,-9.483046,8.832088,-3.325097,15.91875,15.794759,-2.6400404,-25.115396,-9.699637,-14.915798,2.1631427,13.123252,21.135822,-14.60619,-19.822208,1.8346971,11.407912,-10.492874,-6.0435314,2.3828557,20.05479,9.387357,7.486811,13.290257,-13.643589,16.324522,14.404313,20.696005,20.79806,6.139093,-0.8343988,-16.731094,-14.390133,-0.91358334,14.538412,17.953457,-8.021202,20.357206,-4.6203995,-1.5212437,6.0204635,-21.178062,-14.102122,3.3147135,16.050049,-17.542164,22.801432,-13.562125,0.10623382,-23.92351,-9.166135,7.809968,-22.114967,16.72835,7.9838977,5.2754498,-27.202637,-7.2484517,-2.399147,-21.679369,-6.5121355,17.894234,15.351476,0.17194955,-16.181036,-13.631635,7.398026,-3.0371537,16.43691,10.9311,2.4612122,-0.57631636,-11.587203,-17.239935,20.34053,2.54047,8.2374935,-14.559686,3.4006634,-2.3551655,-15.206581,8.437987,19.148573,1.3384775,11.310796,12.76178,5.854295,-8.654304,-19.370377,9.9485035,7.3392973,-3.3596003,-10.96073,-6.245908,-9.060402,-9.307459,-8.569117,-5.7865987,-14.495493,7.61569,18.709003,-11.652686,-0.18592377,-10.797473,9.073008,27.81791,-1.9341954,-23.411627,4.2457356,28.284935,-15.295417,-19.49632,-6.578267,-15.7471695,9.6012335,-24.643621,-12.934581,-4.5578403,2.3066263,0.0057290713,13.337183,-22.08085,0.8083579,-3.945516,17.797026,-5.0555377,-2.825002,29.324347,4.726018,6.057846,-13.826118,-9.136907,-5.5241985,27.24013,9.301478,-10.433472,5.0170207,1.8325915,3.8875718,11.649696,4.6741447,17.375656,-4.9244814,-2.8518548,-16.276894,-3.9581687,4.712655,-16.566566,5.9306345,2.121447,-6.354016,18.823223,8.933264,-4.153378,15.936717,-6.8135176,-6.6614447,-15.088469,15.562448,-14.616049,-18.075907,-9.519759,-2.3864393,21.010252,25.67481,-14.293638,14.629097,17.885641,-7.81213,-14.077749,1.8632867,30.116905,13.780826,6.8351297,-15.133025,-7.4665294,-3.0589423,-15.628058,-12.163717,6.125782,-2.076034,-2.3959796,6.329958,16.446585,-14.928168,15.8897915,28.797276,-2.3358955,9.136527,-7.094554,9.616843,-11.19524,-8.233324,-15.545154,-7.0962377,-8.109347,7.148158,-9.724286,15.210653,14.792892,-8.783468,28.813562,-8.871436,16.874624,6.880048,1.4614875,-26.361204,10.971815,-2.990587,6.9375377,2.9827158,-11.55058,16.71821,-13.45145,-1.1749024,11.099115,6.2618604,-15.718179,8.347333,-17.065622,7.0955973,-12.554083,-26.766857,-2.3600547,1.6826473,-8.115748,-4.113336,24.165937,3.2261503,-1.126707,20.351791,-1.5872972,11.578158,-5.2338815,-6.486068,-19.807695,-22.879173,19.559666,-22.255552,-12.86088,-6.6777244,3.395548,8.115078,1.4580604,-3.4561434,-7.730528,-4.9397817,-12.106776,7.3829703,-0.37605238,-1.5910153,-19.590853,-1.7656844,-5.5589194,19.899004,2.2057767,-5.0008507,-11.459898,-16.345839,-19.106405,19.047209,21.940582,-6.6065345,-12.679142,5.0235662,-9.25246,-6.817906,-23.318583,1.3696227,-14.542106,8.922933,27.086802,1.7913058,-1.9430069,2.5567381,-4.7000365,-11.399007,-16.571333,-16.59576,-0.34497297,17.068817,-3.2933667,0.78705245,6.5283084,16.1398,0.538255,12.375729,-17.291548,-6.0647345,-0.5367513,-3.957146,2.9669096,17.641478,20.77763,-14.385126,16.137306,1.3115078,-13.001975,18.263588,29.232883,9.771234,26.179642,13.048112,9.236345,-15.66248,24.085339,-4.9950514,-23.27967,14.888222,-0.23791803,-11.603066,-15.21768,3.756178,-3.1476638,-1.6536449,20.010952,20.212725,28.608353,-10.24812,29.451933,-1.4591106,-4.3968797,-14.327763,1.5354067,-23.96941,2.1217315,17.956991,8.942173,20.512138,-18.701601,-0.6550911,-0.6876228,0.3234487,-19.051207,-4.549043,-15.36692,-8.581095,-16.661665,30.778305,-12.93036,17.996235,5.8752713,-7.7118816,2.4595273,-18.345198,-3.9296446,-11.718705,-17.8589,20.489004,1.3170696,22.543983,-4.9463153,7.18931,-13.336491,-1.2570446,1.8075215,-7.4235415,7.803366,-28.400383,12.379735,29.946432,2.013547,-5.833585,2.0872405,14.920321,12.747331,12.69356,15.609887,14.391323,-17.50707,-17.781944,-11.97827,-4.8431873,2.257915,11.337656,-9.248588,10.902063,-9.232031,-3.6455379,17.726175,-8.778338,3.4069796,-15.000473,-9.960471,-12.763583,-6.9620595,-6.893581,-12.763787,-0.22853877,18.194052,-8.584083,16.043364,-7.529237,-5.1611595,-21.009272,19.257742,-10.264953,3.3177278,13.253965,-9.511887,28.522064,-13.202446,14.808963,-11.514071,18.795366,5.211353,23.811209,-10.306251,-6.511107,15.480007,-8.869438,-6.998298,-2.5929217,12.413095,0.6041232,-12.181245,-4.713918,-11.266266,-0.87623596,21.742199,-13.165973,-14.213028,-25.2363,5.09744,24.660261,-0.70416355,-11.184314,17.63352,-7.69643,-6.6467676,19.494629,-4.6522865,11.682757,7.8771873,8.320513,-7.3985457,-9.432873,20.50185,-11.732415,-1.045032,5.887895,12.648657,-12.785453,12.578976,3.653371,14.7139845,-15.348913,0.9146806,-13.151371,-0.8681494,-4.534619,-21.732624,18.496605,1.5111421,-5.203693,25.03994,29.619053,7.0442586,-10.92267,-23.175732,11.63768,-8.353735,-0.57933784,9.940705,-11.285924,6.626048,4.3228354,-18.922256,-12.622153,16.39058,-12.871544,-6.8786297,-24.320694,15.081035],\"xaxis\":\"x\",\"y\":[-2.3533692,-2.3879077,-2.9773965,-2.6574163,-10.140172,-3.044939,-3.6313453,-2.1722198,-3.7895644,7.405115,7.338813,-3.573896,-1.7401679,-5.36574,-16.846947,-3.0611498,-4.2613263,-3.146529,-11.521516,-3.6635725,-5.147681,-18.771812,-5.817476,-15.360845,4.211884,-10.048557,-5.379712,26.542917,-15.895013,-6.3593707,5.589496,10.430649,11.1599045,-8.768376,-10.291924,-17.124943,-7.66005,-9.263811,-23.321304,5.6756363,-6.2489624,19.942957,-4.256206,-9.689718,5.6153502,28.823835,1.791913,-7.180954,10.27604,-29.59203,11.201785,22.592884,2.3452997,12.0896015,15.299181,-1.6857282,15.039537,-31.165016,-18.803423,-7.4319167,11.014406,17.016401,29.0908,-3.2090464,-10.176298,-6.029403,-23.658072,14.51029,-16.097588,-26.865808,-6.1734724,19.589884,-12.4169855,-1.685668,-7.084352,5.0776033,-21.590519,18.092506,23.506891,-8.639088,31.507088,12.450915,17.120003,-25.358107,9.772119,-23.880548,-10.3600445,4.2109013,-27.387028,-17.866312,-11.110448,-13.197199,17.96972,28.555746,-19.933546,-9.873448,11.279443,-17.752535,-8.892269,-30.098532,1.4395913,28.799276,11.702642,-28.84571,-8.471679,-3.1550543,-18.974596,23.755102,-16.603271,17.521145,-16.39819,14.079707,7.888794,9.310942,27.024847,0.18010207,-1.2177222,3.9808767,-18.740597,-0.9317389,-19.404886,-22.299467,-17.066858,4.64146,-0.7876198,-4.4119096,-18.337612,-6.5439725,-26.949198,-5.296857,8.485282,6.968545,-11.738616,-24.976528,26.38986,20.766815,-23.82165,16.966995,-21.504833,-7.7021704,6.237072,-2.007044,16.536724,18.77602,-14.499017,24.367271,-2.1391025,6.605251,-17.089563,-2.8525622,-18.339165,19.708797,-20.633577,23.186262,-21.596304,3.1829317,-0.47153258,12.509325,-3.4696853,-22.446266,13.927038,1.7569557,-1.844007,-11.273786,-18.94177,-8.682431,17.656261,-16.442532,14.008951,-11.405282,-28.617306,28.632301,10.832364,18.079107,8.328268,2.8538833,-10.566092,-18.487165,-19.317032,-11.217844,10.66139,-24.657839,29.302465,16.725077,6.1708384,6.2129226,12.01391,2.4284132,7.6107864,1.0121545,-15.744622,-3.8478608,-6.6614585,-15.774619,-13.083128,-5.7210627,13.068438,21.63839,9.821585,24.23296,10.669707,-4.7919936,1.4769655,12.124322,2.9034104,5.9880633,21.849504,-11.166205,0.8562299,16.466629,11.339773,5.1396537,13.828163,1.0311207,6.3603992,-7.1238503,-12.696962,7.596146,-7.852963,8.415491,17.867588,2.114595,7.6607094,6.2031136,-17.053686,11.12864,-1.466207,15.056941,21.264757,14.846587,22.737547,25.899271,-13.357289,-29.019228,23.733389,4.406955,20.19981,-1.1669326,16.456917,-25.01968,24.337486,-26.850103,-1.7681892,-20.483286,-10.931429,14.708918,22.511059,-23.059612,-15.516482,0.33368513,5.7363453,4.8016043,-27.971783,-24.397892,-20.805151,6.2365317,8.025001,0.81156534,22.108997,16.580452,-16.782158,-24.57657,9.214005,-13.290174,18.239214,22.4463,18.170115,-7.6239767,19.53636,-4.938478,-13.737186,-8.038295,-17.846552,-10.162207,-21.532145,24.673796,-21.248995,-5.614986,-14.739708,-9.462404,-13.691628,22.098423,-25.005781,-13.693589,11.255429,-13.39469,-3.0315602,24.993786,-9.999085,5.7300773,-2.6019661,7.5078144,-24.770842,-20.268576,-30.885523,5.5352263,-18.826168,-0.38323766,15.327816,1.900131,5.4094253,7.0348744,29.01043,14.417418,-28.066093,16.803837,10.04619,11.154755,13.826532,9.890273,14.40444,-10.154023,6.1256433,7.3513722,-10.996316,-30.009542,7.847304,26.275602,15.053298,-2.1112792,9.489779,-19.65204,10.7336235,28.312551,-23.099771,21.061983,2.4262292,-21.843542,-19.258564,-18.418156,-17.815649,4.257553,23.605001,18.130127,23.82387,10.358198,31.632692,-10.066822,-3.008425,-22.193237,-23.175089,-22.607574,21.472267,-11.02916,-22.44683,27.45002,4.379259,18.018902,25.881214,-0.67352897,-27.451937,-18.123646,-16.727253,3.0655158,-7.163026,11.854354,-27.98596,-3.533267,15.61116,-24.866034,17.114128,13.399378,-4.4653068,7.4109664,2.9181952,22.480375,26.756592,5.860484,18.654562,1.8614571,-21.82294,6.0352464,-8.517509,0.745507,6.8140197,4.1417136,-28.036613,-3.7861235,-8.728567,-22.80154,-1.9397168,10.496837,-3.0382125,1.8763,6.521353,-19.353024,25.623117,20.344875,-7.526933,-22.948952,-18.214066,-8.690102,13.898599,14.282868,2.6140437,9.563467,12.779889,4.111903,-7.07887,-18.134136,-2.953254,24.490835,-2.2225244,18.501215,-29.270227,-24.876528,8.028927,-6.269497,3.3269842,13.452243,-14.214273,26.346478,4.0023165,22.270834,15.163295,7.9626255,-16.818527,22.981977,19.252527,17.739344,24.00305,-4.842167,4.836917,17.126406,24.910793,13.607705,2.3590183,-14.121735,-3.8862832,-8.8189945,-14.720338,-0.103192255,5.7582974,6.9238567,-11.1570215,1.3803036,5.1727333,9.005627,13.4168005,25.894861,-20.069017,-9.157947,23.403114,-3.0586574,23.270573,8.246756,7.2473555,-2.0340943,-21.279285,-23.758993,-12.657262,22.383583,-10.636917,-0.10831411,20.213827,14.67297,3.4525855,-30.182266,-17.51127,-11.156515,18.985785,-19.720987,22.19425,11.16702,-3.07029,-9.928494,-7.4327135,9.32907,-4.4405766,-6.53442,14.026769,-8.937607,-12.505815,-21.71085,31.496962,-21.499352,0.6789927,-5.1994066,-7.2990737,-14.448059,9.348631,13.94596,27.830467,18.02616,10.3601885,7.1736727,12.629081,11.792406,23.059473,5.6595783,-8.420826,14.61825,10.623331,-8.706509,-6.321633,26.914598,-22.792233,-0.6861717,-5.802578,-0.8374449,21.64226,-11.496629,-9.70721,9.200911,-2.9351814,13.382866,15.640338,30.874247,-20.343794,-9.584818,13.048483,11.034551,-3.0420213,-11.648592,-12.338212,23.014366,-17.1628,-3.0815802,-9.035978,3.8546243,-15.80357,31.155052,-22.012085,-8.347474,-2.9636664,24.754433,-1.5774332,-8.522477,-3.726991,-3.2807877,15.535702,-21.206913,1.6849368,-1.7578995,19.29097,28.7812,-5.865995,27.33577,8.186653,-5.66715,-18.267147,2.9480827,-16.41421,-1.4167969,19.264946,-7.6886573,-3.5956924,9.606672,0.11777232,-28.0381,-15.153647,13.986634,-17.563702,-17.568449,-21.463982,8.431443,14.703482,-12.468255,-9.273221,9.684179,4.135023,-15.427974,17.952381,8.945064,0.4692799,6.816866,-28.206936,-12.11992,25.598375,0.09659541,-6.600312,19.570072,10.361839,22.278906,-11.461597,18.178452,-4.362424,22.119015,9.240005,-1.2479035,-9.9029455,0.59079546,22.327137,10.086646,-15.6155205,18.580292,7.500635,2.5231965,20.524517,11.92037,-11.14858,-17.523188,-3.805146,-1.5920422,20.045311,-16.335512,-16.910198,-1.1313571,4.15805,-9.854515,-21.78034,4.234207,19.925959,9.113231,-11.4493,-10.481037,-16.582958,12.979194,-28.512047,-5.782626,11.844082,6.9573474,10.273186,19.292276,-11.234823,27.818237,27.524862,-10.169456,-4.6933455,14.894812,9.319379,-15.70628,2.2069018,-3.028768,-18.26371,-0.30627066,-21.307198,-3.4955401,13.020878,-26.029732,-15.9659395,10.747013,24.839407,6.793938,-10.629964,-12.409591,-29.298794,-2.848162,0.81129247,-11.361055,2.0161922,-18.416327,9.41961,-0.93492323,19.418413,0.76810735,-6.310189,25.89025,-11.576102,5.509081,1.9687164,8.238309,11.479482,-5.8308744,11.921412,-14.441214,-17.059744,14.941088,14.281772,0.3456323,11.444616,-5.1649857,-16.285034,0.22454074,3.6153708,-14.928401,14.260778,-24.244925,-21.757742,-10.5485525,3.2403905,-0.9875106,-21.274313,-19.313328,12.016252,-7.4577227,-10.328274,22.984882,-23.63227,13.010002,13.602215,-8.778071,19.932014,-25.457182,2.987201,2.4785888,-0.94668245,-4.7384763,15.733977,20.385965,-15.780132,-17.345491,26.353056,20.11547,-11.814884,24.674772,22.40637,9.234563,7.4908667,-19.394045,-18.83134,18.235754,-1.9705112,-21.832344,20.58716,3.5163374,6.0168037,15.443997,-23.998945,-17.329863,-19.452688,14.74784,10.890283,-1.011187,17.195148,19.153357,-8.131731,4.9610825,0.5528994,1.6698732,17.282509,14.435681,9.24663,-4.8895864,2.1956134,0.83725804,-7.5308704,17.106724,-1.8961588,-22.478722,7.4699926,0.9608463,-17.57774,-25.88831,-21.504833,-9.028346,19.52388,8.272824,17.124311,-15.015354,17.741358,12.654649,19.773573,-11.371214,5.2646585,11.2201395,20.76203,-13.060394,-3.6117177,-5.316949,-10.337688,-10.10158,6.3865175,2.293649,19.820744,-28.186422,-12.370768,-11.592396,-25.346647,3.5267644,7.6177177,27.437742,22.930426,-14.170349,20.63271,-16.670618,-8.284662,-6.997626,24.643562,-18.208647,-23.574648,-18.506971,6.203525,2.0794332,8.251682,-6.0501695,-5.2614975,9.317305,-3.4013906,-16.201674,-22.150742,-2.4962854,-0.74489075,5.2069974,21.985914,16.098827,13.448879,26.982962,6.7313185,3.174648,-7.9461827,-21.606682,22.975437,16.461498,-20.871439,-25.525927,4.489767,9.731175,6.261427,-16.756575],\"yaxis\":\"y\",\"type\":\"scatter\"}],                        {\"template\":{\"data\":{\"histogram2dcontour\":[{\"type\":\"histogram2dcontour\",\"colorbar\":{\"outlinewidth\":0,\"ticks\":\"\"},\"colorscale\":[[0.0,\"#0d0887\"],[0.1111111111111111,\"#46039f\"],[0.2222222222222222,\"#7201a8\"],[0.3333333333333333,\"#9c179e\"],[0.4444444444444444,\"#bd3786\"],[0.5555555555555556,\"#d8576b\"],[0.6666666666666666,\"#ed7953\"],[0.7777777777777778,\"#fb9f3a\"],[0.8888888888888888,\"#fdca26\"],[1.0,\"#f0f921\"]]}],\"choropleth\":[{\"type\":\"choropleth\",\"colorbar\":{\"outlinewidth\":0,\"ticks\":\"\"}}],\"histogram2d\":[{\"type\":\"histogram2d\",\"colorbar\":{\"outlinewidth\":0,\"ticks\":\"\"},\"colorscale\":[[0.0,\"#0d0887\"],[0.1111111111111111,\"#46039f\"],[0.2222222222222222,\"#7201a8\"],[0.3333333333333333,\"#9c179e\"],[0.4444444444444444,\"#bd3786\"],[0.5555555555555556,\"#d8576b\"],[0.6666666666666666,\"#ed7953\"],[0.7777777777777778,\"#fb9f3a\"],[0.8888888888888888,\"#fdca26\"],[1.0,\"#f0f921\"]]}],\"heatmap\":[{\"type\":\"heatmap\",\"colorbar\":{\"outlinewidth\":0,\"ticks\":\"\"},\"colorscale\":[[0.0,\"#0d0887\"],[0.1111111111111111,\"#46039f\"],[0.2222222222222222,\"#7201a8\"],[0.3333333333333333,\"#9c179e\"],[0.4444444444444444,\"#bd3786\"],[0.5555555555555556,\"#d8576b\"],[0.6666666666666666,\"#ed7953\"],[0.7777777777777778,\"#fb9f3a\"],[0.8888888888888888,\"#fdca26\"],[1.0,\"#f0f921\"]]}],\"heatmapgl\":[{\"type\":\"heatmapgl\",\"colorbar\":{\"outlinewidth\":0,\"ticks\":\"\"},\"colorscale\":[[0.0,\"#0d0887\"],[0.1111111111111111,\"#46039f\"],[0.2222222222222222,\"#7201a8\"],[0.3333333333333333,\"#9c179e\"],[0.4444444444444444,\"#bd3786\"],[0.5555555555555556,\"#d8576b\"],[0.6666666666666666,\"#ed7953\"],[0.7777777777777778,\"#fb9f3a\"],[0.8888888888888888,\"#fdca26\"],[1.0,\"#f0f921\"]]}],\"contourcarpet\":[{\"type\":\"contourcarpet\",\"colorbar\":{\"outlinewidth\":0,\"ticks\":\"\"}}],\"contour\":[{\"type\":\"contour\",\"colorbar\":{\"outlinewidth\":0,\"ticks\":\"\"},\"colorscale\":[[0.0,\"#0d0887\"],[0.1111111111111111,\"#46039f\"],[0.2222222222222222,\"#7201a8\"],[0.3333333333333333,\"#9c179e\"],[0.4444444444444444,\"#bd3786\"],[0.5555555555555556,\"#d8576b\"],[0.6666666666666666,\"#ed7953\"],[0.7777777777777778,\"#fb9f3a\"],[0.8888888888888888,\"#fdca26\"],[1.0,\"#f0f921\"]]}],\"surface\":[{\"type\":\"surface\",\"colorbar\":{\"outlinewidth\":0,\"ticks\":\"\"},\"colorscale\":[[0.0,\"#0d0887\"],[0.1111111111111111,\"#46039f\"],[0.2222222222222222,\"#7201a8\"],[0.3333333333333333,\"#9c179e\"],[0.4444444444444444,\"#bd3786\"],[0.5555555555555556,\"#d8576b\"],[0.6666666666666666,\"#ed7953\"],[0.7777777777777778,\"#fb9f3a\"],[0.8888888888888888,\"#fdca26\"],[1.0,\"#f0f921\"]]}],\"mesh3d\":[{\"type\":\"mesh3d\",\"colorbar\":{\"outlinewidth\":0,\"ticks\":\"\"}}],\"scatter\":[{\"fillpattern\":{\"fillmode\":\"overlay\",\"size\":10,\"solidity\":0.2},\"type\":\"scatter\"}],\"parcoords\":[{\"type\":\"parcoords\",\"line\":{\"colorbar\":{\"outlinewidth\":0,\"ticks\":\"\"}}}],\"scatterpolargl\":[{\"type\":\"scatterpolargl\",\"marker\":{\"colorbar\":{\"outlinewidth\":0,\"ticks\":\"\"}}}],\"bar\":[{\"error_x\":{\"color\":\"#2a3f5f\"},\"error_y\":{\"color\":\"#2a3f5f\"},\"marker\":{\"line\":{\"color\":\"#E5ECF6\",\"width\":0.5},\"pattern\":{\"fillmode\":\"overlay\",\"size\":10,\"solidity\":0.2}},\"type\":\"bar\"}],\"scattergeo\":[{\"type\":\"scattergeo\",\"marker\":{\"colorbar\":{\"outlinewidth\":0,\"ticks\":\"\"}}}],\"scatterpolar\":[{\"type\":\"scatterpolar\",\"marker\":{\"colorbar\":{\"outlinewidth\":0,\"ticks\":\"\"}}}],\"histogram\":[{\"marker\":{\"pattern\":{\"fillmode\":\"overlay\",\"size\":10,\"solidity\":0.2}},\"type\":\"histogram\"}],\"scattergl\":[{\"type\":\"scattergl\",\"marker\":{\"colorbar\":{\"outlinewidth\":0,\"ticks\":\"\"}}}],\"scatter3d\":[{\"type\":\"scatter3d\",\"line\":{\"colorbar\":{\"outlinewidth\":0,\"ticks\":\"\"}},\"marker\":{\"colorbar\":{\"outlinewidth\":0,\"ticks\":\"\"}}}],\"scattermapbox\":[{\"type\":\"scattermapbox\",\"marker\":{\"colorbar\":{\"outlinewidth\":0,\"ticks\":\"\"}}}],\"scatterternary\":[{\"type\":\"scatterternary\",\"marker\":{\"colorbar\":{\"outlinewidth\":0,\"ticks\":\"\"}}}],\"scattercarpet\":[{\"type\":\"scattercarpet\",\"marker\":{\"colorbar\":{\"outlinewidth\":0,\"ticks\":\"\"}}}],\"carpet\":[{\"aaxis\":{\"endlinecolor\":\"#2a3f5f\",\"gridcolor\":\"white\",\"linecolor\":\"white\",\"minorgridcolor\":\"white\",\"startlinecolor\":\"#2a3f5f\"},\"baxis\":{\"endlinecolor\":\"#2a3f5f\",\"gridcolor\":\"white\",\"linecolor\":\"white\",\"minorgridcolor\":\"white\",\"startlinecolor\":\"#2a3f5f\"},\"type\":\"carpet\"}],\"table\":[{\"cells\":{\"fill\":{\"color\":\"#EBF0F8\"},\"line\":{\"color\":\"white\"}},\"header\":{\"fill\":{\"color\":\"#C8D4E3\"},\"line\":{\"color\":\"white\"}},\"type\":\"table\"}],\"barpolar\":[{\"marker\":{\"line\":{\"color\":\"#E5ECF6\",\"width\":0.5},\"pattern\":{\"fillmode\":\"overlay\",\"size\":10,\"solidity\":0.2}},\"type\":\"barpolar\"}],\"pie\":[{\"automargin\":true,\"type\":\"pie\"}]},\"layout\":{\"autotypenumbers\":\"strict\",\"colorway\":[\"#636efa\",\"#EF553B\",\"#00cc96\",\"#ab63fa\",\"#FFA15A\",\"#19d3f3\",\"#FF6692\",\"#B6E880\",\"#FF97FF\",\"#FECB52\"],\"font\":{\"color\":\"#2a3f5f\"},\"hovermode\":\"closest\",\"hoverlabel\":{\"align\":\"left\"},\"paper_bgcolor\":\"white\",\"plot_bgcolor\":\"#E5ECF6\",\"polar\":{\"bgcolor\":\"#E5ECF6\",\"angularaxis\":{\"gridcolor\":\"white\",\"linecolor\":\"white\",\"ticks\":\"\"},\"radialaxis\":{\"gridcolor\":\"white\",\"linecolor\":\"white\",\"ticks\":\"\"}},\"ternary\":{\"bgcolor\":\"#E5ECF6\",\"aaxis\":{\"gridcolor\":\"white\",\"linecolor\":\"white\",\"ticks\":\"\"},\"baxis\":{\"gridcolor\":\"white\",\"linecolor\":\"white\",\"ticks\":\"\"},\"caxis\":{\"gridcolor\":\"white\",\"linecolor\":\"white\",\"ticks\":\"\"}},\"coloraxis\":{\"colorbar\":{\"outlinewidth\":0,\"ticks\":\"\"}},\"colorscale\":{\"sequential\":[[0.0,\"#0d0887\"],[0.1111111111111111,\"#46039f\"],[0.2222222222222222,\"#7201a8\"],[0.3333333333333333,\"#9c179e\"],[0.4444444444444444,\"#bd3786\"],[0.5555555555555556,\"#d8576b\"],[0.6666666666666666,\"#ed7953\"],[0.7777777777777778,\"#fb9f3a\"],[0.8888888888888888,\"#fdca26\"],[1.0,\"#f0f921\"]],\"sequentialminus\":[[0.0,\"#0d0887\"],[0.1111111111111111,\"#46039f\"],[0.2222222222222222,\"#7201a8\"],[0.3333333333333333,\"#9c179e\"],[0.4444444444444444,\"#bd3786\"],[0.5555555555555556,\"#d8576b\"],[0.6666666666666666,\"#ed7953\"],[0.7777777777777778,\"#fb9f3a\"],[0.8888888888888888,\"#fdca26\"],[1.0,\"#f0f921\"]],\"diverging\":[[0,\"#8e0152\"],[0.1,\"#c51b7d\"],[0.2,\"#de77ae\"],[0.3,\"#f1b6da\"],[0.4,\"#fde0ef\"],[0.5,\"#f7f7f7\"],[0.6,\"#e6f5d0\"],[0.7,\"#b8e186\"],[0.8,\"#7fbc41\"],[0.9,\"#4d9221\"],[1,\"#276419\"]]},\"xaxis\":{\"gridcolor\":\"white\",\"linecolor\":\"white\",\"ticks\":\"\",\"title\":{\"standoff\":15},\"zerolinecolor\":\"white\",\"automargin\":true,\"zerolinewidth\":2},\"yaxis\":{\"gridcolor\":\"white\",\"linecolor\":\"white\",\"ticks\":\"\",\"title\":{\"standoff\":15},\"zerolinecolor\":\"white\",\"automargin\":true,\"zerolinewidth\":2},\"scene\":{\"xaxis\":{\"backgroundcolor\":\"#E5ECF6\",\"gridcolor\":\"white\",\"linecolor\":\"white\",\"showbackground\":true,\"ticks\":\"\",\"zerolinecolor\":\"white\",\"gridwidth\":2},\"yaxis\":{\"backgroundcolor\":\"#E5ECF6\",\"gridcolor\":\"white\",\"linecolor\":\"white\",\"showbackground\":true,\"ticks\":\"\",\"zerolinecolor\":\"white\",\"gridwidth\":2},\"zaxis\":{\"backgroundcolor\":\"#E5ECF6\",\"gridcolor\":\"white\",\"linecolor\":\"white\",\"showbackground\":true,\"ticks\":\"\",\"zerolinecolor\":\"white\",\"gridwidth\":2}},\"shapedefaults\":{\"line\":{\"color\":\"#2a3f5f\"}},\"annotationdefaults\":{\"arrowcolor\":\"#2a3f5f\",\"arrowhead\":0,\"arrowwidth\":1},\"geo\":{\"bgcolor\":\"white\",\"landcolor\":\"#E5ECF6\",\"subunitcolor\":\"white\",\"showland\":true,\"showlakes\":true,\"lakecolor\":\"white\"},\"title\":{\"x\":0.05},\"mapbox\":{\"style\":\"light\"}}},\"xaxis\":{\"anchor\":\"y\",\"domain\":[0.0,1.0],\"title\":{\"text\":\"x\"}},\"yaxis\":{\"anchor\":\"x\",\"domain\":[0.0,1.0],\"title\":{\"text\":\"y\"}},\"legend\":{\"tracegroupgap\":0},\"margin\":{\"t\":60}},                        {\"responsive\": true}                    ).then(function(){\n",
              "                            \n",
              "var gd = document.getElementById('ae56a662-107c-4ab2-b41f-7b5a9ef11f54');\n",
              "var x = new MutationObserver(function (mutations, observer) {{\n",
              "        var display = window.getComputedStyle(gd).display;\n",
              "        if (!display || display === 'none') {{\n",
              "            console.log([gd, 'removed!']);\n",
              "            Plotly.purge(gd);\n",
              "            observer.disconnect();\n",
              "        }}\n",
              "}});\n",
              "\n",
              "// Listen for the removal of the full notebook cells\n",
              "var notebookContainer = gd.closest('#notebook-container');\n",
              "if (notebookContainer) {{\n",
              "    x.observe(notebookContainer, {childList: true});\n",
              "}}\n",
              "\n",
              "// Listen for the clearing of the current output cell\n",
              "var outputEl = gd.closest('.output');\n",
              "if (outputEl) {{\n",
              "    x.observe(outputEl, {childList: true});\n",
              "}}\n",
              "\n",
              "                        })                };                            </script>        </div>\n",
              "</body>\n",
              "</html>"
            ]
          },
          "metadata": {}
        }
      ],
      "source": [
        "# Graficar los embedddings en 2D\n",
        "import plotly.graph_objects as go\n",
        "import plotly.express as px\n",
        "\n",
        "vecs, labels = reduce_dimensions(w2v_model)\n",
        "\n",
        "MAX_WORDS=800\n",
        "fig = px.scatter(x=vecs[:MAX_WORDS,0], y=vecs[:MAX_WORDS,1], text=labels[:MAX_WORDS])\n",
        "fig.show(renderer=\"colab\") # esto para plotly en colab"
      ]
    },
    {
      "cell_type": "markdown",
      "source": [
        "![Screenshot 2025-03-31 at 20.07.25.png](data:image/png;base64,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)\n",
        "\n",
        "Se pueden ver 3 palabas muy similares juntas: Captain, Ahab (Capitan del barco) y Queequeg (Marinero)"
      ],
      "metadata": {
        "id": "x9rUmzoudXXV"
      }
    },
    {
      "cell_type": "markdown",
      "source": [
        "![Screenshot 2025-03-31 at 20.15.33.png](data:image/png;base64,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)\n",
        "\n",
        "También se capura la relación entre numeros, horas, dias, años, millas, pies.\n",
        "\n",
        "La palabra \"Few\" que refiere a cantidad.\n",
        "\n",
        "La palabra \"Ago\" que se usa en conjunto con una cantidad de tiempo."
      ],
      "metadata": {
        "id": "_QC1uyCvfTGN"
      }
    },
    {
      "cell_type": "markdown",
      "source": [
        "### Visualización 3D"
      ],
      "metadata": {
        "id": "dGqyBMXmc1rx"
      }
    },
    {
      "cell_type": "code",
      "execution_count": 52,
      "metadata": {
        "id": "hnd5OapVLdFH",
        "colab": {
          "base_uri": "https://localhost:8080/",
          "height": 542
        },
        "outputId": "46a9efb8-12a5-4793-ff5f-a390e853197f"
      },
      "outputs": [
        {
          "output_type": "display_data",
          "data": {
            "text/html": [
              "<html>\n",
              "<head><meta charset=\"utf-8\" /></head>\n",
              "<body>\n",
              "    <div>            <script src=\"https://cdnjs.cloudflare.com/ajax/libs/mathjax/2.7.5/MathJax.js?config=TeX-AMS-MML_SVG\"></script><script type=\"text/javascript\">if (window.MathJax && window.MathJax.Hub && window.MathJax.Hub.Config) {window.MathJax.Hub.Config({SVG: {font: \"STIX-Web\"}});}</script>                <script type=\"text/javascript\">window.PlotlyConfig = {MathJaxConfig: 'local'};</script>\n",
              "        <script charset=\"utf-8\" src=\"https://cdn.plot.ly/plotly-2.35.2.min.js\"></script>                <div id=\"b10263de-da35-4012-86ac-880f7e51e0c0\" class=\"plotly-graph-div\" style=\"height:525px; width:100%;\"></div>            <script type=\"text/javascript\">                                    window.PLOTLYENV=window.PLOTLYENV || {};                                    if (document.getElementById(\"b10263de-da35-4012-86ac-880f7e51e0c0\")) {                    Plotly.newPlot(                        \"b10263de-da35-4012-86ac-880f7e51e0c0\",                        [{\"hovertemplate\":\"x=%{x}\\u003cbr\\u003ey=%{y}\\u003cbr\\u003ez=%{z}\\u003cbr\\u003etext=%{text}\\u003cextra\\u003e\\u003c\\u002fextra\\u003e\",\"legendgroup\":\"\",\"marker\":{\"color\":\"#636efa\",\"symbol\":\"circle\",\"size\":2},\"mode\":\"markers+text\",\"name\":\"\",\"scene\":\"scene\",\"showlegend\":false,\"text\":[\"the\",\"of\",\"and\",\"a\",\"to\",\"in\",\"that\",\"his\",\"it\",\"i\",\"he\",\"but\",\"s\",\"as\",\"is\",\"with\",\"was\",\"for\",\"all\",\"this\",\"at\",\"whale\",\"by\",\"not\",\"from\",\"him\",\"so\",\"on\",\"be\",\"one\",\"you\",\"there\",\"now\",\"had\",\"have\",\"or\",\"were\",\"they\",\"which\",\"like\",\"me\",\"then\",\"their\",\"some\",\"what\",\"when\",\"are\",\"an\",\"my\",\"no\",\"upon\",\"out\",\"man\",\"into\",\"up\",\"ship\",\"ahab\",\"more\",\"if\",\"them\",\"ye\",\"we\",\"sea\",\"old\",\"would\",\"other\",\"been\",\"over\",\"these\",\"will\",\"though\",\"down\",\"only\",\"its\",\"such\",\"who\",\"yet\",\"head\",\"boat\",\"time\",\"long\",\"her\",\"captain\",\"any\",\"here\",\"very\",\"still\",\"about\",\"than\",\"do\",\"great\",\"those\",\"said\",\"before\",\"two\",\"has\",\"t\",\"must\",\"seemed\",\"most\",\"white\",\"last\",\"see\",\"way\",\"thou\",\"after\",\"whales\",\"again\",\"did\",\"stubb\",\"how\",\"queequeg\",\"little\",\"your\",\"round\",\"while\",\"three\",\"say\",\"sperm\",\"men\",\"may\",\"can\",\"first\",\"through\",\"every\",\"well\",\"us\",\"being\",\"much\",\"where\",\"off\",\"good\",\"could\",\"same\",\"hand\",\"side\",\"our\",\"ever\",\"never\",\"himself\",\"look\",\"own\",\"starbuck\",\"deck\",\"almost\",\"go\",\"even\",\"water\",\"thing\",\"too\",\"should\",\"away\",\"might\",\"come\",\"made\",\"day\",\"world\",\"sir\",\"life\",\"chapter\",\"pequod\",\"fish\",\"among\",\"many\",\"seen\",\"far\",\"back\",\"let\",\"line\",\"without\",\"nor\",\"eyes\",\"oh\",\"cried\",\"aye\",\"know\",\"god\",\"sort\",\"right\",\"thought\",\"night\",\"part\",\"once\",\"boats\",\"air\",\"crew\",\"don\",\"whole\",\"take\",\"half\",\"tell\",\"against\",\"thus\",\"things\",\"whaling\",\"thee\",\"came\",\"soon\",\"hands\",\"mast\",\"each\",\"small\",\"feet\",\"both\",\"something\",\"full\",\"till\",\"think\",\"under\",\"she\",\"between\",\"why\",\"just\",\"saw\",\"called\",\"place\",\"another\",\"nothing\",\"found\",\"ll\",\"towards\",\"poor\",\"thy\",\"make\",\"times\",\"heard\",\"body\",\"along\",\"high\",\"flask\",\"stand\",\"moment\",\"sight\",\"voyage\",\"sail\",\"sun\",\"end\",\"new\",\"hold\",\"strange\",\"went\",\"shall\",\"years\",\"leviathan\",\"nantucket\",\"face\",\"get\",\"however\",\"does\",\"few\",\"black\",\"dead\",\"because\",\"also\",\"whether\",\"am\",\"heart\",\"death\",\"stood\",\"oil\",\"certain\",\"perhaps\",\"leg\",\"indeed\",\"arm\",\"going\",\"eye\",\"sometimes\",\"iron\",\"seems\",\"ships\",\"whose\",\"true\",\"seas\",\"matter\",\"heads\",\"give\",\"jonah\",\"seem\",\"itself\",\"moby\",\"cabin\",\"wild\",\"dick\",\"soul\",\"hard\",\"days\",\"standing\",\"sailor\",\"ocean\",\"harpooneer\",\"mind\",\"always\",\"known\",\"land\",\"tail\",\"present\",\"young\",\"mate\",\"within\",\"large\",\"light\",\"ere\",\"lay\",\"length\",\"instant\",\"harpoon\",\"bed\",\"bildad\",\"open\",\"beneath\",\"enough\",\"word\",\"fire\",\"set\",\"least\",\"yes\",\"board\",\"peleg\",\"four\",\"pip\",\"done\",\"d\",\"morning\",\"living\",\"put\",\"vast\",\"often\",\"case\",\"point\",\"whalemen\",\"rather\",\"top\",\"near\",\"looking\",\"deep\",\"wind\",\"waters\",\"name\",\"cannot\",\"myself\",\"general\",\"keep\",\"business\",\"therefore\",\"left\",\"lord\",\"having\",\"turned\",\"best\",\"work\",\"since\",\"fishery\",\"boy\",\"king\",\"together\",\"order\",\"looked\",\"lower\",\"reason\",\"mr\",\"hear\",\"fast\",\"better\",\"blood\",\"aloft\",\"turn\",\"further\",\"mouth\",\"live\",\"book\",\"spout\",\"st\",\"short\",\"rope\",\"themselves\",\"chase\",\"fine\",\"gone\",\"second\",\"dark\",\"watch\",\"above\",\"jaw\",\"broad\",\"feel\",\"tashtego\",\"room\",\"indian\",\"peculiar\",\"find\",\"next\",\"harpooneers\",\"close\",\"devil\",\"home\",\"ivory\",\"mark\",\"vessel\",\"call\",\"cook\",\"goes\",\"savage\",\"bottom\",\"entire\",\"curious\",\"green\",\"ground\",\"fellow\",\"craft\",\"grand\",\"try\",\"run\",\"stern\",\"coming\",\"comes\",\"less\",\"main\",\"began\",\"cut\",\"turning\",\"taking\",\"forth\",\"forward\",\"slowly\",\"sailors\",\"coffin\",\"speak\",\"heaven\",\"rest\",\"sharks\",\"thousand\",\"bone\",\"taken\",\"besides\",\"hundred\",\"wide\",\"behind\",\"broken\",\"suddenly\",\"nevertheless\",\"monster\",\"bows\",\"bones\",\"took\",\"teeth\",\"carpenter\",\"struck\",\"story\",\"particular\",\"english\",\"below\",\"common\",\"ten\",\"pull\",\"stranger\",\"waves\",\"view\",\"used\",\"lost\",\"voice\",\"told\",\"kept\",\"quarter\",\"mighty\",\"several\",\"people\",\"sleep\",\"form\",\"touching\",\"running\",\"chance\",\"sure\",\"else\",\"got\",\"fact\",\"making\",\"whaleman\",\"earth\",\"whatever\",\"says\",\"straight\",\"sat\",\"lance\",\"mine\",\"blue\",\"door\",\"caught\",\"sails\",\"whom\",\"queer\",\"nigh\",\"o\",\"especially\",\"somehow\",\"hole\",\"means\",\"five\",\"noble\",\"house\",\"bow\",\"knew\",\"anything\",\"rolled\",\"sudden\",\"seamen\",\"sharp\",\"ready\",\"creature\",\"coast\",\"surface\",\"em\",\"hours\",\"mere\",\"wondrous\",\"passed\",\"nature\",\"felt\",\"quite\",\"clear\",\"course\",\"pipe\",\"parts\",\"alone\",\"brow\",\"sound\",\"calm\",\"art\",\"quick\",\"red\",\"mates\",\"concerning\",\"wake\",\"cape\",\"saying\",\"hour\",\"either\",\"hat\",\"mean\",\"steelkilt\",\"purpose\",\"gold\",\"mortal\",\"single\",\"cry\",\"plainly\",\"low\",\"mass\",\"distance\",\"others\",\"makes\",\"oars\",\"object\",\"easy\",\"plain\",\"fixed\",\"de\",\"power\",\"various\",\"darted\",\"forehead\",\"help\",\"brought\",\"ha\",\"around\",\"leaving\",\"gave\",\"gentlemen\",\"sailed\",\"human\",\"mad\",\"holding\",\"lines\",\"bulwarks\",\"aspect\",\"table\",\"brain\",\"middle\",\"arms\",\"placed\",\"famous\",\"skin\",\"forecastle\",\"shot\",\"bear\",\"cutting\",\"ve\",\"chief\",\"heavy\",\"flukes\",\"suppose\",\"seeing\",\"manner\",\"held\",\"daggoo\",\"wonder\",\"truth\",\"ago\",\"sign\",\"strong\",\"natural\",\"wood\",\"fell\",\"sky\",\"given\",\"use\",\"greenland\",\"legs\",\"unknown\",\"born\",\"boys\",\"loose\",\"spring\",\"weather\",\"killed\",\"helm\",\"turns\",\"previous\",\"town\",\"rose\",\"rolling\",\"american\",\"blubber\",\"remained\",\"skeleton\",\"twenty\",\"creatures\",\"ashore\",\"landlord\",\"nearly\",\"hope\",\"start\",\"rigging\",\"sailing\",\"pacific\",\"account\",\"none\",\"passage\",\"fin\",\"fair\",\"thoughts\",\"company\",\"want\",\"fifty\",\"drawing\",\"forty\",\"fear\",\"foot\",\"hardly\",\"steel\",\"completely\",\"third\",\"stop\",\"island\",\"didn\",\"kill\",\"idea\",\"hammock\",\"fresh\",\"darkness\",\"harpoons\",\"intervals\",\"doubt\",\"jet\",\"miles\",\"free\",\"strike\",\"visible\",\"already\",\"during\",\"storm\",\"nose\",\"hence\",\"show\",\"won\",\"proper\",\"ho\",\"aft\",\"bulk\",\"hull\",\"planks\",\"except\",\"knife\",\"considering\",\"pass\",\"cold\",\"six\",\"woe\",\"across\",\"tossed\",\"generally\",\"instances\",\"works\",\"thunder\",\"battle\",\"cast\",\"upper\",\"rising\",\"soft\",\"substance\",\"species\",\"swimming\",\"horn\",\"really\",\"hammer\",\"late\",\"suspended\",\"carried\",\"touch\",\"vain\",\"possibly\",\"flying\",\"hung\",\"act\",\"smoke\",\"supper\",\"possible\",\"die\",\"jaws\",\"huge\",\"hoisted\",\"shark\",\"snow\",\"play\",\"pretty\",\"final\",\"hast\",\"sideways\",\"hearts\",\"certainly\",\"m\",\"royal\",\"nay\",\"altogether\",\"question\",\"south\",\"pointed\",\"pole\",\"aside\",\"words\",\"steady\",\"leeward\",\"astern\",\"entirely\",\"stands\",\"e\",\"lamp\",\"mariners\",\"strangely\",\"unless\",\"pilot\",\"knows\",\"lightning\",\"shipmates\",\"oar\",\"giving\",\"gods\",\"become\",\"person\",\"bit\",\"coat\",\"meanwhile\",\"leaning\",\"bound\",\"glance\",\"thinking\",\"gale\",\"ancient\",\"parsee\",\"hunters\",\"scene\",\"fishermen\",\"mild\",\"state\",\"sides\",\"command\",\"feeling\",\"finally\",\"horse\",\"whiteness\",\"somewhat\",\"alive\",\"thirty\",\"looks\",\"seated\",\"started\",\"fedallah\",\"eyeing\",\"wooden\",\"year\",\"wholly\",\"kind\",\"overboard\",\"ahead\",\"read\",\"cruising\",\"thick\",\"yards\",\"alongside\",\"precisely\"],\"x\":[-14.450745,-14.271025,-13.72617,-11.219797,-27.568014,-15.852477,-2.5572176,-15.207396,-1.0086449,-2.5603774,-27.682257,-5.1395354,-25.625961,-1.1473377,2.0970447,11.267216,2.7738547,-15.013107,19.202272,-2.766305,-21.122818,-7.9566407,-4.239711,17.76998,-6.261734,15.346146,0.451348,-18.931702,16.771921,-17.654917,-5.7321367,-14.123111,-29.960363,-13.269178,3.8323789,23.655783,-19.868444,5.3753214,26.046738,-16.401989,-6.1745944,-12.519564,36.761627,12.778474,0.8202639,-35.916946,-11.18597,-12.786571,-19.526241,-3.918311,-7.49214,-1.9409105,-34.94072,9.570106,1.4743162,-28.931068,-29.113602,17.20142,29.308083,-18.573961,-12.582056,-19.915281,-12.407199,-32.778103,1.1949912,3.0131605,24.159458,12.50092,30.361307,0.60607463,-10.192744,-14.528963,-9.948605,10.279806,-1.4503403,-23.824839,3.9985862,-10.147384,-17.900673,-3.3126447,-1.2582068,-6.299396,-26.241213,12.799984,-12.097152,14.696184,1.3728852,-12.572858,1.6326486,4.683352,-14.593648,32.447014,-30.731108,-25.681488,34.97335,-9.067566,-13.503838,7.759586,13.1989,28.64673,31.8776,-2.978075,5.4610376,32.280407,18.898893,18.239841,-9.511377,-12.026913,2.3508432,-32.11512,17.306232,-27.371311,-24.7238,-17.562305,-2.057654,34.76948,36.69778,-1.0830812,-5.866921,-33.633327,13.947018,11.54663,-13.426498,17.950071,-31.56659,16.183548,14.714622,-5.5670557,12.951669,-6.8638735,-12.671594,2.9156811,2.1521456,25.554207,-25.261522,5.0356565,38.572582,-19.261803,12.908058,-19.104305,-6.4635487,1.1666592,-31.504847,-10.06426,21.185486,6.8600254,8.80951,12.863452,2.9549222,-23.442995,4.273921,-15.040868,14.859984,3.896141,16.064896,12.797951,31.704723,-6.356372,20.734367,20.272186,-23.85437,-15.832589,-27.54062,2.1351287,19.219711,32.88173,-14.795075,6.9512534,4.6219826,13.213475,-10.74325,-14.249543,-9.466528,-28.770416,-15.73173,4.101261,-2.2901456,7.295824,4.839362,-0.80930483,15.031835,34.05425,-6.030724,12.275992,14.2022,-37.2906,-9.975546,2.24646,2.0439465,25.799194,6.0215173,-2.3832083,-33.735752,30.210276,-3.6608057,-0.5644624,-14.474877,-19.220259,-7.168045,-41.71051,10.385471,23.398298,34.913353,0.4054563,8.21822,3.1611862,7.7914586,0.49637347,-19.44734,-9.7519655,-5.268268,-12.784613,-15.433853,-17.675543,-12.604859,13.106628,-22.131779,-8.915377,30.95574,-6.6779366,4.4989386,-27.383429,-11.794277,-19.57859,34.145397,-14.97752,-12.981454,14.3175125,-0.087384105,-24.40137,8.433114,-34.66606,-14.126216,-7.52641,6.019966,30.111618,10.258981,-25.172901,8.391124,22.446993,-20.857262,-0.624321,35.75633,-4.011212,-16.624357,-16.33082,1.8807397,25.390364,6.6995845,32.191826,-0.012644317,-11.365908,23.44952,-36.64237,25.569897,-3.8435326,-17.90655,6.2557755,-17.526638,7.1255116,26.071571,21.085426,12.022637,11.67363,-8.289861,-10.011944,-29.301476,-13.623431,-5.2240944,-7.992402,37.83956,26.32746,3.290091,1.2436067,19.616896,-37.925716,4.288376,-25.722137,17.70741,6.06786,39.898693,-5.2141633,24.020678,38.9873,-13.335637,27.129133,32.10625,-23.161676,-17.937168,24.354324,-17.73739,0.47522268,-11.278759,0.14839756,-3.3877814,-17.582552,19.269785,-28.136261,-29.041838,18.787466,2.6594408,8.006591,-2.015935,14.953468,26.700735,-2.313999,-15.957285,7.4946303,-23.107819,-1.8499396,1.0041963,-12.747362,-10.29959,-25.122639,8.087531,39.53846,-13.419664,-16.056072,-27.480618,31.52567,-17.82473,12.0873785,-9.574027,-25.163004,-3.8155525,-10.251216,8.608449,7.7816706,0.086428866,7.7980437,3.1359305,-7.7322,6.2584686,-16.282448,-13.489336,10.015638,21.863974,27.632051,-17.758526,13.392423,-0.7491038,14.390964,-0.48767754,2.7078404,22.343174,14.226052,-23.440279,-34.760563,-5.9730673,-23.749653,-12.749581,7.788808,-0.056594986,-31.282503,-15.071886,-16.998915,-17.83069,-27.575945,18.97415,7.065672,-28.693556,-2.6205337,0.6740276,7.428565,0.033143055,-0.84744096,12.543823,3.989144,5.6232033,-0.4110909,16.318476,14.361617,-20.793863,8.690193,-20.73486,15.6348505,33.98658,-9.969617,-0.2975378,21.406708,-36.29936,-23.986088,-38.05262,10.81446,-2.4859593,0.04564685,-20.48616,-33.58056,-17.06427,9.996586,4.200651,-6.5026054,-27.449324,-11.264843,-24.03203,5.176985,10.895128,12.642996,-11.100232,9.779178,-24.203857,-8.988846,-34.72497,5.9415956,20.546305,20.180656,15.087263,-11.80043,-17.718634,-35.29359,0.84558827,-37.889885,-8.645908,-10.944805,18.86795,-24.675957,9.955186,2.7905974,-7.8476324,5.9390826,-14.683957,-9.9811735,0.69759446,-1.0220523,-20.227743,-30.265541,-18.827211,13.333442,-1.855671,5.756281,34.702885,33.225777,-0.975484,25.466064,0.022716392,43.493164,24.894255,32.308445,8.360194,-19.055292,-0.26763412,5.2280984,-17.100037,-7.5955553,6.2542334,26.67317,-15.8268175,26.708464,6.319644,21.48071,-11.471556,-13.300091,2.4787006,41.496944,-3.7884774,-29.17343,19.124084,-3.5491786,7.1129837,-16.92783,-30.704298,10.427178,-7.019679,-8.841073,-3.3296478,27.680153,-19.440315,-21.913006,5.885437,20.901558,16.449018,5.753166,-7.2374907,13.094056,-2.757011,16.850342,18.804132,-15.337135,3.496225,19.178774,-14.525532,2.7246797,-24.58249,8.453529,-17.251339,19.83434,7.51847,-0.4255978,3.4389298,-21.678274,-39.763016,7.25107,-17.202272,-32.43743,-2.9360511,-5.1177096,13.442199,32.98382,-21.871952,-23.253986,0.63906384,1.7260488,-0.23455207,26.906343,-32.455597,-27.13477,-15.887391,18.291958,8.926452,-6.3346806,21.707722,-15.670356,30.768312,5.047332,-6.956523,7.890565,3.5446982,0.23808095,12.3971615,22.069126,8.004952,-27.979204,32.02938,-17.773129,-26.240398,-13.73445,15.644929,20.15205,6.9073586,-22.342852,-24.641422,15.449628,27.074842,-17.540886,-11.468768,-33.82015,-7.451706,-5.3969207,-13.666972,-37.743877,-6.801007,-18.473211,6.634798,1.7997022,-26.176716,23.261734,-13.805222,16.390436,19.208675,34.62569,-2.3349028,10.201446,29.3237,-6.1144733,17.72672,8.111209,-11.529083,7.8200693,24.956268,13.85649,8.621889,5.0930696,-5.6891356,-20.014347,18.628042,18.558634,39.148537,-0.46963778,-7.090552,-6.0709653,-8.758576,-8.540867,4.7018027,-5.0507703,4.149526,-25.947338,-5.0914507,25.046633,30.272572,-17.843834,-13.534604,-9.415588,-13.627711,15.39541,11.092662,9.532501,-4.0503407,-28.641703,-6.7484007,4.265192,-1.0961413,25.348148,21.48246,-7.228737,-24.508732,7.160059,-24.640762,38.815056,-1.8880941,2.1522195,21.552992,27.875153,-6.266669,18.901646,28.24739,-2.6806896,-4.666512,38.609493,29.02565,-9.9598675,-25.406557,-12.516957,-2.631407,26.104507,-13.730778,-4.992592,-24.303602,14.306367,-12.856964,-15.390264,13.210108,-3.7198083,-4.458619,-33.365036,-4.7898827,36.3216,26.368994,26.663815,-34.734287,35.903168,10.220432,-14.133483,3.586916,26.178593,4.829897,-2.0217824,-18.237007,10.243575,-20.932802,-0.30294934,-13.580702,-32.95961,-17.680246,36.65652,-11.088889,39.978596,-18.377918,-3.6793542,21.456264,-0.7327841,10.726333,8.401597,-9.501068,-15.007161,-8.55986,9.481163,27.099558,-16.240576,-9.619349,18.512163,5.1858983,20.853605,22.587856,22.298777,33.58229,17.598228,-6.7974324,17.73496,37.462196,16.821379,27.345833,-4.8540096,7.60365,16.121504,-9.4179535,-40.469746,-15.485715,-9.340079,14.981263,14.723375,-6.1946034,-8.872477,-8.057688,26.211143,22.796251,35.18108,32.28596,-9.859306,2.7621996,-15.42082,39.721695,27.800827,-37.028313,-31.266605,19.520464,-5.3486643,10.006089,18.13488,-1.0242051,8.54328,25.59092,-6.372508,-18.063519,6.044681,-26.354748,-10.609151,-0.67281735,10.216562,-8.190405,10.370041,17.371645,2.8090115,-6.913165,-2.728457,20.955404,-26.203413,12.875533,-9.730045,16.39086,14.993179,-11.53259,-22.834585,10.750739,-16.008127,-14.035322,15.966858,19.225231,-2.756865,-35.994637,0.36799595,-3.4202163,-14.082255,-7.1809144,19.766724,19.375082,-4.718052,11.131639,6.6264577,-12.554578,-29.397427,-4.781207,10.366967,-11.734245,12.234851,-2.6975038,-14.538854,-9.582596,22.109959,29.003345,-4.215258,-13.187665,-6.6344204,18.415932,-16.704561,-10.122154,36.319454,-30.166412,0.5277838,-17.109903,1.0878085,-25.205416,-27.05628,-9.279905,-17.18383,-12.266734,3.5531461,-12.387393,-16.780506,-21.412395,0.14737085,16.811687,6.4630513,21.377857,-9.573752,25.448515,-31.65466,-1.8276964,-9.863244,-28.404457,3.2530541,21.986042,13.311655,34.891644,-0.16798769,-16.752674,-16.02795,-23.71476,-28.883743,-8.80739,14.081736,3.4335835,16.110321,-9.81143,4.802528,4.579627,29.841011,16.17947,35.100647,-7.7996764,1.3855217],\"y\":[-4.803705,-3.6375098,-1.5244181,-5.2346067,15.149773,-1.0428114,13.762651,-6.191958,15.226627,30.791916,-9.083194,13.804766,-15.224017,6.2449427,-10.896599,-8.67552,-7.9914722,1.041269,13.021616,12.097374,-24.433731,-20.089315,-5.3591776,19.251139,-3.5605862,25.129808,-14.349692,22.757137,10.893811,2.364924,31.552547,22.41044,22.38939,7.093217,-42.705837,19.84951,-34.181355,14.264064,11.773561,-17.2009,32.992977,5.0523205,12.700335,0.2878017,34.08189,-12.592848,35.42143,-29.020414,24.49508,-26.994135,-22.535217,4.426173,3.9659297,-4.3529325,-4.064239,-13.784328,-0.485944,-36.709976,21.492115,28.474056,34.069035,-23.227333,9.559974,-14.6258545,-40.146954,-38.125164,19.46573,-9.335087,1.7624229,38.70233,-1.0458889,24.317682,15.620996,-29.408278,-10.575254,5.3154325,27.313099,8.475689,-14.592766,-42.873985,-31.092655,-5.1987343,9.539069,5.84276,25.46395,0.19275026,-19.915562,38.8629,9.838313,29.297718,-15.996981,-14.421799,12.089973,1.4463167,-3.7547965,5.441779,38.91565,25.980595,-40.959858,7.4157615,12.31258,19.688015,25.737339,13.035618,36.021564,-33.21122,-20.585686,29.89392,24.955664,18.313679,35.59304,10.615269,13.141005,30.725021,-34.873947,19.007145,-3.0591106,32.281204,-21.007267,6.239252,15.364948,32.82313,16.747852,-5.9968276,-9.38294,23.715504,36.25332,-6.808628,20.154572,12.76169,26.991108,38.696087,12.450754,-8.679274,-7.2162876,-3.399427,-10.859211,27.721918,37.10429,14.5228,25.544085,-12.150663,12.697335,5.3352633,21.50336,29.151299,14.105633,2.7902935,5.028599,-18.777903,12.483019,4.8362865,18.44432,34.926323,5.4066277,-39.39909,25.924114,35.234787,-27.469278,-10.408867,1.0253237,-37.23253,0.57368886,-0.18242304,22.018103,-27.089533,-15.344344,33.007687,-10.289061,-35.37511,-11.713244,-17.019669,30.375011,10.347483,22.992863,25.707415,4.6331,-31.025417,11.127231,28.22826,-36.41952,-15.678779,20.926079,-27.932478,2.3159976,1.773407,40.185886,-37.8065,33.79985,-32.58346,29.841745,-7.614482,-27.658627,-22.313566,-0.6085245,19.338259,23.479239,-1.104722,-28.35394,-1.972173,-28.999065,5.5191045,2.5523272,-17.782604,10.175636,-22.466787,17.903967,27.842693,-36.131294,15.963293,-26.160923,31.949718,13.033844,-30.846094,-32.36809,-35.086456,12.019341,18.835785,-10.5641775,30.701956,-5.940145,11.22917,-33.887962,34.352383,7.159997,15.13355,-26.46279,16.915606,-1.9936521,17.46381,37.90978,-13.47655,-21.671286,-8.062838,12.788953,1.105192,-16.243134,6.2217894,17.145544,6.9681635,7.204995,37.17935,11.827129,-7.3387055,4.0640244,8.809045,33.53972,18.820734,32.255825,-5.0048,-30.203121,-23.067808,1.1702758,-18.718828,18.478249,37.44533,-39.066383,-13.344195,-12.531763,-11.729146,-1.5126197,4.359056,32.082443,3.9985194,-32.798347,18.372358,-21.62444,4.810456,20.773306,-27.830673,-17.25785,-11.769918,-8.297818,11.485744,-2.3908293,-4.6380877,39.426968,-11.298901,23.014254,-1.0225762,-5.9892526,4.946991,-14.996934,-6.7904577,19.107513,31.42432,7.4041095,-2.6333308,1.7530373,-10.624571,12.569421,34.30772,32.51939,11.465606,-24.097757,-20.876087,-0.08823834,13.735399,6.1441326,-25.966555,-32.794876,8.355418,15.551095,15.907096,-19.681736,-8.37053,-20.223423,-5.936911,9.041873,-27.58086,-8.450681,-43.213394,20.597654,27.307673,-43.5087,1.9560543,28.757011,-27.550232,9.522072,-0.9896221,19.785484,26.739065,33.30859,-18.90998,-19.365349,20.443403,-18.117945,22.162966,0.46415156,0.18457633,16.28236,28.959154,9.286538,-19.32496,-2.7679925,-0.12959845,15.7327385,-15.179018,4.6651354,31.517765,33.64923,-7.843015,35.366707,17.041279,9.230996,25.839642,17.980743,8.170683,22.274122,3.204486,-3.3630896,16.675983,6.684869,13.937682,-3.4204047,-1.5846527,26.1421,-15.418789,-9.181254,2.1835647,19.961971,32.042633,-35.75917,42.697308,-22.812998,14.039167,24.002373,11.054342,2.1636372,18.06011,-4.9744344,-1.2061319,-6.796382,-34.10788,-16.01019,27.849678,17.542038,-10.081595,31.038841,-4.864683,-4.0046372,-23.3471,-4.5636554,-29.6798,-29.021235,25.49474,-0.11465301,-12.353102,-9.718352,-1.837648,32.456844,-40.979626,-0.19511773,-8.786937,25.978977,16.559454,13.835666,14.665318,-8.200885,34.809097,3.484111,15.200351,-4.3703146,1.6816814,-27.329718,3.264798,-2.5286224,-18.230118,34.672596,-0.28187713,-4.8840494,21.229006,-39.175945,-6.615788,-4.4267244,-10.625948,-11.361165,8.5598755,4.4589834,24.81786,1.117016,0.946679,-24.422049,10.5352335,-0.14933033,2.0290196,17.379175,21.42896,13.448348,-44.437088,8.079704,6.048756,-32.208824,21.867123,24.493418,-0.13271193,-2.50793,-6.076187,-3.0986307,7.7658854,4.967774,-26.302315,-7.3999577,-25.504658,7.7020497,-32.58294,17.355524,12.906967,-4.3970056,1.9210536,1.2690977,10.61038,3.482366,4.6481833,19.98534,-4.3759828,-6.5428634,-37.46591,11.472049,15.424348,-3.9616938,22.656645,26.762363,-23.780558,-24.564089,0.13902757,6.366664,28.207037,-27.215868,3.610572,-4.678567,11.463353,23.402822,40.665577,32.254494,-1.0255177,-24.143972,-7.3749676,-26.32953,6.3845806,25.490095,-2.4045365,9.277203,0.14797878,27.033457,-1.0058739,-1.2823622,-22.89998,9.926866,24.509754,0.076671794,-15.689565,23.891443,-8.169406,-3.651132,-16.201462,-4.601948,2.0492547,-18.749142,-4.3484287,-1.8179064,27.906982,1.241239,-8.861359,-7.2744474,-3.3059337,-11.528854,31.936686,-14.964906,5.362434,-9.981685,28.55675,4.3917494,4.1694903,-11.569804,-31.492046,-17.075144,-42.156418,5.0706205,7.125543,11.64847,-9.905976,-11.318054,-24.636087,-12.512802,1.696936,-4.840018,38.28453,-31.903366,-24.648521,-3.5292234,9.831236,13.3035345,-30.047558,8.395853,-16.711645,-5.6734395,-13.242967,25.702236,10.296332,-17.495043,-34.716297,-3.6906073,-1.3783444,-6.392598,-39.095814,-9.729136,-21.923367,-36.394066,-26.175905,-19.434187,-17.724857,16.242453,28.825357,-6.933204,-13.833434,34.133217,5.1248636,-3.716276,-8.737537,-23.567205,34.168247,29.14913,31.986845,23.835363,-26.653345,-6.8730607,20.308113,26.716526,-19.392094,10.521657,-5.3367643,-25.221395,-2.7033296,-15.738124,-25.370134,-34.42155,-22.00989,-17.253763,-0.053102374,-7.5500684,-17.980661,6.165001,-7.2779217,29.445158,-22.217386,35.740078,6.372128,-10.221281,-35.78762,25.355957,29.174547,-3.4159226,3.23968,6.5843797,25.27996,20.067183,7.901058,2.479971,-33.12643,-0.75789267,-21.02549,-7.1908107,-3.992182,25.717243,-36.740036,3.6766362,-3.858711,-3.5115447,0.07426158,32.544067,-35.192062,7.3372755,6.474803,12.895061,11.150812,-14.585565,-31.014034,2.7950144,31.991396,1.928093,8.0590725,-31.445478,-7.0512986,-19.717403,4.909644,-15.118235,10.308721,13.42516,1.7928929,26.380901,22.438631,5.2967176,17.904688,6.680466,-0.38642982,23.908012,-38.45723,-32.47583,4.817029,-40.730907,-5.8829274,34.801537,5.45924,-15.97707,6.8011017,6.52779,-34.724396,25.767797,-21.742289,16.668163,-39.00162,30.011826,-17.807392,37.754066,13.355105,12.988739,-5.4676533,10.855797,9.68671,-25.93414,8.061095,14.566264,-32.3328,-1.9756535,27.302237,31.870861,-15.195299,-15.918245,-28.777855,-7.575773,-14.099599,27.42427,25.451973,41.03592,11.937005,-3.006058,8.118039,-19.044851,-6.1277413,-9.601431,14.147402,-4.7387657,2.5633144,31.483555,-19.094624,0.6201873,-9.436063,6.0312014,-24.381094,-11.918304,-2.4967494,22.649336,19.114246,22.312145,-21.516714,-2.0951545,-9.364161,-15.40532,-10.411701,-1.5155373,-11.556941,-32.400753,22.445894,-3.3852985,21.47095,-26.707306,17.410742,15.690333,22.87472,22.59232,-1.274324,-16.881,-42.593323,20.26018,27.660355,-42.87517,25.528114,-31.36782,-21.356812,13.1167555,30.644371,-11.143402,6.5516577,-6.3467817,-27.189503,39.042034,-5.555502,10.220731,29.426413,32.919006,-28.422522,26.015657,3.355782,13.876695,4.29478,-9.063689,-28.322435,-1.932607,-0.34266692,-0.23982865,-10.562748,4.720932,14.60572,-27.847374,41.57625,1.0377355,22.80365,-30.293661,15.026175,-15.0068,18.297758,-27.862488,24.948803,-7.1116905,-8.082149,26.012808,-23.239471,10.956338,10.805308,-15.854204,0.916423,-2.518666,11.795979,-13.518862,7.8866343,-39.19581,-9.444106,-9.944051,15.393857,-10.884817,18.528103,-10.505147,-35.189316,-12.822358,-16.378345,0.9069107,-1.0076516,-18.803757,-12.575301,9.386325,20.196821,-0.0020897002,9.289188,-10.719326,13.052525,3.8267412,4.3718505,-31.353167,-37.95763,-29.394966,-13.525097,23.459944,15.162109,29.535791,1.5187913,-12.245548,-9.112306,-11.4153,9.833365],\"z\":[1.4060812,3.0600393,0.06901038,1.4523745,-12.503466,-0.42392024,10.054264,-0.40970436,10.735085,9.567372,-1.4526953,8.605769,4.5741496,0.99856836,25.968287,2.825048,3.516359,-0.2332171,0.3016336,11.1374855,-15.85494,28.68114,-12.238674,10.707419,-8.924619,-28.988544,14.993429,-19.700104,16.310719,8.007863,14.931218,-1.169415,9.046743,2.357093,13.462391,12.094019,-22.150274,6.8887334,24.733694,1.0101728,-14.198674,-28.32346,-13.557509,8.183197,25.035408,-14.220423,23.341145,29.84333,-0.022425078,30.58754,-29.66978,-9.395151,11.4210415,-29.032427,-11.871617,4.815863,-6.182575,16.52169,-8.500688,-18.85545,0.26580125,-33.0579,-14.368959,17.329893,19.386742,1.7479031,23.396746,-29.294268,18.968592,14.11251,-2.2270267,-16.488493,15.36324,11.594012,13.347041,-1.6933069,23.684652,-41.273163,-30.159498,4.7979503,-29.703737,-46.79996,-11.5651655,40.052273,0.6842125,41.563587,-13.308274,-12.195217,3.934862,6.473984,30.367748,2.3196013,-19.55363,-20.95867,4.5606737,21.518204,4.5942698,16.050592,9.644511,22.699379,-19.929451,-24.809338,-1.1055079,-7.800689,15.374009,-4.624706,30.080608,-18.974888,6.667135,-7.2104087,-1.0591533,-2.2604237,8.649691,20.63816,-19.991058,-10.969779,-1.8885251,16.466946,28.405407,23.719131,29.678492,17.153618,39.118664,-17.383064,-20.250908,28.285135,-7.5347,-9.010131,35.68383,15.292389,-10.166677,0.8219684,7.331145,29.468279,-33.625732,-42.87714,13.287082,-6.6689086,5.2813263,-4.788892,0.9683024,9.217271,-10.08849,-16.937994,8.081012,-17.502188,40.80889,-10.699255,24.390545,0.35513845,10.46215,-19.821257,26.19368,-14.981529,32.748116,-6.8657885,7.677482,4.8532505,9.122775,35.078648,-1.1734691,4.0214124,28.826561,41.047802,19.442982,-5.81122,-22.670893,-0.7497505,-31.858831,-23.706802,39.494057,-37.87441,-2.363207,-16.168766,8.051541,12.539106,23.449373,26.97834,31.778234,17.768265,-10.594918,10.694687,-28.497232,-30.923933,-14.215711,-18.564207,6.2845163,-21.234983,-0.5889718,-8.421514,-3.5414796,-2.8497531,-9.159768,13.482346,37.26881,-3.9482913,-25.643747,-39.914898,-32.237865,-9.255512,-25.567265,5.312441,-10.149114,-25.161589,-9.962232,-2.0171697,-26.179396,12.634192,-11.8954735,-28.954254,-26.275496,16.132462,-17.361115,2.0018241,-4.5549483,8.614612,11.881593,5.874071,-1.3160928,6.9843388,-32.81802,14.08689,-24.205252,-11.83367,23.255611,-2.3332856,7.1383457,-23.346935,-39.386726,-6.665228,-10.644541,-20.60847,26.794691,43.566456,-35.093792,-16.293839,-39.63661,32.00231,-13.569787,35.631588,-23.525099,13.225658,2.5671365,37.464718,33.489464,-18.610027,-11.443076,4.390018,28.772339,-1.5380352,34.89282,1.3698092,10.872628,3.9748454,15.451318,17.900589,-6.1185446,-1.4494866,-25.46735,42.464466,12.896277,23.491287,-24.734991,6.6484103,-11.691435,-20.209747,-12.181335,23.758839,-38.01772,9.930197,-0.30491123,-3.408189,33.257984,42.40064,27.201906,-6.1207576,-5.69633,1.34671,9.890506,-5.638137,6.760479,-43.682354,12.249567,6.6226754,-6.0218663,-2.507021,-3.4713774,-21.086988,26.36034,-9.672013,20.25403,3.3516939,-14.279569,29.011623,19.479269,0.5622959,19.088194,24.258238,-3.854777,-7.2416277,3.018525,-13.871771,-25.51603,-17.919353,25.660019,-13.4165125,-8.9306555,-17.388088,-5.4058046,-36.763203,-30.430258,0.62365216,0.5748912,-18.250027,-10.5749035,14.725014,12.940843,-13.839105,-7.352969,1.5217867,-1.7838577,19.341063,2.6305492,-25.812206,34.37917,-14.073662,1.8518023,30.829847,31.131916,22.496754,33.589527,17.983105,-36.521427,-20.853487,-34.521847,-16.5437,-31.528498,1.167478,20.532587,17.613655,9.8365135,25.981379,-4.7303233,9.811186,20.680908,-22.87946,12.889867,-12.258814,-22.167595,13.797824,-6.55651,34.779446,34.996975,12.388173,26.53796,6.085696,27.425016,-17.012678,-38.895935,32.79777,-10.562678,-9.922961,8.030726,6.875307,4.172443,-31.768236,-8.073241,-15.976216,-29.452436,-11.002082,34.38823,-8.936405,36.59647,-11.294001,-35.8093,-16.402126,14.80944,15.820766,-23.745523,38.01862,8.198763,-21.419388,19.275677,4.8992777,-3.6939442,-2.0346904,-18.835863,0.55667263,41.32376,26.3987,9.416646,0.43020096,2.0916693,-11.287562,19.428988,-9.143727,-40.77459,-13.138228,-6.289333,2.2639437,19.178648,-35.81527,12.674287,-33.916454,16.041548,34.623646,-18.497532,16.219461,10.726037,0.37090924,34.512085,-3.2262306,-20.364,-28.30705,-34.274925,-5.1671734,33.230053,-39.251656,-28.388292,-32.00128,-33.327408,-5.799868,-11.224435,-26.477629,-33.31612,3.8154078,11.832722,2.7524314,7.197956,6.2428584,12.581154,4.884174,-0.68732077,-19.527199,18.443506,-7.6953125,-21.328793,-26.116766,-24.32889,-14.07028,27.71543,8.451136,-32.86758,35.056393,-21.990427,-0.8707247,6.9684706,-7.417832,26.946455,29.372183,37.555313,-36.19053,15.729382,-0.150128,-13.459749,-3.8390229,-10.727979,16.177702,27.142105,-32.273632,-9.569527,20.887913,-16.578611,-14.06744,11.65307,1.0152973,13.6795225,3.9706242,4.1208305,14.405023,-30.65744,4.1015177,16.605772,5.924362,-20.692112,24.54241,-1.7875309,20.58446,31.055742,10.161226,4.1563616,-20.798273,-26.319975,-37.943565,0.95479697,-18.531189,-30.600847,-31.628359,-32.845634,14.055483,11.060629,-34.330425,-3.4730787,26.79887,2.4373024,-41.918484,23.611618,-5.41704,18.853117,7.4978075,-43.867985,27.796673,17.03608,-26.34978,-8.28383,5.6115828,-14.575532,-8.408633,30.2504,46.06091,-31.075508,-1.4902967,0.07600572,12.057202,23.472137,-20.051395,33.156315,-13.954258,11.23655,-15.205717,17.342197,-26.73629,16.452253,30.698088,16.780365,-4.307549,-7.7332706,14.189254,7.3345914,7.251889,-2.4614546,34.08533,-20.169418,-8.315257,-18.680779,-15.877786,24.913668,-35.888947,10.989296,-7.584792,39.68511,17.2408,39.03983,-1.668427,-7.134264,-13.392259,14.092603,-18.811983,7.422351,9.314024,20.912512,-30.811728,20.891262,31.77728,29.46487,-10.994788,-7.8448415,8.1725855,2.6060402,-39.364933,-3.3810065,-8.928865,-26.524736,9.036347,-18.87505,-14.305426,20.051582,18.90065,-21.876411,6.246309,0.7326032,-20.00369,-28.998997,-31.051222,1.4034687,-3.5573795,6.4384856,-23.851954,-22.986223,-6.704063,32.940083,6.9737344,-36.32343,-21.67034,-3.8269143,-36.111042,9.417508,6.68098,-25.921556,-13.484701,14.3847885,15.47847,-1.9072438,-24.319012,-18.953003,3.69627,7.3686295,4.997406,-6.457166,29.036,24.111889,-16.9031,-32.351257,-21.740837,0.16759253,24.476128,32.777885,-13.933546,28.25131,16.48993,6.6025352,-1.0375206,-13.25587,-21.65194,9.383082,-34.41796,-29.448217,26.047905,27.655556,-8.823119,-23.33204,34.449368,11.805798,-14.42096,25.962612,-2.9814487,5.4195814,-1.1322348,-0.3087598,2.1406713,-0.6864919,-8.9709215,-33.46405,-17.148527,43.95561,13.853739,22.346144,-15.902147,7.5924873,8.887618,10.519633,-0.5058667,6.405241,0.88135546,-17.435099,-6.483107,-0.33265644,-8.150664,12.98177,-40.40309,-29.315174,-1.4602226,2.8920743,14.784298,0.9082908,1.9647819,31.174334,-15.910877,-11.378102,-6.913202,-24.31012,-2.7608116,10.049334,-12.133313,-10.476805,9.984638,-5.7483487,19.424292,18.418203,21.87613,-15.0913315,2.232016,25.460108,2.211503,3.3356078,-1.8284373,33.33434,-35.402977,13.843983,-26.386118,-22.247723,23.162584,-26.228985,25.815105,-11.858302,-8.064363,-2.7516756,3.031347,-29.193886,-22.158138,0.1819606,16.988415,-1.6532115,-19.72229,34.092598,-35.156395,-42.863766,-25.543165,-7.953539,23.71179,21.101192,-17.889086,-5.940201,27.376492,-26.628342,27.061577,-14.555304,-17.299595,10.559717,16.196247,14.676871,-14.470224,-30.582405,-4.866943,-25.373446,-3.2223969,1.8461719,8.60609,2.5398226,0.12629002,-30.77502,16.183449,-18.928408,7.6460195,6.3739247,-4.4389544,9.782443,-37.03906,21.11104,22.121988,6.9911165,1.1978048,28.896032,3.135047,19.561602,41.63318,-41.272354,-15.851601,-18.929838,20.389553,-14.167261,-34.88103,-21.784168,6.7438855,-11.234314,1.4380285,-43.908894,2.8676987,7.852056,13.846225,25.213675,23.6509,-20.4351,13.169667,-23.30963,18.974426,4.671925,38.103462,24.371769,-1.0896258,-7.518446,-13.07531,-30.210829,14.0069895,-28.601059,27.454271,-13.542983,16.882212,-30.128756,37.320107,18.529621,29.333284,-23.450514,14.373248,-21.567385,-5.088631,1.039933,-10.645615,10.994688,16.491772,25.358847,-11.400302,-0.89454275,-4.8420663,-25.68996,-24.872746,-11.4458275,-17.785818,-3.0678296,-3.387646,16.019445,24.818983,-18.14204,-25.745733,19.27702,32.456226,-9.784445,-8.054062,-4.894368,34.336975],\"type\":\"scatter3d\"}],                        {\"template\":{\"data\":{\"histogram2dcontour\":[{\"type\":\"histogram2dcontour\",\"colorbar\":{\"outlinewidth\":0,\"ticks\":\"\"},\"colorscale\":[[0.0,\"#0d0887\"],[0.1111111111111111,\"#46039f\"],[0.2222222222222222,\"#7201a8\"],[0.3333333333333333,\"#9c179e\"],[0.4444444444444444,\"#bd3786\"],[0.5555555555555556,\"#d8576b\"],[0.6666666666666666,\"#ed7953\"],[0.7777777777777778,\"#fb9f3a\"],[0.8888888888888888,\"#fdca26\"],[1.0,\"#f0f921\"]]}],\"choropleth\":[{\"type\":\"choropleth\",\"colorbar\":{\"outlinewidth\":0,\"ticks\":\"\"}}],\"histogram2d\":[{\"type\":\"histogram2d\",\"colorbar\":{\"outlinewidth\":0,\"ticks\":\"\"},\"colorscale\":[[0.0,\"#0d0887\"],[0.1111111111111111,\"#46039f\"],[0.2222222222222222,\"#7201a8\"],[0.3333333333333333,\"#9c179e\"],[0.4444444444444444,\"#bd3786\"],[0.5555555555555556,\"#d8576b\"],[0.6666666666666666,\"#ed7953\"],[0.7777777777777778,\"#fb9f3a\"],[0.8888888888888888,\"#fdca26\"],[1.0,\"#f0f921\"]]}],\"heatmap\":[{\"type\":\"heatmap\",\"colorbar\":{\"outlinewidth\":0,\"ticks\":\"\"},\"colorscale\":[[0.0,\"#0d0887\"],[0.1111111111111111,\"#46039f\"],[0.2222222222222222,\"#7201a8\"],[0.3333333333333333,\"#9c179e\"],[0.4444444444444444,\"#bd3786\"],[0.5555555555555556,\"#d8576b\"],[0.6666666666666666,\"#ed7953\"],[0.7777777777777778,\"#fb9f3a\"],[0.8888888888888888,\"#fdca26\"],[1.0,\"#f0f921\"]]}],\"heatmapgl\":[{\"type\":\"heatmapgl\",\"colorbar\":{\"outlinewidth\":0,\"ticks\":\"\"},\"colorscale\":[[0.0,\"#0d0887\"],[0.1111111111111111,\"#46039f\"],[0.2222222222222222,\"#7201a8\"],[0.3333333333333333,\"#9c179e\"],[0.4444444444444444,\"#bd3786\"],[0.5555555555555556,\"#d8576b\"],[0.6666666666666666,\"#ed7953\"],[0.7777777777777778,\"#fb9f3a\"],[0.8888888888888888,\"#fdca26\"],[1.0,\"#f0f921\"]]}],\"contourcarpet\":[{\"type\":\"contourcarpet\",\"colorbar\":{\"outlinewidth\":0,\"ticks\":\"\"}}],\"contour\":[{\"type\":\"contour\",\"colorbar\":{\"outlinewidth\":0,\"ticks\":\"\"},\"colorscale\":[[0.0,\"#0d0887\"],[0.1111111111111111,\"#46039f\"],[0.2222222222222222,\"#7201a8\"],[0.3333333333333333,\"#9c179e\"],[0.4444444444444444,\"#bd3786\"],[0.5555555555555556,\"#d8576b\"],[0.6666666666666666,\"#ed7953\"],[0.7777777777777778,\"#fb9f3a\"],[0.8888888888888888,\"#fdca26\"],[1.0,\"#f0f921\"]]}],\"surface\":[{\"type\":\"surface\",\"colorbar\":{\"outlinewidth\":0,\"ticks\":\"\"},\"colorscale\":[[0.0,\"#0d0887\"],[0.1111111111111111,\"#46039f\"],[0.2222222222222222,\"#7201a8\"],[0.3333333333333333,\"#9c179e\"],[0.4444444444444444,\"#bd3786\"],[0.5555555555555556,\"#d8576b\"],[0.6666666666666666,\"#ed7953\"],[0.7777777777777778,\"#fb9f3a\"],[0.8888888888888888,\"#fdca26\"],[1.0,\"#f0f921\"]]}],\"mesh3d\":[{\"type\":\"mesh3d\",\"colorbar\":{\"outlinewidth\":0,\"ticks\":\"\"}}],\"scatter\":[{\"fillpattern\":{\"fillmode\":\"overlay\",\"size\":10,\"solidity\":0.2},\"type\":\"scatter\"}],\"parcoords\":[{\"type\":\"parcoords\",\"line\":{\"colorbar\":{\"outlinewidth\":0,\"ticks\":\"\"}}}],\"scatterpolargl\":[{\"type\":\"scatterpolargl\",\"marker\":{\"colorbar\":{\"outlinewidth\":0,\"ticks\":\"\"}}}],\"bar\":[{\"error_x\":{\"color\":\"#2a3f5f\"},\"error_y\":{\"color\":\"#2a3f5f\"},\"marker\":{\"line\":{\"color\":\"#E5ECF6\",\"width\":0.5},\"pattern\":{\"fillmode\":\"overlay\",\"size\":10,\"solidity\":0.2}},\"type\":\"bar\"}],\"scattergeo\":[{\"type\":\"scattergeo\",\"marker\":{\"colorbar\":{\"outlinewidth\":0,\"ticks\":\"\"}}}],\"scatterpolar\":[{\"type\":\"scatterpolar\",\"marker\":{\"colorbar\":{\"outlinewidth\":0,\"ticks\":\"\"}}}],\"histogram\":[{\"marker\":{\"pattern\":{\"fillmode\":\"overlay\",\"size\":10,\"solidity\":0.2}},\"type\":\"histogram\"}],\"scattergl\":[{\"type\":\"scattergl\",\"marker\":{\"colorbar\":{\"outlinewidth\":0,\"ticks\":\"\"}}}],\"scatter3d\":[{\"type\":\"scatter3d\",\"line\":{\"colorbar\":{\"outlinewidth\":0,\"ticks\":\"\"}},\"marker\":{\"colorbar\":{\"outlinewidth\":0,\"ticks\":\"\"}}}],\"scattermapbox\":[{\"type\":\"scattermapbox\",\"marker\":{\"colorbar\":{\"outlinewidth\":0,\"ticks\":\"\"}}}],\"scatterternary\":[{\"type\":\"scatterternary\",\"marker\":{\"colorbar\":{\"outlinewidth\":0,\"ticks\":\"\"}}}],\"scattercarpet\":[{\"type\":\"scattercarpet\",\"marker\":{\"colorbar\":{\"outlinewidth\":0,\"ticks\":\"\"}}}],\"carpet\":[{\"aaxis\":{\"endlinecolor\":\"#2a3f5f\",\"gridcolor\":\"white\",\"linecolor\":\"white\",\"minorgridcolor\":\"white\",\"startlinecolor\":\"#2a3f5f\"},\"baxis\":{\"endlinecolor\":\"#2a3f5f\",\"gridcolor\":\"white\",\"linecolor\":\"white\",\"minorgridcolor\":\"white\",\"startlinecolor\":\"#2a3f5f\"},\"type\":\"carpet\"}],\"table\":[{\"cells\":{\"fill\":{\"color\":\"#EBF0F8\"},\"line\":{\"color\":\"white\"}},\"header\":{\"fill\":{\"color\":\"#C8D4E3\"},\"line\":{\"color\":\"white\"}},\"type\":\"table\"}],\"barpolar\":[{\"marker\":{\"line\":{\"color\":\"#E5ECF6\",\"width\":0.5},\"pattern\":{\"fillmode\":\"overlay\",\"size\":10,\"solidity\":0.2}},\"type\":\"barpolar\"}],\"pie\":[{\"automargin\":true,\"type\":\"pie\"}]},\"layout\":{\"autotypenumbers\":\"strict\",\"colorway\":[\"#636efa\",\"#EF553B\",\"#00cc96\",\"#ab63fa\",\"#FFA15A\",\"#19d3f3\",\"#FF6692\",\"#B6E880\",\"#FF97FF\",\"#FECB52\"],\"font\":{\"color\":\"#2a3f5f\"},\"hovermode\":\"closest\",\"hoverlabel\":{\"align\":\"left\"},\"paper_bgcolor\":\"white\",\"plot_bgcolor\":\"#E5ECF6\",\"polar\":{\"bgcolor\":\"#E5ECF6\",\"angularaxis\":{\"gridcolor\":\"white\",\"linecolor\":\"white\",\"ticks\":\"\"},\"radialaxis\":{\"gridcolor\":\"white\",\"linecolor\":\"white\",\"ticks\":\"\"}},\"ternary\":{\"bgcolor\":\"#E5ECF6\",\"aaxis\":{\"gridcolor\":\"white\",\"linecolor\":\"white\",\"ticks\":\"\"},\"baxis\":{\"gridcolor\":\"white\",\"linecolor\":\"white\",\"ticks\":\"\"},\"caxis\":{\"gridcolor\":\"white\",\"linecolor\":\"white\",\"ticks\":\"\"}},\"coloraxis\":{\"colorbar\":{\"outlinewidth\":0,\"ticks\":\"\"}},\"colorscale\":{\"sequential\":[[0.0,\"#0d0887\"],[0.1111111111111111,\"#46039f\"],[0.2222222222222222,\"#7201a8\"],[0.3333333333333333,\"#9c179e\"],[0.4444444444444444,\"#bd3786\"],[0.5555555555555556,\"#d8576b\"],[0.6666666666666666,\"#ed7953\"],[0.7777777777777778,\"#fb9f3a\"],[0.8888888888888888,\"#fdca26\"],[1.0,\"#f0f921\"]],\"sequentialminus\":[[0.0,\"#0d0887\"],[0.1111111111111111,\"#46039f\"],[0.2222222222222222,\"#7201a8\"],[0.3333333333333333,\"#9c179e\"],[0.4444444444444444,\"#bd3786\"],[0.5555555555555556,\"#d8576b\"],[0.6666666666666666,\"#ed7953\"],[0.7777777777777778,\"#fb9f3a\"],[0.8888888888888888,\"#fdca26\"],[1.0,\"#f0f921\"]],\"diverging\":[[0,\"#8e0152\"],[0.1,\"#c51b7d\"],[0.2,\"#de77ae\"],[0.3,\"#f1b6da\"],[0.4,\"#fde0ef\"],[0.5,\"#f7f7f7\"],[0.6,\"#e6f5d0\"],[0.7,\"#b8e186\"],[0.8,\"#7fbc41\"],[0.9,\"#4d9221\"],[1,\"#276419\"]]},\"xaxis\":{\"gridcolor\":\"white\",\"linecolor\":\"white\",\"ticks\":\"\",\"title\":{\"standoff\":15},\"zerolinecolor\":\"white\",\"automargin\":true,\"zerolinewidth\":2},\"yaxis\":{\"gridcolor\":\"white\",\"linecolor\":\"white\",\"ticks\":\"\",\"title\":{\"standoff\":15},\"zerolinecolor\":\"white\",\"automargin\":true,\"zerolinewidth\":2},\"scene\":{\"xaxis\":{\"backgroundcolor\":\"#E5ECF6\",\"gridcolor\":\"white\",\"linecolor\":\"white\",\"showbackground\":true,\"ticks\":\"\",\"zerolinecolor\":\"white\",\"gridwidth\":2},\"yaxis\":{\"backgroundcolor\":\"#E5ECF6\",\"gridcolor\":\"white\",\"linecolor\":\"white\",\"showbackground\":true,\"ticks\":\"\",\"zerolinecolor\":\"white\",\"gridwidth\":2},\"zaxis\":{\"backgroundcolor\":\"#E5ECF6\",\"gridcolor\":\"white\",\"linecolor\":\"white\",\"showbackground\":true,\"ticks\":\"\",\"zerolinecolor\":\"white\",\"gridwidth\":2}},\"shapedefaults\":{\"line\":{\"color\":\"#2a3f5f\"}},\"annotationdefaults\":{\"arrowcolor\":\"#2a3f5f\",\"arrowhead\":0,\"arrowwidth\":1},\"geo\":{\"bgcolor\":\"white\",\"landcolor\":\"#E5ECF6\",\"subunitcolor\":\"white\",\"showland\":true,\"showlakes\":true,\"lakecolor\":\"white\"},\"title\":{\"x\":0.05},\"mapbox\":{\"style\":\"light\"}}},\"scene\":{\"domain\":{\"x\":[0.0,1.0],\"y\":[0.0,1.0]},\"xaxis\":{\"title\":{\"text\":\"x\"}},\"yaxis\":{\"title\":{\"text\":\"y\"}},\"zaxis\":{\"title\":{\"text\":\"z\"}}},\"legend\":{\"tracegroupgap\":0},\"margin\":{\"t\":60}},                        {\"responsive\": true}                    ).then(function(){\n",
              "                            \n",
              "var gd = document.getElementById('b10263de-da35-4012-86ac-880f7e51e0c0');\n",
              "var x = new MutationObserver(function (mutations, observer) {{\n",
              "        var display = window.getComputedStyle(gd).display;\n",
              "        if (!display || display === 'none') {{\n",
              "            console.log([gd, 'removed!']);\n",
              "            Plotly.purge(gd);\n",
              "            observer.disconnect();\n",
              "        }}\n",
              "}});\n",
              "\n",
              "// Listen for the removal of the full notebook cells\n",
              "var notebookContainer = gd.closest('#notebook-container');\n",
              "if (notebookContainer) {{\n",
              "    x.observe(notebookContainer, {childList: true});\n",
              "}}\n",
              "\n",
              "// Listen for the clearing of the current output cell\n",
              "var outputEl = gd.closest('.output');\n",
              "if (outputEl) {{\n",
              "    x.observe(outputEl, {childList: true});\n",
              "}}\n",
              "\n",
              "                        })                };                            </script>        </div>\n",
              "</body>\n",
              "</html>"
            ]
          },
          "metadata": {}
        }
      ],
      "source": [
        "# Graficar los embedddings en 3D\n",
        "\n",
        "vecs, labels = reduce_dimensions(w2v_model,3)\n",
        "\n",
        "fig = px.scatter_3d(x=vecs[:MAX_WORDS,0], y=vecs[:MAX_WORDS,1], z=vecs[:MAX_WORDS,2],text=labels[:MAX_WORDS])\n",
        "fig.update_traces(marker_size = 2)\n",
        "fig.show(renderer=\"colab\") # esto para plotly en colab"
      ]
    },
    {
      "cell_type": "markdown",
      "source": [
        "El modelo de Word2Vec entrenado sobre Moby-Dick demuestra una notable capacidad para relacionar conceptos propios del universo del libro como términos náuticos (harpoon, sperm, whale, deck, vessel) e identificar personajes y su relación personal (Ahab y Queequeg). A su vez, es capaz de detectar y organizar conceptos más generales como:\n",
        "\n",
        "\n",
        "*   Números\n",
        "*   Unidades de medida del tiempo (hour, day, month, yeat, night, day, sunday)\n",
        "*   Unidades de medida de distancia (miles, feets, inches, fathoms)\n",
        "*   Sentimientos (fear, sorrow, madness, rage)"
      ],
      "metadata": {
        "id": "aMU1FpSawWUs"
      }
    }
  ],
  "metadata": {
    "colab": {
      "provenance": []
    },
    "kernelspec": {
      "display_name": "Python 3 (ipykernel)",
      "language": "python",
      "name": "python3"
    },
    "language_info": {
      "codemirror_mode": {
        "name": "ipython",
        "version": 3
      },
      "file_extension": ".py",
      "mimetype": "text/x-python",
      "name": "python",
      "nbconvert_exporter": "python",
      "pygments_lexer": "ipython3",
      "version": "3.10.6"
    }
  },
  "nbformat": 4,
  "nbformat_minor": 0
}