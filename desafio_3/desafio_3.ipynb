{
  "cells": [
    {
      "cell_type": "markdown",
      "metadata": {
        "id": "g3yeJGnCYxuF"
      },
      "source": [
        "<img src=\"https://github.com/hernancontigiani/ceia_memorias_especializacion/raw/master/Figures/logoFIUBA.jpg\" width=\"500\" align=\"center\">\n",
        "\n",
        "\n",
        "# Procesamiento de lenguaje natural\n",
        "## Modelo de lenguaje con tokenización por caracteres"
      ]
    },
    {
      "cell_type": "markdown",
      "metadata": {
        "id": "Iv5PEwGzZA9-"
      },
      "source": [
        "### Consigna\n",
        "- Seleccionar un corpus de texto sobre el cual entrenar el modelo de lenguaje.\n",
        "- Realizar el pre-procesamiento adecuado para tokenizar el corpus, estructurar el dataset y separar entre datos de entrenamiento y validación.\n",
        "- Proponer arquitecturas de redes neuronales basadas en unidades recurrentes para implementar un modelo de lenguaje.\n",
        "- Con el o los modelos que consideren adecuados, generar nuevas secuencias a partir de secuencias de contexto con las estrategias de greedy search y beam search determístico y estocástico. En este último caso observar el efecto de la temperatura en la generación de secuencias.\n",
        "\n",
        "\n",
        "### Sugerencias\n",
        "- Durante el entrenamiento, guiarse por el descenso de la perplejidad en los datos de validación para finalizar el entrenamiento. Para ello se provee un callback.\n",
        "- Explorar utilizar SimpleRNN (celda de Elman), LSTM y GRU.\n",
        "- rmsprop es el optimizador recomendado para la buena convergencia. No obstante se pueden explorar otros.\n"
      ]
    },
    {
      "cell_type": "code",
      "execution_count": 1,
      "metadata": {
        "id": "Y-QdFbHZYj7C"
      },
      "outputs": [],
      "source": [
        "import requests\n",
        "import re\n",
        "import os\n",
        "import tensorflow as tf\n",
        "import heapq\n",
        "import numpy as np\n",
        "\n",
        "from tensorflow.keras.layers import TextVectorization\n",
        "from tensorflow.keras.models import Sequential, load_model\n",
        "from tensorflow.keras.utils import pad_sequences\n",
        "from tensorflow.keras.layers import TextVectorization, Embedding, LSTM, Dropout, TimeDistributed, Dense, GRU, SimpleRNN, CategoryEncoding\n",
        "from tensorflow.keras.optimizers import RMSprop\n",
        "from tensorflow.keras import backend as K"
      ]
    },
    {
      "cell_type": "markdown",
      "source": [
        "## Entrenamiento"
      ],
      "metadata": {
        "id": "mY0aupiim5yL"
      }
    },
    {
      "cell_type": "markdown",
      "metadata": {
        "id": "xTvXlEKQZdqx"
      },
      "source": [
        "### Datos\n",
        "Se utiliza como dataset para entrenar los modelos el libro de Don Quijote descargado desde la web de gutenberg."
      ]
    },
    {
      "cell_type": "code",
      "source": [
        "import requests\n",
        "from bs4 import BeautifulSoup\n",
        "\n",
        "def download_gutenberg_txt(book_id):\n",
        "    url = f\"https://www.gutenberg.org/ebooks/{book_id}\"\n",
        "    response = requests.get(url)\n",
        "    soup = BeautifulSoup(response.text, 'html.parser')\n",
        "\n",
        "    link_tag = soup.find(\"a\", string=\"Plain Text UTF-8\")\n",
        "    if not link_tag:\n",
        "        raise Exception(\"Plain Text link not found.\")\n",
        "\n",
        "    txt_link = link_tag[\"href\"]\n",
        "\n",
        "    if txt_link.startswith(\"/\"):\n",
        "        txt_url = f\"https://www.gutenberg.org{txt_link}\"\n",
        "    else:\n",
        "        txt_url = txt_link\n",
        "\n",
        "    txt_response = requests.get(txt_url)\n",
        "    txt_content = txt_response.text\n",
        "    return txt_content\n",
        "\n",
        "def clean_gutenberg_text(raw_text):\n",
        "    start_marker = \"*** START OF THE PROJECT GUTENBERG EBOOK DON QUIJOTE ***\"\n",
        "    end_marker = \"*** END OF THE PROJECT GUTENBERG EBOOK DON QUIJOTE ***\"\n",
        "\n",
        "    start_index = raw_text.find(start_marker)\n",
        "    end_index = raw_text.find(end_marker)\n",
        "\n",
        "    if start_index == -1 or end_index == -1:\n",
        "        raise ValueError(\"Start or end marker not found in text.\")\n",
        "\n",
        "    content = raw_text[start_index + len(start_marker):end_index]\n",
        "\n",
        "    return content.strip()\n",
        "\n",
        "book_text = download_gutenberg_txt(2000)\n",
        "cleaned_text = clean_gutenberg_text(book_text)\n",
        "cleaned_text = re.sub(r'\\s+', ' ', cleaned_text).strip().lower()"
      ],
      "metadata": {
        "id": "DQjJ9u-Thjn4"
      },
      "execution_count": null,
      "outputs": []
    },
    {
      "cell_type": "code",
      "source": [
        "print(cleaned_text[:1000])\n",
        "print('...')\n",
        "print(cleaned_text[-1000:])"
      ],
      "metadata": {
        "colab": {
          "base_uri": "https://localhost:8080/"
        },
        "id": "4vb3r3VciVbg",
        "outputId": "d8ee5684-0ff7-4804-dcb2-afc6571edbb9"
      },
      "execution_count": null,
      "outputs": [
        {
          "output_type": "stream",
          "name": "stdout",
          "text": [
            "el ingenioso hidalgo don quijote de la mancha por miguel de cervantes saavedra el ingenioso hidalgo don quijote de la mancha tasa testimonio de las erratas el rey al duque de béjar prólogo al libro de don quijote de la mancha que trata de la condición y ejercicio del famoso hidalgo don quijote de la mancha que trata de la primera salida que de su tierra hizo el ingenioso don quijote donde se cuenta la graciosa manera que tuvo don quijote en armarse caballero de lo que le sucedió a nuestro caballero cuando salió de la venta donde se prosigue la narración de la desgracia de nuestro caballero del donoso y grande escrutinio que el cura y el barbero hicieron en la librería de nuestro ingenioso hidalgo de la segunda salida de nuestro buen caballero don quijote de la mancha del buen suceso que el valeroso don quijote tuvo en la espantable y jamás imaginada aventura de los molinos de viento, con otros sucesos dignos de felice recordación donde se concluye y da fin a la estupenda batalla que el\n",
            "...\n",
            " llegas a conocerle, que deje reposar en la sepultura los cansados y ya podridos huesos de don quijote, y no le quiera llevar, contra todos los fueros de la muerte, a castilla la vieja, haciéndole salir de la fuesa donde real y verdaderamente yace tendido de largo a largo, imposibilitado de hacer tercera jornada y salida nueva; que, para hacer burla de tantas como hicieron tantos andantes caballeros, bastan las dos que él hizo, tan a gusto y beneplácito de las gentes a cuya noticia llegaron, así en éstos como en los estraños reinos''. y con esto cumplirás con tu cristiana profesión, aconsejando bien a quien mal te quiere, y yo quedaré satisfecho y ufano de haber sido el primero que gozó el fruto de sus escritos enteramente, como deseaba, pues no ha sido otro mi deseo que poner en aborrecimiento de los hombres las fingidas y disparatadas historias de los libros de caballerías, que, por las de mi verdadero don quijote, van ya tropezando, y han de caer del todo, sin duda alguna. vale. fin\n"
          ]
        }
      ]
    },
    {
      "cell_type": "markdown",
      "metadata": {
        "id": "2oIUjVU0LB0r"
      },
      "source": [
        "###  Tokenización del texto"
      ]
    },
    {
      "cell_type": "code",
      "source": [
        "chars_vocab = set(cleaned_text)\n",
        "vocab_size = len(chars_vocab)\n",
        "print(vocab_size)\n",
        "\n",
        "char2idx = {k: v for v,k in enumerate(chars_vocab)}\n",
        "print(char2idx)\n",
        "idx2char = {v: k for k,v in char2idx.items()}\n",
        "print(idx2char)\n",
        "\n",
        "tokenized_text = [char2idx[ch] for ch in cleaned_text]"
      ],
      "metadata": {
        "colab": {
          "base_uri": "https://localhost:8080/"
        },
        "id": "qqG76m0yUtsa",
        "outputId": "c7ec08e5-535d-4f94-d48f-07932c656669"
      },
      "execution_count": null,
      "outputs": [
        {
          "output_type": "stream",
          "name": "stdout",
          "text": [
            "61\n",
            "{'j': 0, '«': 1, 'p': 2, 'g': 3, 'v': 4, 'q': 5, 'h': 6, '-': 7, 'í': 8, ' ': 9, 'ù': 10, 'd': 11, '2': 12, 'm': 13, 'w': 14, '0': 15, '¡': 16, '¿': 17, ';': 18, '»': 19, 'e': 20, 'i': 21, 'b': 22, 'ï': 23, 'n': 24, 'u': 25, '!': 26, 'é': 27, 'y': 28, 'ü': 29, 'ñ': 30, '.': 31, '4': 32, ':': 33, 's': 34, 'f': 35, 't': 36, '(': 37, '\"': 38, '3': 39, 'ó': 40, ']': 41, 'r': 42, ')': 43, '5': 44, '6': 45, 'á': 46, '?': 47, 'l': 48, 'à': 49, 'ú': 50, 'c': 51, ',': 52, 'x': 53, '—': 54, \"'\": 55, 'z': 56, '7': 57, 'a': 58, 'o': 59, '1': 60}\n",
            "{0: 'j', 1: '«', 2: 'p', 3: 'g', 4: 'v', 5: 'q', 6: 'h', 7: '-', 8: 'í', 9: ' ', 10: 'ù', 11: 'd', 12: '2', 13: 'm', 14: 'w', 15: '0', 16: '¡', 17: '¿', 18: ';', 19: '»', 20: 'e', 21: 'i', 22: 'b', 23: 'ï', 24: 'n', 25: 'u', 26: '!', 27: 'é', 28: 'y', 29: 'ü', 30: 'ñ', 31: '.', 32: '4', 33: ':', 34: 's', 35: 'f', 36: 't', 37: '(', 38: '\"', 39: '3', 40: 'ó', 41: ']', 42: 'r', 43: ')', 44: '5', 45: '6', 46: 'á', 47: '?', 48: 'l', 49: 'à', 50: 'ú', 51: 'c', 52: ',', 53: 'x', 54: '—', 55: \"'\", 56: 'z', 57: '7', 58: 'a', 59: 'o', 60: '1'}\n"
          ]
        }
      ]
    },
    {
      "cell_type": "code",
      "source": [
        "print(tokenized_text[:100])"
      ],
      "metadata": {
        "colab": {
          "base_uri": "https://localhost:8080/"
        },
        "id": "_Iz_el18VUsF",
        "outputId": "18c443d9-c156-4826-9933-ae5bbb2bc198"
      },
      "execution_count": null,
      "outputs": [
        {
          "output_type": "stream",
          "name": "stdout",
          "text": [
            "[20, 48, 9, 21, 24, 3, 20, 24, 21, 59, 34, 59, 9, 6, 21, 11, 58, 48, 3, 59, 9, 11, 59, 24, 9, 5, 25, 21, 0, 59, 36, 20, 9, 11, 20, 9, 48, 58, 9, 13, 58, 24, 51, 6, 58, 9, 2, 59, 42, 9, 13, 21, 3, 25, 20, 48, 9, 11, 20, 9, 51, 20, 42, 4, 58, 24, 36, 20, 34, 9, 34, 58, 58, 4, 20, 11, 42, 58, 9, 20, 48, 9, 21, 24, 3, 20, 24, 21, 59, 34, 59, 9, 6, 21, 11, 58, 48, 3, 59, 9]\n"
          ]
        }
      ]
    },
    {
      "cell_type": "markdown",
      "metadata": {
        "id": "pfpYcaypKcI9"
      },
      "source": [
        "### Separación set de entrenamiento y validación"
      ]
    },
    {
      "cell_type": "code",
      "source": [
        "batch_size = 64\n",
        "buffer_size = 10000\n",
        "val_split = 0.1\n",
        "context_size = 128\n",
        "\n",
        "sequences = tf.data.Dataset.from_tensor_slices(tokenized_text)\n",
        "\n",
        "sequences = sequences.window(context_size + 1, shift=1, drop_remainder=True)\n",
        "sequences = sequences.flat_map(lambda window: window.batch(context_size + 1))\n",
        "\n",
        "def split_input_target(seq):\n",
        "    input_seq = seq[:-1]\n",
        "    target_seq = seq[1:]\n",
        "    return input_seq, target_seq\n",
        "\n",
        "sequences = sequences.map(split_input_target)\n",
        "\n",
        "text_length = len(tokenized_text)\n",
        "total_sequences = text_length - context_size\n",
        "print(\"Total de secuencias:\", total_sequences)\n",
        "\n",
        "val_size = int(total_sequences * val_split)\n",
        "\n",
        "train_dataset = (\n",
        "    sequences\n",
        "    .skip(val_size)\n",
        "    .shuffle(buffer_size)\n",
        "    .batch(batch_size, drop_remainder=True)\n",
        "    .prefetch(tf.data.AUTOTUNE)\n",
        ")\n",
        "val_dataset = (\n",
        "    sequences\n",
        "    .take(val_size)\n",
        "    .batch(batch_size, drop_remainder=True)\n",
        "    .prefetch(tf.data.AUTOTUNE)\n",
        ")"
      ],
      "metadata": {
        "colab": {
          "base_uri": "https://localhost:8080/"
        },
        "id": "jZElFqNk8d6s",
        "outputId": "cfeacdf7-8ccf-4bfd-dc25-af9a2f30c809"
      },
      "execution_count": null,
      "outputs": [
        {
          "output_type": "stream",
          "name": "stdout",
          "text": [
            "Total de secuencias: 2104835\n"
          ]
        }
      ]
    },
    {
      "cell_type": "code",
      "source": [
        "def perplexity(y_true, y_pred):\n",
        "    cross_entropy = K.sparse_categorical_crossentropy(y_true, y_pred)\n",
        "    return K.exp(K.mean(cross_entropy))"
      ],
      "metadata": {
        "id": "odOWhnkseDS3"
      },
      "execution_count": null,
      "outputs": []
    },
    {
      "cell_type": "markdown",
      "metadata": {
        "id": "tnnjdAQ5UAEJ"
      },
      "source": [
        "### Definiendo los modelos"
      ]
    },
    {
      "cell_type": "markdown",
      "metadata": {
        "id": "wgz7VKwTUbj6"
      },
      "source": [
        "Se proponen 3 modelos a comparar. Un SimpleRNN, un GRU y un LSTM."
      ]
    },
    {
      "cell_type": "code",
      "source": [
        "simple_rnn_model = Sequential([\n",
        "  TimeDistributed(CategoryEncoding(num_tokens=vocab_size, output_mode = \"one_hot\"),input_shape=(None,1)),\n",
        "  SimpleRNN(200, return_sequences=True, dropout=0.1, recurrent_dropout=0.1 ),\n",
        "  Dense(vocab_size, activation='softmax')\n",
        "])\n",
        "\n",
        "simple_rnn_model.compile(\n",
        "    loss='sparse_categorical_crossentropy',\n",
        "    optimizer=RMSprop(),\n",
        "    metrics=[perplexity]\n",
        ")\n",
        "simple_rnn_model.summary()"
      ],
      "metadata": {
        "colab": {
          "base_uri": "https://localhost:8080/",
          "height": 299
        },
        "id": "jMOhoP_9V9Gy",
        "outputId": "2070d8e4-86e9-4288-f38f-7beae5efcc52"
      },
      "execution_count": null,
      "outputs": [
        {
          "output_type": "stream",
          "name": "stderr",
          "text": [
            "/usr/local/lib/python3.11/dist-packages/keras/src/layers/core/wrapper.py:27: UserWarning: Do not pass an `input_shape`/`input_dim` argument to a layer. When using Sequential models, prefer using an `Input(shape)` object as the first layer in the model instead.\n",
            "  super().__init__(**kwargs)\n"
          ]
        },
        {
          "output_type": "display_data",
          "data": {
            "text/plain": [
              "\u001b[1mModel: \"sequential\"\u001b[0m\n"
            ],
            "text/html": [
              "<pre style=\"white-space:pre;overflow-x:auto;line-height:normal;font-family:Menlo,'DejaVu Sans Mono',consolas,'Courier New',monospace\"><span style=\"font-weight: bold\">Model: \"sequential\"</span>\n",
              "</pre>\n"
            ]
          },
          "metadata": {}
        },
        {
          "output_type": "display_data",
          "data": {
            "text/plain": [
              "┏━━━━━━━━━━━━━━━━━━━━━━━━━━━━━━━━━┳━━━━━━━━━━━━━━━━━━━━━━━━┳━━━━━━━━━━━━━━━┓\n",
              "┃\u001b[1m \u001b[0m\u001b[1mLayer (type)                   \u001b[0m\u001b[1m \u001b[0m┃\u001b[1m \u001b[0m\u001b[1mOutput Shape          \u001b[0m\u001b[1m \u001b[0m┃\u001b[1m \u001b[0m\u001b[1m      Param #\u001b[0m\u001b[1m \u001b[0m┃\n",
              "┡━━━━━━━━━━━━━━━━━━━━━━━━━━━━━━━━━╇━━━━━━━━━━━━━━━━━━━━━━━━╇━━━━━━━━━━━━━━━┩\n",
              "│ time_distributed                │ (\u001b[38;5;45mNone\u001b[0m, \u001b[38;5;45mNone\u001b[0m, \u001b[38;5;34m61\u001b[0m)       │             \u001b[38;5;34m0\u001b[0m │\n",
              "│ (\u001b[38;5;33mTimeDistributed\u001b[0m)               │                        │               │\n",
              "├─────────────────────────────────┼────────────────────────┼───────────────┤\n",
              "│ simple_rnn (\u001b[38;5;33mSimpleRNN\u001b[0m)          │ (\u001b[38;5;45mNone\u001b[0m, \u001b[38;5;45mNone\u001b[0m, \u001b[38;5;34m200\u001b[0m)      │        \u001b[38;5;34m52,400\u001b[0m │\n",
              "├─────────────────────────────────┼────────────────────────┼───────────────┤\n",
              "│ dense (\u001b[38;5;33mDense\u001b[0m)                   │ (\u001b[38;5;45mNone\u001b[0m, \u001b[38;5;45mNone\u001b[0m, \u001b[38;5;34m61\u001b[0m)       │        \u001b[38;5;34m12,261\u001b[0m │\n",
              "└─────────────────────────────────┴────────────────────────┴───────────────┘\n"
            ],
            "text/html": [
              "<pre style=\"white-space:pre;overflow-x:auto;line-height:normal;font-family:Menlo,'DejaVu Sans Mono',consolas,'Courier New',monospace\">┏━━━━━━━━━━━━━━━━━━━━━━━━━━━━━━━━━┳━━━━━━━━━━━━━━━━━━━━━━━━┳━━━━━━━━━━━━━━━┓\n",
              "┃<span style=\"font-weight: bold\"> Layer (type)                    </span>┃<span style=\"font-weight: bold\"> Output Shape           </span>┃<span style=\"font-weight: bold\">       Param # </span>┃\n",
              "┡━━━━━━━━━━━━━━━━━━━━━━━━━━━━━━━━━╇━━━━━━━━━━━━━━━━━━━━━━━━╇━━━━━━━━━━━━━━━┩\n",
              "│ time_distributed                │ (<span style=\"color: #00d7ff; text-decoration-color: #00d7ff\">None</span>, <span style=\"color: #00d7ff; text-decoration-color: #00d7ff\">None</span>, <span style=\"color: #00af00; text-decoration-color: #00af00\">61</span>)       │             <span style=\"color: #00af00; text-decoration-color: #00af00\">0</span> │\n",
              "│ (<span style=\"color: #0087ff; text-decoration-color: #0087ff\">TimeDistributed</span>)               │                        │               │\n",
              "├─────────────────────────────────┼────────────────────────┼───────────────┤\n",
              "│ simple_rnn (<span style=\"color: #0087ff; text-decoration-color: #0087ff\">SimpleRNN</span>)          │ (<span style=\"color: #00d7ff; text-decoration-color: #00d7ff\">None</span>, <span style=\"color: #00d7ff; text-decoration-color: #00d7ff\">None</span>, <span style=\"color: #00af00; text-decoration-color: #00af00\">200</span>)      │        <span style=\"color: #00af00; text-decoration-color: #00af00\">52,400</span> │\n",
              "├─────────────────────────────────┼────────────────────────┼───────────────┤\n",
              "│ dense (<span style=\"color: #0087ff; text-decoration-color: #0087ff\">Dense</span>)                   │ (<span style=\"color: #00d7ff; text-decoration-color: #00d7ff\">None</span>, <span style=\"color: #00d7ff; text-decoration-color: #00d7ff\">None</span>, <span style=\"color: #00af00; text-decoration-color: #00af00\">61</span>)       │        <span style=\"color: #00af00; text-decoration-color: #00af00\">12,261</span> │\n",
              "└─────────────────────────────────┴────────────────────────┴───────────────┘\n",
              "</pre>\n"
            ]
          },
          "metadata": {}
        },
        {
          "output_type": "display_data",
          "data": {
            "text/plain": [
              "\u001b[1m Total params: \u001b[0m\u001b[38;5;34m64,661\u001b[0m (252.58 KB)\n"
            ],
            "text/html": [
              "<pre style=\"white-space:pre;overflow-x:auto;line-height:normal;font-family:Menlo,'DejaVu Sans Mono',consolas,'Courier New',monospace\"><span style=\"font-weight: bold\"> Total params: </span><span style=\"color: #00af00; text-decoration-color: #00af00\">64,661</span> (252.58 KB)\n",
              "</pre>\n"
            ]
          },
          "metadata": {}
        },
        {
          "output_type": "display_data",
          "data": {
            "text/plain": [
              "\u001b[1m Trainable params: \u001b[0m\u001b[38;5;34m64,661\u001b[0m (252.58 KB)\n"
            ],
            "text/html": [
              "<pre style=\"white-space:pre;overflow-x:auto;line-height:normal;font-family:Menlo,'DejaVu Sans Mono',consolas,'Courier New',monospace\"><span style=\"font-weight: bold\"> Trainable params: </span><span style=\"color: #00af00; text-decoration-color: #00af00\">64,661</span> (252.58 KB)\n",
              "</pre>\n"
            ]
          },
          "metadata": {}
        },
        {
          "output_type": "display_data",
          "data": {
            "text/plain": [
              "\u001b[1m Non-trainable params: \u001b[0m\u001b[38;5;34m0\u001b[0m (0.00 B)\n"
            ],
            "text/html": [
              "<pre style=\"white-space:pre;overflow-x:auto;line-height:normal;font-family:Menlo,'DejaVu Sans Mono',consolas,'Courier New',monospace\"><span style=\"font-weight: bold\"> Non-trainable params: </span><span style=\"color: #00af00; text-decoration-color: #00af00\">0</span> (0.00 B)\n",
              "</pre>\n"
            ]
          },
          "metadata": {}
        }
      ]
    },
    {
      "cell_type": "code",
      "source": [
        "embedding_dim = 128"
      ],
      "metadata": {
        "id": "ajwT6moipNya"
      },
      "execution_count": null,
      "outputs": []
    },
    {
      "cell_type": "code",
      "source": [
        "gru_model = Sequential([\n",
        "    TimeDistributed(CategoryEncoding(num_tokens=vocab_size, output_mode = \"one_hot\"),input_shape=(None,1)),\n",
        "    GRU(embedding_dim, return_sequences=True, dropout=0.2, recurrent_dropout=0.2),\n",
        "    GRU(embedding_dim, return_sequences=True, dropout=0.2, recurrent_dropout=0.2),\n",
        "    TimeDistributed(Dense(vocab_size, activation='softmax'))\n",
        "])\n",
        "\n",
        "gru_model.compile(\n",
        "    loss='sparse_categorical_crossentropy',\n",
        "    optimizer=RMSprop(),\n",
        "    metrics=[perplexity]\n",
        ")\n",
        "\n",
        "gru_model.summary()"
      ],
      "metadata": {
        "colab": {
          "base_uri": "https://localhost:8080/",
          "height": 293
        },
        "id": "pCrc6HCUox2e",
        "outputId": "ae4992c7-aeef-4950-9882-7b00ec746a3d"
      },
      "execution_count": null,
      "outputs": [
        {
          "output_type": "display_data",
          "data": {
            "text/plain": [
              "\u001b[1mModel: \"sequential_1\"\u001b[0m\n"
            ],
            "text/html": [
              "<pre style=\"white-space:pre;overflow-x:auto;line-height:normal;font-family:Menlo,'DejaVu Sans Mono',consolas,'Courier New',monospace\"><span style=\"font-weight: bold\">Model: \"sequential_1\"</span>\n",
              "</pre>\n"
            ]
          },
          "metadata": {}
        },
        {
          "output_type": "display_data",
          "data": {
            "text/plain": [
              "┏━━━━━━━━━━━━━━━━━━━━━━━━━━━━━━━━━┳━━━━━━━━━━━━━━━━━━━━━━━━┳━━━━━━━━━━━━━━━┓\n",
              "┃\u001b[1m \u001b[0m\u001b[1mLayer (type)                   \u001b[0m\u001b[1m \u001b[0m┃\u001b[1m \u001b[0m\u001b[1mOutput Shape          \u001b[0m\u001b[1m \u001b[0m┃\u001b[1m \u001b[0m\u001b[1m      Param #\u001b[0m\u001b[1m \u001b[0m┃\n",
              "┡━━━━━━━━━━━━━━━━━━━━━━━━━━━━━━━━━╇━━━━━━━━━━━━━━━━━━━━━━━━╇━━━━━━━━━━━━━━━┩\n",
              "│ time_distributed_1              │ (\u001b[38;5;45mNone\u001b[0m, \u001b[38;5;45mNone\u001b[0m, \u001b[38;5;34m61\u001b[0m)       │             \u001b[38;5;34m0\u001b[0m │\n",
              "│ (\u001b[38;5;33mTimeDistributed\u001b[0m)               │                        │               │\n",
              "├─────────────────────────────────┼────────────────────────┼───────────────┤\n",
              "│ gru (\u001b[38;5;33mGRU\u001b[0m)                       │ (\u001b[38;5;45mNone\u001b[0m, \u001b[38;5;45mNone\u001b[0m, \u001b[38;5;34m128\u001b[0m)      │        \u001b[38;5;34m73,344\u001b[0m │\n",
              "├─────────────────────────────────┼────────────────────────┼───────────────┤\n",
              "│ gru_1 (\u001b[38;5;33mGRU\u001b[0m)                     │ (\u001b[38;5;45mNone\u001b[0m, \u001b[38;5;45mNone\u001b[0m, \u001b[38;5;34m128\u001b[0m)      │        \u001b[38;5;34m99,072\u001b[0m │\n",
              "├─────────────────────────────────┼────────────────────────┼───────────────┤\n",
              "│ time_distributed_2              │ (\u001b[38;5;45mNone\u001b[0m, \u001b[38;5;45mNone\u001b[0m, \u001b[38;5;34m61\u001b[0m)       │         \u001b[38;5;34m7,869\u001b[0m │\n",
              "│ (\u001b[38;5;33mTimeDistributed\u001b[0m)               │                        │               │\n",
              "└─────────────────────────────────┴────────────────────────┴───────────────┘\n"
            ],
            "text/html": [
              "<pre style=\"white-space:pre;overflow-x:auto;line-height:normal;font-family:Menlo,'DejaVu Sans Mono',consolas,'Courier New',monospace\">┏━━━━━━━━━━━━━━━━━━━━━━━━━━━━━━━━━┳━━━━━━━━━━━━━━━━━━━━━━━━┳━━━━━━━━━━━━━━━┓\n",
              "┃<span style=\"font-weight: bold\"> Layer (type)                    </span>┃<span style=\"font-weight: bold\"> Output Shape           </span>┃<span style=\"font-weight: bold\">       Param # </span>┃\n",
              "┡━━━━━━━━━━━━━━━━━━━━━━━━━━━━━━━━━╇━━━━━━━━━━━━━━━━━━━━━━━━╇━━━━━━━━━━━━━━━┩\n",
              "│ time_distributed_1              │ (<span style=\"color: #00d7ff; text-decoration-color: #00d7ff\">None</span>, <span style=\"color: #00d7ff; text-decoration-color: #00d7ff\">None</span>, <span style=\"color: #00af00; text-decoration-color: #00af00\">61</span>)       │             <span style=\"color: #00af00; text-decoration-color: #00af00\">0</span> │\n",
              "│ (<span style=\"color: #0087ff; text-decoration-color: #0087ff\">TimeDistributed</span>)               │                        │               │\n",
              "├─────────────────────────────────┼────────────────────────┼───────────────┤\n",
              "│ gru (<span style=\"color: #0087ff; text-decoration-color: #0087ff\">GRU</span>)                       │ (<span style=\"color: #00d7ff; text-decoration-color: #00d7ff\">None</span>, <span style=\"color: #00d7ff; text-decoration-color: #00d7ff\">None</span>, <span style=\"color: #00af00; text-decoration-color: #00af00\">128</span>)      │        <span style=\"color: #00af00; text-decoration-color: #00af00\">73,344</span> │\n",
              "├─────────────────────────────────┼────────────────────────┼───────────────┤\n",
              "│ gru_1 (<span style=\"color: #0087ff; text-decoration-color: #0087ff\">GRU</span>)                     │ (<span style=\"color: #00d7ff; text-decoration-color: #00d7ff\">None</span>, <span style=\"color: #00d7ff; text-decoration-color: #00d7ff\">None</span>, <span style=\"color: #00af00; text-decoration-color: #00af00\">128</span>)      │        <span style=\"color: #00af00; text-decoration-color: #00af00\">99,072</span> │\n",
              "├─────────────────────────────────┼────────────────────────┼───────────────┤\n",
              "│ time_distributed_2              │ (<span style=\"color: #00d7ff; text-decoration-color: #00d7ff\">None</span>, <span style=\"color: #00d7ff; text-decoration-color: #00d7ff\">None</span>, <span style=\"color: #00af00; text-decoration-color: #00af00\">61</span>)       │         <span style=\"color: #00af00; text-decoration-color: #00af00\">7,869</span> │\n",
              "│ (<span style=\"color: #0087ff; text-decoration-color: #0087ff\">TimeDistributed</span>)               │                        │               │\n",
              "└─────────────────────────────────┴────────────────────────┴───────────────┘\n",
              "</pre>\n"
            ]
          },
          "metadata": {}
        },
        {
          "output_type": "display_data",
          "data": {
            "text/plain": [
              "\u001b[1m Total params: \u001b[0m\u001b[38;5;34m180,285\u001b[0m (704.24 KB)\n"
            ],
            "text/html": [
              "<pre style=\"white-space:pre;overflow-x:auto;line-height:normal;font-family:Menlo,'DejaVu Sans Mono',consolas,'Courier New',monospace\"><span style=\"font-weight: bold\"> Total params: </span><span style=\"color: #00af00; text-decoration-color: #00af00\">180,285</span> (704.24 KB)\n",
              "</pre>\n"
            ]
          },
          "metadata": {}
        },
        {
          "output_type": "display_data",
          "data": {
            "text/plain": [
              "\u001b[1m Trainable params: \u001b[0m\u001b[38;5;34m180,285\u001b[0m (704.24 KB)\n"
            ],
            "text/html": [
              "<pre style=\"white-space:pre;overflow-x:auto;line-height:normal;font-family:Menlo,'DejaVu Sans Mono',consolas,'Courier New',monospace\"><span style=\"font-weight: bold\"> Trainable params: </span><span style=\"color: #00af00; text-decoration-color: #00af00\">180,285</span> (704.24 KB)\n",
              "</pre>\n"
            ]
          },
          "metadata": {}
        },
        {
          "output_type": "display_data",
          "data": {
            "text/plain": [
              "\u001b[1m Non-trainable params: \u001b[0m\u001b[38;5;34m0\u001b[0m (0.00 B)\n"
            ],
            "text/html": [
              "<pre style=\"white-space:pre;overflow-x:auto;line-height:normal;font-family:Menlo,'DejaVu Sans Mono',consolas,'Courier New',monospace\"><span style=\"font-weight: bold\"> Non-trainable params: </span><span style=\"color: #00af00; text-decoration-color: #00af00\">0</span> (0.00 B)\n",
              "</pre>\n"
            ]
          },
          "metadata": {}
        }
      ]
    },
    {
      "cell_type": "code",
      "execution_count": null,
      "metadata": {
        "id": "Zd2OkfQYs2Q7",
        "colab": {
          "base_uri": "https://localhost:8080/",
          "height": 293
        },
        "outputId": "9fbf5a0a-bcba-4d9a-9f9f-e41570485bbc"
      },
      "outputs": [
        {
          "output_type": "display_data",
          "data": {
            "text/plain": [
              "\u001b[1mModel: \"sequential_2\"\u001b[0m\n"
            ],
            "text/html": [
              "<pre style=\"white-space:pre;overflow-x:auto;line-height:normal;font-family:Menlo,'DejaVu Sans Mono',consolas,'Courier New',monospace\"><span style=\"font-weight: bold\">Model: \"sequential_2\"</span>\n",
              "</pre>\n"
            ]
          },
          "metadata": {}
        },
        {
          "output_type": "display_data",
          "data": {
            "text/plain": [
              "┏━━━━━━━━━━━━━━━━━━━━━━━━━━━━━━━━━┳━━━━━━━━━━━━━━━━━━━━━━━━┳━━━━━━━━━━━━━━━┓\n",
              "┃\u001b[1m \u001b[0m\u001b[1mLayer (type)                   \u001b[0m\u001b[1m \u001b[0m┃\u001b[1m \u001b[0m\u001b[1mOutput Shape          \u001b[0m\u001b[1m \u001b[0m┃\u001b[1m \u001b[0m\u001b[1m      Param #\u001b[0m\u001b[1m \u001b[0m┃\n",
              "┡━━━━━━━━━━━━━━━━━━━━━━━━━━━━━━━━━╇━━━━━━━━━━━━━━━━━━━━━━━━╇━━━━━━━━━━━━━━━┩\n",
              "│ time_distributed_3              │ (\u001b[38;5;45mNone\u001b[0m, \u001b[38;5;45mNone\u001b[0m, \u001b[38;5;34m61\u001b[0m)       │             \u001b[38;5;34m0\u001b[0m │\n",
              "│ (\u001b[38;5;33mTimeDistributed\u001b[0m)               │                        │               │\n",
              "├─────────────────────────────────┼────────────────────────┼───────────────┤\n",
              "│ lstm (\u001b[38;5;33mLSTM\u001b[0m)                     │ (\u001b[38;5;45mNone\u001b[0m, \u001b[38;5;45mNone\u001b[0m, \u001b[38;5;34m128\u001b[0m)      │        \u001b[38;5;34m97,280\u001b[0m │\n",
              "├─────────────────────────────────┼────────────────────────┼───────────────┤\n",
              "│ lstm_1 (\u001b[38;5;33mLSTM\u001b[0m)                   │ (\u001b[38;5;45mNone\u001b[0m, \u001b[38;5;45mNone\u001b[0m, \u001b[38;5;34m128\u001b[0m)      │       \u001b[38;5;34m131,584\u001b[0m │\n",
              "├─────────────────────────────────┼────────────────────────┼───────────────┤\n",
              "│ time_distributed_4              │ (\u001b[38;5;45mNone\u001b[0m, \u001b[38;5;45mNone\u001b[0m, \u001b[38;5;34m61\u001b[0m)       │         \u001b[38;5;34m7,869\u001b[0m │\n",
              "│ (\u001b[38;5;33mTimeDistributed\u001b[0m)               │                        │               │\n",
              "└─────────────────────────────────┴────────────────────────┴───────────────┘\n"
            ],
            "text/html": [
              "<pre style=\"white-space:pre;overflow-x:auto;line-height:normal;font-family:Menlo,'DejaVu Sans Mono',consolas,'Courier New',monospace\">┏━━━━━━━━━━━━━━━━━━━━━━━━━━━━━━━━━┳━━━━━━━━━━━━━━━━━━━━━━━━┳━━━━━━━━━━━━━━━┓\n",
              "┃<span style=\"font-weight: bold\"> Layer (type)                    </span>┃<span style=\"font-weight: bold\"> Output Shape           </span>┃<span style=\"font-weight: bold\">       Param # </span>┃\n",
              "┡━━━━━━━━━━━━━━━━━━━━━━━━━━━━━━━━━╇━━━━━━━━━━━━━━━━━━━━━━━━╇━━━━━━━━━━━━━━━┩\n",
              "│ time_distributed_3              │ (<span style=\"color: #00d7ff; text-decoration-color: #00d7ff\">None</span>, <span style=\"color: #00d7ff; text-decoration-color: #00d7ff\">None</span>, <span style=\"color: #00af00; text-decoration-color: #00af00\">61</span>)       │             <span style=\"color: #00af00; text-decoration-color: #00af00\">0</span> │\n",
              "│ (<span style=\"color: #0087ff; text-decoration-color: #0087ff\">TimeDistributed</span>)               │                        │               │\n",
              "├─────────────────────────────────┼────────────────────────┼───────────────┤\n",
              "│ lstm (<span style=\"color: #0087ff; text-decoration-color: #0087ff\">LSTM</span>)                     │ (<span style=\"color: #00d7ff; text-decoration-color: #00d7ff\">None</span>, <span style=\"color: #00d7ff; text-decoration-color: #00d7ff\">None</span>, <span style=\"color: #00af00; text-decoration-color: #00af00\">128</span>)      │        <span style=\"color: #00af00; text-decoration-color: #00af00\">97,280</span> │\n",
              "├─────────────────────────────────┼────────────────────────┼───────────────┤\n",
              "│ lstm_1 (<span style=\"color: #0087ff; text-decoration-color: #0087ff\">LSTM</span>)                   │ (<span style=\"color: #00d7ff; text-decoration-color: #00d7ff\">None</span>, <span style=\"color: #00d7ff; text-decoration-color: #00d7ff\">None</span>, <span style=\"color: #00af00; text-decoration-color: #00af00\">128</span>)      │       <span style=\"color: #00af00; text-decoration-color: #00af00\">131,584</span> │\n",
              "├─────────────────────────────────┼────────────────────────┼───────────────┤\n",
              "│ time_distributed_4              │ (<span style=\"color: #00d7ff; text-decoration-color: #00d7ff\">None</span>, <span style=\"color: #00d7ff; text-decoration-color: #00d7ff\">None</span>, <span style=\"color: #00af00; text-decoration-color: #00af00\">61</span>)       │         <span style=\"color: #00af00; text-decoration-color: #00af00\">7,869</span> │\n",
              "│ (<span style=\"color: #0087ff; text-decoration-color: #0087ff\">TimeDistributed</span>)               │                        │               │\n",
              "└─────────────────────────────────┴────────────────────────┴───────────────┘\n",
              "</pre>\n"
            ]
          },
          "metadata": {}
        },
        {
          "output_type": "display_data",
          "data": {
            "text/plain": [
              "\u001b[1m Total params: \u001b[0m\u001b[38;5;34m236,733\u001b[0m (924.74 KB)\n"
            ],
            "text/html": [
              "<pre style=\"white-space:pre;overflow-x:auto;line-height:normal;font-family:Menlo,'DejaVu Sans Mono',consolas,'Courier New',monospace\"><span style=\"font-weight: bold\"> Total params: </span><span style=\"color: #00af00; text-decoration-color: #00af00\">236,733</span> (924.74 KB)\n",
              "</pre>\n"
            ]
          },
          "metadata": {}
        },
        {
          "output_type": "display_data",
          "data": {
            "text/plain": [
              "\u001b[1m Trainable params: \u001b[0m\u001b[38;5;34m236,733\u001b[0m (924.74 KB)\n"
            ],
            "text/html": [
              "<pre style=\"white-space:pre;overflow-x:auto;line-height:normal;font-family:Menlo,'DejaVu Sans Mono',consolas,'Courier New',monospace\"><span style=\"font-weight: bold\"> Trainable params: </span><span style=\"color: #00af00; text-decoration-color: #00af00\">236,733</span> (924.74 KB)\n",
              "</pre>\n"
            ]
          },
          "metadata": {}
        },
        {
          "output_type": "display_data",
          "data": {
            "text/plain": [
              "\u001b[1m Non-trainable params: \u001b[0m\u001b[38;5;34m0\u001b[0m (0.00 B)\n"
            ],
            "text/html": [
              "<pre style=\"white-space:pre;overflow-x:auto;line-height:normal;font-family:Menlo,'DejaVu Sans Mono',consolas,'Courier New',monospace\"><span style=\"font-weight: bold\"> Non-trainable params: </span><span style=\"color: #00af00; text-decoration-color: #00af00\">0</span> (0.00 B)\n",
              "</pre>\n"
            ]
          },
          "metadata": {}
        }
      ],
      "source": [
        "lstm_model = Sequential([\n",
        "    TimeDistributed(CategoryEncoding(num_tokens=vocab_size, output_mode = \"one_hot\"),input_shape=(None,1)),\n",
        "    LSTM(embedding_dim, return_sequences=True, dropout=0.2, recurrent_dropout=0.2),\n",
        "    LSTM(embedding_dim, return_sequences=True, dropout=0.2, recurrent_dropout=0.2),\n",
        "    TimeDistributed(Dense(vocab_size, activation='softmax'))\n",
        "])\n",
        "\n",
        "lstm_model.compile(\n",
        "    loss='sparse_categorical_crossentropy',\n",
        "    optimizer=RMSprop(),\n",
        "    metrics=[perplexity]\n",
        ")\n",
        "\n",
        "lstm_model.summary()"
      ]
    },
    {
      "cell_type": "markdown",
      "metadata": {
        "id": "GmJWNyxQwfCE"
      },
      "source": [
        "### Entrenamiento\n",
        "\n",
        "Se incluyen dos callbacks\n",
        "\n",
        "\n",
        "*   ModelCheckpoint: para guardar los mejores modelos en función de la metrica de perplexity de validación.\n",
        "*   EarlyStopping: para evitar sobreajuste, si no se ve mejora (disminución) en la metrica de val_perplexity, el modelo deja de entrenar y se restauran los pesos de la mejor epoca.\n",
        "\n"
      ]
    },
    {
      "cell_type": "code",
      "source": [
        "import matplotlib.pyplot as plt\n",
        "from tensorflow.keras.callbacks import EarlyStopping, ModelCheckpoint\n",
        "\n",
        "def fit_model(model, name):\n",
        "\n",
        "  checkpoint = ModelCheckpoint(\n",
        "    filepath=name,\n",
        "    monitor='val_perplexity',\n",
        "    save_best_only=True,\n",
        "    save_weights_only=False,\n",
        "    mode='min'\n",
        "  )\n",
        "\n",
        "  early_stop = EarlyStopping(\n",
        "      monitor='val_perplexity',\n",
        "      patience=3,\n",
        "      restore_best_weights=True,\n",
        "      mode='min'\n",
        "  )\n",
        "\n",
        "  steps_per_epoch = 2000\n",
        "\n",
        "  history = model.fit(\n",
        "    train_dataset,\n",
        "    validation_data=val_dataset,\n",
        "    steps_per_epoch=steps_per_epoch,\n",
        "    epochs=20,\n",
        "    callbacks=[checkpoint, early_stop]\n",
        "  )\n",
        "\n",
        "  plt.plot(history.history['perplexity'], label='Perplejidad - Entrenamiento')\n",
        "  plt.plot(history.history['val_perplexity'], label='Perplejidad - Validación')\n",
        "  plt.xlabel('Época')\n",
        "  plt.ylabel('Perplejidad')\n",
        "  plt.legend()\n",
        "  plt.grid(True)\n",
        "  plt.title('Perplejidad')\n",
        "  plt.show()"
      ],
      "metadata": {
        "id": "S8Zbi9Rppkcc"
      },
      "execution_count": null,
      "outputs": []
    },
    {
      "cell_type": "code",
      "source": [
        "fit_model(simple_rnn_model, 'simple_rnn_model.keras')"
      ],
      "metadata": {
        "colab": {
          "base_uri": "https://localhost:8080/",
          "height": 945
        },
        "id": "vYO2ibxkWcqY",
        "outputId": "1e1a9664-0a96-45cb-a1b6-6546cd2e72c5"
      },
      "execution_count": null,
      "outputs": [
        {
          "output_type": "stream",
          "name": "stdout",
          "text": [
            "Epoch 1/20\n",
            "\u001b[1m2000/2000\u001b[0m \u001b[32m━━━━━━━━━━━━━━━━━━━━\u001b[0m\u001b[37m\u001b[0m \u001b[1m198s\u001b[0m 86ms/step - loss: 2.1928 - perplexity: 9.8846 - val_loss: 1.8018 - val_perplexity: 6.1679\n",
            "Epoch 2/20\n",
            "\u001b[1m   3/2000\u001b[0m \u001b[37m━━━━━━━━━━━━━━━━━━━━\u001b[0m \u001b[1m1:38\u001b[0m 49ms/step - loss: 1.7527 - perplexity: 5.7716"
          ]
        },
        {
          "output_type": "stream",
          "name": "stderr",
          "text": [
            "/usr/local/lib/python3.11/dist-packages/keras/src/trainers/epoch_iterator.py:151: UserWarning: Your input ran out of data; interrupting training. Make sure that your dataset or generator can generate at least `steps_per_epoch * epochs` batches. You may need to use the `.repeat()` function when building your dataset.\n",
            "  self._interrupted_warning()\n"
          ]
        },
        {
          "output_type": "stream",
          "name": "stdout",
          "text": [
            "\u001b[1m2000/2000\u001b[0m \u001b[32m━━━━━━━━━━━━━━━━━━━━\u001b[0m\u001b[37m\u001b[0m \u001b[1m171s\u001b[0m 85ms/step - loss: 1.7098 - perplexity: 5.5322 - val_loss: 1.7117 - val_perplexity: 5.6587\n",
            "Epoch 3/20\n",
            "\u001b[1m2000/2000\u001b[0m \u001b[32m━━━━━━━━━━━━━━━━━━━━\u001b[0m\u001b[37m\u001b[0m \u001b[1m171s\u001b[0m 85ms/step - loss: 1.6233 - perplexity: 5.0730 - val_loss: 1.6614 - val_perplexity: 5.3926\n",
            "Epoch 4/20\n",
            "\u001b[1m2000/2000\u001b[0m \u001b[32m━━━━━━━━━━━━━━━━━━━━\u001b[0m\u001b[37m\u001b[0m \u001b[1m170s\u001b[0m 85ms/step - loss: 1.5690 - perplexity: 4.8044 - val_loss: 1.6799 - val_perplexity: 5.5011\n",
            "Epoch 5/20\n",
            "\u001b[1m2000/2000\u001b[0m \u001b[32m━━━━━━━━━━━━━━━━━━━━\u001b[0m\u001b[37m\u001b[0m \u001b[1m170s\u001b[0m 85ms/step - loss: 1.5482 - perplexity: 4.7069 - val_loss: 1.6797 - val_perplexity: 5.4984\n",
            "Epoch 6/20\n",
            "\u001b[1m2000/2000\u001b[0m \u001b[32m━━━━━━━━━━━━━━━━━━━━\u001b[0m\u001b[37m\u001b[0m \u001b[1m170s\u001b[0m 85ms/step - loss: 1.5301 - perplexity: 4.6219 - val_loss: 1.6311 - val_perplexity: 5.2314\n",
            "Epoch 7/20\n",
            "\u001b[1m2000/2000\u001b[0m \u001b[32m━━━━━━━━━━━━━━━━━━━━\u001b[0m\u001b[37m\u001b[0m \u001b[1m172s\u001b[0m 86ms/step - loss: 1.5705 - perplexity: 4.8129 - val_loss: 1.6296 - val_perplexity: 5.2200\n",
            "Epoch 8/20\n",
            "\u001b[1m2000/2000\u001b[0m \u001b[32m━━━━━━━━━━━━━━━━━━━━\u001b[0m\u001b[37m\u001b[0m \u001b[1m171s\u001b[0m 85ms/step - loss: 1.5439 - perplexity: 4.6857 - val_loss: 1.6150 - val_perplexity: 5.1498\n",
            "Epoch 9/20\n",
            "\u001b[1m2000/2000\u001b[0m \u001b[32m━━━━━━━━━━━━━━━━━━━━\u001b[0m\u001b[37m\u001b[0m \u001b[1m170s\u001b[0m 85ms/step - loss: 1.5126 - perplexity: 4.5417 - val_loss: 1.6078 - val_perplexity: 5.1089\n",
            "Epoch 10/20\n",
            "\u001b[1m2000/2000\u001b[0m \u001b[32m━━━━━━━━━━━━━━━━━━━━\u001b[0m\u001b[37m\u001b[0m \u001b[1m169s\u001b[0m 84ms/step - loss: 1.5330 - perplexity: 4.6355 - val_loss: 1.6058 - val_perplexity: 5.1094\n",
            "Epoch 11/20\n",
            "\u001b[1m2000/2000\u001b[0m \u001b[32m━━━━━━━━━━━━━━━━━━━━\u001b[0m\u001b[37m\u001b[0m \u001b[1m169s\u001b[0m 84ms/step - loss: 1.5084 - perplexity: 4.5228 - val_loss: 1.6192 - val_perplexity: 5.1697\n",
            "Epoch 12/20\n",
            "\u001b[1m2000/2000\u001b[0m \u001b[32m━━━━━━━━━━━━━━━━━━━━\u001b[0m\u001b[37m\u001b[0m \u001b[1m169s\u001b[0m 84ms/step - loss: 1.5340 - perplexity: 4.6395 - val_loss: 1.6230 - val_perplexity: 5.1845\n"
          ]
        },
        {
          "output_type": "display_data",
          "data": {
            "text/plain": [
              "<Figure size 640x480 with 1 Axes>"
            ],
            "image/png": "[encoded data removed]"
          },
          "metadata": {}
        }
      ]
    },
    {
      "cell_type": "markdown",
      "source": [
        "Conclusiones entrenamiento modelo simpleRNN\n",
        "\n",
        "*   En la época 1 la perplexity de entrenamiento cae de ~9 a ~5.5 en la época 2, y la de validación de ~6.2 a ~5.6 Esto indica que el modelo está capturando patrones básicos del lenguaje muy pronto.\n",
        "*   La mejor perplexity de validación (~5.11) se alcanza en la época 9. A partir de ahí, la curva de validación se estabiliza e incluso comienza a subir ligeramente, señal de que ya no está adquiriendo conocimiento nuevo.\n",
        "*   La perplexity de entrenamiento converge en torno a 4.6, mientras que la de validación se mantiene en 5.1-5.2. Esta diferencia muestra un sobreajuste ligero: el modelo memoriza un poco más el conjunto de entrenamiento que lo que generaliza al de validación.\n",
        "*   El entrenamiento se cortó al no presentar mejoras significativas por 3 epochs por el callback de EarlyStopping"
      ],
      "metadata": {
        "id": "D2z0Zr-EhBRN"
      }
    },
    {
      "cell_type": "code",
      "source": [
        "fit_model(gru_model, 'gru_model.keras')"
      ],
      "metadata": {
        "colab": {
          "base_uri": "https://localhost:8080/",
          "height": 891
        },
        "id": "i7Rh4aU5qMM8",
        "outputId": "d8c7199f-0cba-4c52-d82d-4bc6df8d7599"
      },
      "execution_count": null,
      "outputs": [
        {
          "output_type": "stream",
          "name": "stdout",
          "text": [
            "Epoch 1/20\n",
            "\u001b[1m2000/2000\u001b[0m \u001b[32m━━━━━━━━━━━━━━━━━━━━\u001b[0m\u001b[37m\u001b[0m \u001b[1m390s\u001b[0m 182ms/step - loss: 2.3261 - perplexity: 11.4660 - val_loss: 1.7443 - val_perplexity: 5.8237\n",
            "Epoch 2/20\n",
            "\u001b[1m2000/2000\u001b[0m \u001b[32m━━━━━━━━━━━━━━━━━━━━\u001b[0m\u001b[37m\u001b[0m \u001b[1m362s\u001b[0m 181ms/step - loss: 1.6757 - perplexity: 5.3489 - val_loss: 1.6290 - val_perplexity: 5.2190\n",
            "Epoch 3/20\n",
            "\u001b[1m2000/2000\u001b[0m \u001b[32m━━━━━━━━━━━━━━━━━━━━\u001b[0m\u001b[37m\u001b[0m \u001b[1m363s\u001b[0m 182ms/step - loss: 1.5312 - perplexity: 4.6273 - val_loss: 1.5710 - val_perplexity: 4.9409\n",
            "Epoch 4/20\n",
            "\u001b[1m2000/2000\u001b[0m \u001b[32m━━━━━━━━━━━━━━━━━━━━\u001b[0m\u001b[37m\u001b[0m \u001b[1m363s\u001b[0m 182ms/step - loss: 1.4558 - perplexity: 4.2906 - val_loss: 1.5832 - val_perplexity: 5.0202\n",
            "Epoch 5/20\n",
            "\u001b[1m2000/2000\u001b[0m \u001b[32m━━━━━━━━━━━━━━━━━━━━\u001b[0m\u001b[37m\u001b[0m \u001b[1m363s\u001b[0m 182ms/step - loss: 1.4238 - perplexity: 4.1561 - val_loss: 1.5755 - val_perplexity: 4.9791\n",
            "Epoch 6/20\n",
            "\u001b[1m2000/2000\u001b[0m \u001b[32m━━━━━━━━━━━━━━━━━━━━\u001b[0m\u001b[37m\u001b[0m \u001b[1m364s\u001b[0m 182ms/step - loss: 1.3911 - perplexity: 4.0220 - val_loss: 1.5201 - val_perplexity: 4.6939\n",
            "Epoch 7/20\n",
            "\u001b[1m2000/2000\u001b[0m \u001b[32m━━━━━━━━━━━━━━━━━━━━\u001b[0m\u001b[37m\u001b[0m \u001b[1m364s\u001b[0m 182ms/step - loss: 1.4325 - perplexity: 4.1921 - val_loss: 1.4994 - val_perplexity: 4.5940\n",
            "Epoch 8/20\n",
            "\u001b[1m2000/2000\u001b[0m \u001b[32m━━━━━━━━━━━━━━━━━━━━\u001b[0m\u001b[37m\u001b[0m \u001b[1m366s\u001b[0m 183ms/step - loss: 1.3966 - perplexity: 4.0439 - val_loss: 1.4924 - val_perplexity: 4.5724\n",
            "Epoch 9/20\n",
            "\u001b[1m2000/2000\u001b[0m \u001b[32m━━━━━━━━━━━━━━━━━━━━\u001b[0m\u001b[37m\u001b[0m \u001b[1m363s\u001b[0m 181ms/step - loss: 1.3583 - perplexity: 3.8918 - val_loss: 1.4802 - val_perplexity: 4.5129\n",
            "Epoch 10/20\n",
            "\u001b[1m2000/2000\u001b[0m \u001b[32m━━━━━━━━━━━━━━━━━━━━\u001b[0m\u001b[37m\u001b[0m \u001b[1m361s\u001b[0m 181ms/step - loss: 1.3794 - perplexity: 3.9753 - val_loss: 1.4828 - val_perplexity: 4.5389\n",
            "Epoch 11/20\n",
            "\u001b[1m2000/2000\u001b[0m \u001b[32m━━━━━━━━━━━━━━━━━━━━\u001b[0m\u001b[37m\u001b[0m \u001b[1m364s\u001b[0m 182ms/step - loss: 1.3464 - perplexity: 3.8458 - val_loss: 1.4881 - val_perplexity: 4.5489\n",
            "Epoch 12/20\n",
            "\u001b[1m2000/2000\u001b[0m \u001b[32m━━━━━━━━━━━━━━━━━━━━\u001b[0m\u001b[37m\u001b[0m \u001b[1m365s\u001b[0m 182ms/step - loss: 1.3714 - perplexity: 3.9428 - val_loss: 1.4845 - val_perplexity: 4.5329\n"
          ]
        },
        {
          "output_type": "display_data",
          "data": {
            "text/plain": [
              "<Figure size 640x480 with 1 Axes>"
            ],
            "image/png": "[encoded data removed]"
          },
          "metadata": {}
        }
      ]
    },
    {
      "cell_type": "markdown",
      "source": [
        "Conclusiones entrenamiento modelo GRU\n",
        "\n",
        "*   Las curvas de aprendizaje son bastante similares entre el modelo SimpleRNN y GRU. Los valores de perplexity, sin embargo, son levemente menores para el GRU.\n",
        "*   En la época 1 la perplexity de entrenamiento pasa de ~11.5 a ~5.3 en la época 2, y la de validación de ~5.8 a ~5.2. Lo que muestra que el modelo GRU capta muy pronto las estructuras básicas del lenguaje\n",
        "*   La perplexity de validación alcanza su mínimo (~4.5) en la época 9. A partir de ahí comienza a estabilizarse.\n",
        "*   La perplexity de entrenamiento converge alrededor de 3.8-4, mientras que la de validación se sitúa en 4.5-4.6. Esta diferencia muestra un sobreajuste ligero: el modelo memoriza algo más el conjunto de entrenamiento que lo que alcanza a generalizar.\n",
        "*   El entrenamiento se cortó al no presentar mejoras significativas por 3 epochs por el callback de EarlyStopping"
      ],
      "metadata": {
        "id": "HILkc2WP7GwL"
      }
    },
    {
      "cell_type": "code",
      "source": [
        "fit_model(lstm_model, 'lstm_model.keras')"
      ],
      "metadata": {
        "id": "n-rZQ5HjqNbI",
        "colab": {
          "base_uri": "https://localhost:8080/",
          "height": 1000
        },
        "outputId": "2729e876-2ff0-4eaf-80b1-ebbc301004d4"
      },
      "execution_count": null,
      "outputs": [
        {
          "output_type": "stream",
          "name": "stdout",
          "text": [
            "Epoch 1/20\n",
            "\u001b[1m2000/2000\u001b[0m \u001b[32m━━━━━━━━━━━━━━━━━━━━\u001b[0m\u001b[37m\u001b[0m \u001b[1m418s\u001b[0m 194ms/step - loss: 2.6416 - perplexity: 15.0153 - val_loss: 2.0096 - val_perplexity: 7.5254\n",
            "Epoch 2/20\n",
            "\u001b[1m2000/2000\u001b[0m \u001b[32m━━━━━━━━━━━━━━━━━━━━\u001b[0m\u001b[37m\u001b[0m \u001b[1m390s\u001b[0m 195ms/step - loss: 2.0291 - perplexity: 7.6136 - val_loss: 1.8758 - val_perplexity: 6.6045\n",
            "Epoch 3/20\n",
            "\u001b[1m2000/2000\u001b[0m \u001b[32m━━━━━━━━━━━━━━━━━━━━\u001b[0m\u001b[37m\u001b[0m \u001b[1m389s\u001b[0m 195ms/step - loss: 1.8955 - perplexity: 6.6590 - val_loss: 1.8006 - val_perplexity: 6.1437\n",
            "Epoch 4/20\n",
            "\u001b[1m2000/2000\u001b[0m \u001b[32m━━━━━━━━━━━━━━━━━━━━\u001b[0m\u001b[37m\u001b[0m \u001b[1m393s\u001b[0m 196ms/step - loss: 1.7995 - perplexity: 6.0506 - val_loss: 1.7706 - val_perplexity: 5.9693\n",
            "Epoch 5/20\n",
            "\u001b[1m2000/2000\u001b[0m \u001b[32m━━━━━━━━━━━━━━━━━━━━\u001b[0m\u001b[37m\u001b[0m \u001b[1m400s\u001b[0m 200ms/step - loss: 1.7461 - perplexity: 5.7348 - val_loss: 1.7411 - val_perplexity: 5.8034\n",
            "Epoch 6/20\n",
            "\u001b[1m2000/2000\u001b[0m \u001b[32m━━━━━━━━━━━━━━━━━━━━\u001b[0m\u001b[37m\u001b[0m \u001b[1m388s\u001b[0m 194ms/step - loss: 1.6956 - perplexity: 5.4523 - val_loss: 1.6749 - val_perplexity: 5.4318\n",
            "Epoch 7/20\n",
            "\u001b[1m2000/2000\u001b[0m \u001b[32m━━━━━━━━━━━━━━━━━━━━\u001b[0m\u001b[37m\u001b[0m \u001b[1m390s\u001b[0m 195ms/step - loss: 1.7091 - perplexity: 5.5274 - val_loss: 1.6497 - val_perplexity: 5.3008\n",
            "Epoch 8/20\n",
            "\u001b[1m2000/2000\u001b[0m \u001b[32m━━━━━━━━━━━━━━━━━━━━\u001b[0m\u001b[37m\u001b[0m \u001b[1m382s\u001b[0m 191ms/step - loss: 1.6629 - perplexity: 5.2772 - val_loss: 1.6149 - val_perplexity: 5.1277\n",
            "Epoch 9/20\n",
            "\u001b[1m2000/2000\u001b[0m \u001b[32m━━━━━━━━━━━━━━━━━━━━\u001b[0m\u001b[37m\u001b[0m \u001b[1m382s\u001b[0m 191ms/step - loss: 1.6142 - perplexity: 5.0259 - val_loss: 1.5920 - val_perplexity: 5.0083\n",
            "Epoch 10/20\n",
            "\u001b[1m2000/2000\u001b[0m \u001b[32m━━━━━━━━━━━━━━━━━━━━\u001b[0m\u001b[37m\u001b[0m \u001b[1m390s\u001b[0m 195ms/step - loss: 1.6147 - perplexity: 5.0296 - val_loss: 1.5788 - val_perplexity: 4.9560\n",
            "Epoch 11/20\n",
            "\u001b[1m2000/2000\u001b[0m \u001b[32m━━━━━━━━━━━━━━━━━━━━\u001b[0m\u001b[37m\u001b[0m \u001b[1m394s\u001b[0m 197ms/step - loss: 1.5733 - perplexity: 4.8251 - val_loss: 1.5737 - val_perplexity: 4.9230\n",
            "Epoch 12/20\n",
            "\u001b[1m2000/2000\u001b[0m \u001b[32m━━━━━━━━━━━━━━━━━━━━\u001b[0m\u001b[37m\u001b[0m \u001b[1m394s\u001b[0m 197ms/step - loss: 1.5862 - perplexity: 4.8873 - val_loss: 1.5660 - val_perplexity: 4.8863\n",
            "Epoch 13/20\n",
            "\u001b[1m2000/2000\u001b[0m \u001b[32m━━━━━━━━━━━━━━━━━━━━\u001b[0m\u001b[37m\u001b[0m \u001b[1m389s\u001b[0m 194ms/step - loss: 1.5508 - perplexity: 4.7170 - val_loss: 1.5424 - val_perplexity: 4.7840\n",
            "Epoch 14/20\n",
            "\u001b[1m2000/2000\u001b[0m \u001b[32m━━━━━━━━━━━━━━━━━━━━\u001b[0m\u001b[37m\u001b[0m \u001b[1m389s\u001b[0m 195ms/step - loss: 1.5360 - perplexity: 4.6477 - val_loss: 1.5396 - val_perplexity: 4.7747\n",
            "Epoch 15/20\n",
            "\u001b[1m2000/2000\u001b[0m \u001b[32m━━━━━━━━━━━━━━━━━━━━\u001b[0m\u001b[37m\u001b[0m \u001b[1m336s\u001b[0m 168ms/step - loss: 1.5373 - perplexity: 4.6546 - val_loss: 1.5302 - val_perplexity: 4.7301\n",
            "Epoch 16/20\n",
            "\u001b[1m2000/2000\u001b[0m \u001b[32m━━━━━━━━━━━━━━━━━━━━\u001b[0m\u001b[37m\u001b[0m \u001b[1m413s\u001b[0m 195ms/step - loss: 1.5169 - perplexity: 4.5621 - val_loss: 1.5063 - val_perplexity: 4.6239\n",
            "Epoch 17/20\n",
            "\u001b[1m2000/2000\u001b[0m \u001b[32m━━━━━━━━━━━━━━━━━━━━\u001b[0m\u001b[37m\u001b[0m \u001b[1m390s\u001b[0m 195ms/step - loss: 1.4898 - perplexity: 4.4372 - val_loss: 1.5060 - val_perplexity: 4.6245\n",
            "Epoch 18/20\n",
            "\u001b[1m2000/2000\u001b[0m \u001b[32m━━━━━━━━━━━━━━━━━━━━\u001b[0m\u001b[37m\u001b[0m \u001b[1m390s\u001b[0m 195ms/step - loss: 1.4793 - perplexity: 4.3917 - val_loss: 1.5009 - val_perplexity: 4.6026\n",
            "Epoch 19/20\n",
            "\u001b[1m2000/2000\u001b[0m \u001b[32m━━━━━━━━━━━━━━━━━━━━\u001b[0m\u001b[37m\u001b[0m \u001b[1m389s\u001b[0m 195ms/step - loss: 1.4632 - perplexity: 4.3214 - val_loss: 1.5215 - val_perplexity: 4.7089\n",
            "Epoch 20/20\n",
            "\u001b[1m2000/2000\u001b[0m \u001b[32m━━━━━━━━━━━━━━━━━━━━\u001b[0m\u001b[37m\u001b[0m \u001b[1m389s\u001b[0m 195ms/step - loss: 1.4577 - perplexity: 4.2998 - val_loss: 1.5211 - val_perplexity: 4.7040\n"
          ]
        },
        {
          "output_type": "display_data",
          "data": {
            "text/plain": [
              "<Figure size 640x480 with 1 Axes>"
            ],
            "image/png": "[encoded data removed]"
          },
          "metadata": {}
        }
      ]
    },
    {
      "cell_type": "markdown",
      "source": [
        "Conclusiones entrenamiento modelo LSTM\n",
        "\n",
        "*   En la época 1 la perplexity de entrenamiento cae de ~15 a ~7.6, y la de validación de ~7.5 a ~6.6. En pocas épocas ya estamos por debajo de perplexity de 5, lo que indica que el LSTM capta muy pronto las dependencias básicas del texto.\n",
        "*   La perplexity de validación alcanza su mínimo (~4.60) en la época 18.\n",
        "*   La perplexity de entrenamiento sigue bajando hasta ~4.3 en la época 20, con oscilaciones menores tras la época 10. Esto muestra que el modelo aún “aprende” del conjunto de train incluso después de que la validación haya comenzado a estabilizarse. Esto indica un ligero sobreajuste, pero menor que el de los casos anteriores.\n"
      ],
      "metadata": {
        "id": "eb_u1NF89HTR"
      }
    },
    {
      "cell_type": "markdown",
      "metadata": {
        "id": "8HBZIwR0gruA"
      },
      "source": [
        "## Comparación modelos"
      ]
    },
    {
      "cell_type": "code",
      "source": [
        "custom_objs = {\n",
        "    'perplexity': perplexity,\n",
        "    'CategoryEncoding': CategoryEncoding\n",
        "}\n",
        "simple_rnn_model = load_model('simple_rnn_model.keras', custom_objects=custom_objs)\n",
        "gru_model = load_model('gru_model.keras', custom_objects=custom_objs)\n",
        "lstm_model = load_model('lstm_model.keras', custom_objects=custom_objs)\n",
        "\n",
        "models = {\n",
        "    'SimpleRNN': simple_rnn_model,\n",
        "    'GRU': gru_model,\n",
        "    'LSTM': lstm_model\n",
        "}"
      ],
      "metadata": {
        "id": "G1Lb3wiWo-fW"
      },
      "execution_count": null,
      "outputs": []
    },
    {
      "cell_type": "markdown",
      "metadata": {
        "id": "KN6Fg_BsxJe6"
      },
      "source": [
        "\n",
        "### Predicción del próximo caracter"
      ]
    },
    {
      "cell_type": "code",
      "execution_count": null,
      "metadata": {
        "id": "IBvKHFPmzpy2",
        "colab": {
          "base_uri": "https://localhost:8080/"
        },
        "outputId": "f76b3484-70ec-42d2-e8a8-bdd7b43248f7"
      },
      "outputs": [
        {
          "output_type": "stream",
          "name": "stdout",
          "text": [
            "\u001b[2K     \u001b[90m━━━━━━━━━━━━━━━━━━━━━━━━━━━━━━━━━━━━━━━━\u001b[0m \u001b[32m41.8/41.8 kB\u001b[0m \u001b[31m2.4 MB/s\u001b[0m eta \u001b[36m0:00:00\u001b[0m\n",
            "\u001b[2K   \u001b[90m━━━━━━━━━━━━━━━━━━━━━━━━━━━━━━━━━━━━━━━━\u001b[0m \u001b[32m46.9/46.9 MB\u001b[0m \u001b[31m30.4 MB/s\u001b[0m eta \u001b[36m0:00:00\u001b[0m\n",
            "\u001b[2K   \u001b[90m━━━━━━━━━━━━━━━━━━━━━━━━━━━━━━━━━━━━━━━━\u001b[0m \u001b[32m322.2/322.2 kB\u001b[0m \u001b[31m29.7 MB/s\u001b[0m eta \u001b[36m0:00:00\u001b[0m\n",
            "\u001b[2K   \u001b[90m━━━━━━━━━━━━━━━━━━━━━━━━━━━━━━━━━━━━━━━━\u001b[0m \u001b[32m95.2/95.2 kB\u001b[0m \u001b[31m10.3 MB/s\u001b[0m eta \u001b[36m0:00:00\u001b[0m\n",
            "\u001b[2K   \u001b[90m━━━━━━━━━━━━━━━━━━━━━━━━━━━━━━━━━━━━━━━━\u001b[0m \u001b[32m132.8/132.8 kB\u001b[0m \u001b[31m14.3 MB/s\u001b[0m eta \u001b[36m0:00:00\u001b[0m\n",
            "\u001b[2K   \u001b[90m━━━━━━━━━━━━━━━━━━━━━━━━━━━━━━━━━━━━━━━━\u001b[0m \u001b[32m11.4/11.4 MB\u001b[0m \u001b[31m119.3 MB/s\u001b[0m eta \u001b[36m0:00:00\u001b[0m\n",
            "\u001b[2K   \u001b[90m━━━━━━━━━━━━━━━━━━━━━━━━━━━━━━━━━━━━━━━━\u001b[0m \u001b[32m72.0/72.0 kB\u001b[0m \u001b[31m7.8 MB/s\u001b[0m eta \u001b[36m0:00:00\u001b[0m\n",
            "\u001b[2K   \u001b[90m━━━━━━━━━━━━━━━━━━━━━━━━━━━━━━━━━━━━━━━━\u001b[0m \u001b[32m62.4/62.4 kB\u001b[0m \u001b[31m6.4 MB/s\u001b[0m eta \u001b[36m0:00:00\u001b[0m\n",
            "\u001b[?25h"
          ]
        }
      ],
      "source": [
        "!pip install -q gradio"
      ]
    },
    {
      "cell_type": "code",
      "source": [
        "import numpy as np\n",
        "import gradio as gr\n",
        "\n",
        "def predict_next_char(text):\n",
        "    results = {}\n",
        "    for model_name, model in models.items():\n",
        "        encoded = [char2idx[ch] for ch in text.lower() ]\n",
        "        encoded = pad_sequences([encoded], maxlen=context_size, padding='pre')\n",
        "\n",
        "        y_hat = np.argmax(model.predict(encoded)[0,-1,:])\n",
        "\n",
        "        out_word = idx2char[y_hat]\n",
        "\n",
        "        results[model_name] = text + out_word\n",
        "\n",
        "    return results['SimpleRNN'], results['GRU'], results['LSTM']\n",
        "\n",
        "iface = gr.Interface(\n",
        "    fn=predict_next_char,\n",
        "    inputs=gr.Textbox(label=\"Input Text\"),\n",
        "    outputs=[\n",
        "        gr.Textbox(label=\"SimpleRNN Prediction\"),\n",
        "        gr.Textbox(label=\"GRU Prediction\"),\n",
        "        gr.Textbox(label=\"LSTM Prediction\")\n",
        "    ],\n",
        "    title=\"Next Character Prediction\",\n",
        "    description=\"Predicts the next character using different RNN models.\"\n",
        ")\n",
        "\n",
        "iface.launch()\n"
      ],
      "metadata": {
        "colab": {
          "base_uri": "https://localhost:8080/",
          "height": 645
        },
        "id": "hdQ-_IOunIKF",
        "outputId": "e628073e-c3e5-450a-fd62-70ed97d5d70b"
      },
      "execution_count": null,
      "outputs": [
        {
          "output_type": "stream",
          "name": "stdout",
          "text": [
            "It looks like you are running Gradio on a hosted a Jupyter notebook. For the Gradio app to work, sharing must be enabled. Automatically setting `share=True` (you can turn this off by setting `share=False` in `launch()` explicitly).\n",
            "\n",
            "Colab notebook detected. To show errors in colab notebook, set debug=True in launch()\n",
            "* Running on public URL: https://342e740286de82841f.gradio.live\n",
            "\n",
            "This share link expires in 1 week. For free permanent hosting and GPU upgrades, run `gradio deploy` from the terminal in the working directory to deploy to Hugging Face Spaces (https://huggingface.co/spaces)\n"
          ]
        },
        {
          "output_type": "display_data",
          "data": {
            "text/plain": [
              "<IPython.core.display.HTML object>"
            ],
            "text/html": [
              "<div><iframe src=\"https://342e740286de82841f.gradio.live\" width=\"100%\" height=\"500\" allow=\"autoplay; camera; microphone; clipboard-read; clipboard-write;\" frameborder=\"0\" allowfullscreen></iframe></div>"
            ]
          },
          "metadata": {}
        },
        {
          "output_type": "execute_result",
          "data": {
            "text/plain": []
          },
          "metadata": {},
          "execution_count": 34
        }
      ]
    },
    {
      "cell_type": "markdown",
      "metadata": {
        "id": "mCeMWWupxN1-"
      },
      "source": [
        "### Generación de secuencias"
      ]
    },
    {
      "cell_type": "code",
      "execution_count": null,
      "metadata": {
        "id": "bwbS_pfhxvB3"
      },
      "outputs": [],
      "source": [
        "def generate_seq(model, seed_text, max_length, n_words):\n",
        "    output_text = seed_text\n",
        "    for _ in range(n_words):\n",
        "        encoded = [char2idx[ch] for ch in output_text.lower() ]\n",
        "        encoded = pad_sequences([encoded], maxlen=max_length, padding='pre')\n",
        "\n",
        "        y_hat = np.argmax(model.predict(encoded,verbose=0)[0,-1,:])\n",
        "        out_word = ''\n",
        "\n",
        "        out_word = idx2char[y_hat]\n",
        "\n",
        "        output_text += out_word\n",
        "    return output_text"
      ]
    },
    {
      "cell_type": "code",
      "source": [
        "input_texts=['el duque', 'el castillo', 'don quijote', 'la espada']"
      ],
      "metadata": {
        "id": "JcbkRl_6YidE"
      },
      "execution_count": null,
      "outputs": []
    },
    {
      "cell_type": "code",
      "execution_count": null,
      "metadata": {
        "id": "JoFqRC5pxzqS",
        "colab": {
          "base_uri": "https://localhost:8080/"
        },
        "outputId": "522768a3-4352-411b-a5e3-853dbce7380f"
      },
      "outputs": [
        {
          "output_type": "stream",
          "name": "stdout",
          "text": [
            "el duque se dejando en la mano de la m\n",
            "el castillo de la mano de la mano de la m\n",
            "don quijote de la mano de la mano de la m\n",
            "la espada de la mano de la mano de la m\n"
          ]
        }
      ],
      "source": [
        "for input_text in input_texts:\n",
        "  print(generate_seq(simple_rnn_model, input_text, max_length=context_size, n_words=30))"
      ]
    },
    {
      "cell_type": "markdown",
      "source": [
        "El modelo SimpleRNN muestra mucha repetición, se queda atascado en la frase \"en la mano de la mano\". Esto puede ser por tener muy poca memoria de largo plazo."
      ],
      "metadata": {
        "id": "LawAEX0ec5tf"
      }
    },
    {
      "cell_type": "code",
      "source": [
        "for input_text in input_texts:\n",
        "  print(generate_seq(gru_model, input_text, max_length=context_size, n_words=30))"
      ],
      "metadata": {
        "colab": {
          "base_uri": "https://localhost:8080/"
        },
        "id": "SKpex-UHYmyu",
        "outputId": "c28efb45-07cf-44ec-f8b9-8e11fb1d2f7e"
      },
      "execution_count": null,
      "outputs": [
        {
          "output_type": "stream",
          "name": "stdout",
          "text": [
            "el duque de la mano de la mano de la m\n",
            "el castillo de la mano de la mano de la m\n",
            "don quijote y a la mano de la mano de la \n",
            "la espada, y a la mano de la mano de la\n"
          ]
        }
      ]
    },
    {
      "cell_type": "markdown",
      "source": [
        "El modelo GRU cuenta con los mismos problemas que SimpleRNN, repetición de la misma frase."
      ],
      "metadata": {
        "id": "BxZYEhxudd99"
      }
    },
    {
      "cell_type": "code",
      "source": [
        "for input_text in input_texts:\n",
        "  print(generate_seq(lstm_model, input_text, max_length=context_size, n_words=30))"
      ],
      "metadata": {
        "colab": {
          "base_uri": "https://localhost:8080/"
        },
        "id": "VoZPR1iMYpLB",
        "outputId": "37470d31-516c-4585-a83a-955ecf52abe2"
      },
      "execution_count": null,
      "outputs": [
        {
          "output_type": "stream",
          "name": "stdout",
          "text": [
            "el duque yo se le dijo don quijote—, y\n",
            "el castillo de la venta de la venta de la\n",
            "don quijote—, y así es está en el cura—, \n",
            "la espada de la venta de la venta de la\n"
          ]
        }
      ]
    },
    {
      "cell_type": "markdown",
      "source": [
        "El resultado del modelo LSTM es mixto. Dos de las 4 salidas tienen un formato bastante repetitivo, mientras que las otras dos son más coherentes e incluyen signos de puntuación."
      ],
      "metadata": {
        "id": "YrZUBWgrdnPP"
      }
    },
    {
      "cell_type": "markdown",
      "metadata": {
        "id": "drJ6xn5qW1Hl"
      },
      "source": [
        "###  Beam search y muestreo aleatorio"
      ]
    },
    {
      "cell_type": "code",
      "execution_count": null,
      "metadata": {
        "id": "_vovn9XZW1Hl"
      },
      "outputs": [],
      "source": [
        "def encode(text,max_length=context_size):\n",
        "\n",
        "    encoded = [char2idx[ch] for ch in text]\n",
        "    encoded = pad_sequences([encoded], maxlen=max_length, padding='pre')\n",
        "\n",
        "    return encoded\n",
        "\n",
        "def decode(seq):\n",
        "    return ''.join([idx2char[ch] for ch in seq])"
      ]
    },
    {
      "cell_type": "code",
      "execution_count": null,
      "metadata": {
        "id": "I_lZiQwkW1Hl"
      },
      "outputs": [],
      "source": [
        "from scipy.special import softmax\n",
        "\n",
        "def select_candidates(pred,num_beams,vocab_size,history_probs,history_tokens,temp,mode):\n",
        "\n",
        "  pred_large = []\n",
        "\n",
        "  for idx,pp in enumerate(pred):\n",
        "    pred_large.extend(np.log(pp+1E-10)+history_probs[idx])\n",
        "\n",
        "  pred_large = np.array(pred_large)\n",
        "\n",
        "  if mode == 'det':\n",
        "    idx_select = np.argsort(pred_large)[::-1][:num_beams]\n",
        "  elif mode == 'sto':\n",
        "    idx_select = np.random.choice(np.arange(pred_large.shape[0]), num_beams, p=softmax(pred_large/temp))\n",
        "  else:\n",
        "    raise ValueError(f'Wrong selection mode. {mode} was given. det and sto are supported.')\n",
        "\n",
        "  new_history_tokens = np.concatenate((np.array(history_tokens)[idx_select//vocab_size],\n",
        "                        np.array([idx_select%vocab_size]).T),\n",
        "                      axis=1)\n",
        "\n",
        "  return pred_large[idx_select.astype(int)], new_history_tokens.astype(int)\n",
        "\n",
        "\n",
        "def beam_search(model,num_beams,num_words,input,temp=1,mode='det'):\n",
        "\n",
        "    encoded = encode(input)\n",
        "    y_hat = model.predict(encoded,verbose=0)[0,-1,:]\n",
        "\n",
        "    vocab_size = y_hat.shape[0]\n",
        "\n",
        "    history_probs = [0]*num_beams\n",
        "    history_tokens = [encoded[0]]*num_beams\n",
        "\n",
        "    history_probs, history_tokens = select_candidates([y_hat],\n",
        "                                        num_beams,\n",
        "                                        vocab_size,\n",
        "                                        history_probs,\n",
        "                                        history_tokens,\n",
        "                                        temp,\n",
        "                                        mode)\n",
        "\n",
        "    for i in range(num_words-1):\n",
        "\n",
        "      preds = []\n",
        "\n",
        "      for hist in history_tokens:\n",
        "\n",
        "        input_update = np.array([hist[i+1:]]).copy()\n",
        "\n",
        "        y_hat = model.predict(input_update,verbose=0)[0,-1,:]\n",
        "\n",
        "        preds.append(y_hat)\n",
        "\n",
        "      history_probs, history_tokens = select_candidates(preds,\n",
        "                                                        num_beams,\n",
        "                                                        vocab_size,\n",
        "                                                        history_probs,\n",
        "                                                        history_tokens,\n",
        "                                                        temp,\n",
        "                                                        mode)\n",
        "\n",
        "    return history_tokens[:,-(len(input)+num_words):]"
      ]
    },
    {
      "cell_type": "code",
      "source": [
        "for input_text in input_texts:\n",
        "  salidas = beam_search(simple_rnn_model,num_beams=10,num_words=30,input=input_text)\n",
        "  print(decode(salidas[0]))"
      ],
      "metadata": {
        "colab": {
          "base_uri": "https://localhost:8080/"
        },
        "id": "8GgJ8nCAY-lA",
        "outputId": "141b8c7e-d3f3-4bb2-f714-fa60deeb51d5"
      },
      "execution_count": null,
      "outputs": [
        {
          "output_type": "stream",
          "name": "stdout",
          "text": [
            "el duque le dijo don quijote—, que no \n",
            "el castillo, dijo don quijote—, que no se\n",
            "don quijote, que no le dijo don quijote, \n"
          ]
        }
      ]
    },
    {
      "cell_type": "markdown",
      "source": [
        "Se observan algunas mejoras frente a los resultados de greedy search. El resultado no termina siendo del todo coherente y repite la frase \"dijo don quijote-, que no se\""
      ],
      "metadata": {
        "id": "I2626c-Bek8o"
      }
    },
    {
      "cell_type": "code",
      "execution_count": null,
      "metadata": {
        "id": "GeLqAoOYW1Hm",
        "colab": {
          "base_uri": "https://localhost:8080/"
        },
        "outputId": "7002f8e9-eed5-464c-fcd3-af20482bdcb4"
      },
      "outputs": [
        {
          "output_type": "stream",
          "name": "stdout",
          "text": [
            "el duque de la cueva de la cueva de la\n",
            "el castillo que le dijo don quijote, que \n",
            "don quijote, que le dijo don quijote, que\n"
          ]
        }
      ],
      "source": [
        "for input_text in input_texts:\n",
        "  salidas = beam_search(gru_model,num_beams=5,num_words=30,input=input_text)\n",
        "  print(decode(salidas[0]))"
      ]
    },
    {
      "cell_type": "markdown",
      "source": [
        "Al igual que ocurre con SimpleRNN, los resultados son levemente mejores a los previos, pero sigue ocurriendo una repetición de frases."
      ],
      "metadata": {
        "id": "33OGjJ81fGhS"
      }
    },
    {
      "cell_type": "code",
      "source": [
        "for input_text in input_texts:\n",
        "  salidas = beam_search(lstm_model,num_beams=5,num_words=30,input=input_text)\n",
        "  print(decode(salidas[0]))"
      ],
      "metadata": {
        "colab": {
          "base_uri": "https://localhost:8080/"
        },
        "id": "-9r7xVrzZHUr",
        "outputId": "d72e4f34-1363-4784-f599-01d5a4fe30e4"
      },
      "execution_count": null,
      "outputs": [
        {
          "output_type": "stream",
          "name": "stdout",
          "text": [
            "el duque don quijote—, que no le había\n",
            "el castillo, que no le había de la ventur\n",
            "don quijote—, porque no le había de aquel\n"
          ]
        }
      ]
    },
    {
      "cell_type": "markdown",
      "source": [
        "Los resultados de LSTM son similares a los obtenidos con GRU. Tienen mayor coherencia que los generados con greedy search, pero siguen teniendo bastante repetición de frases."
      ],
      "metadata": {
        "id": "goUjb-uof_7K"
      }
    },
    {
      "cell_type": "code",
      "source": [
        "salidas = beam_search(lstm_model,num_beams=10,num_words=100,input='la espada', temp=1.5)\n",
        "print(decode(salidas[0]))"
      ],
      "metadata": {
        "colab": {
          "base_uri": "https://localhost:8080/"
        },
        "id": "oQ9Auh5KjWV3",
        "outputId": "ea552132-a510-4497-839a-b0a72254fe52"
      },
      "execution_count": null,
      "outputs": [
        {
          "output_type": "stream",
          "name": "stdout",
          "text": [
            "la espada, porque no le había de la caballería de la caballería de la caballería de la ventura, que no había \n"
          ]
        }
      ]
    },
    {
      "cell_type": "code",
      "source": [
        "salidas = beam_search(lstm_model,num_beams=5,num_words=100,input='la espada', temp=0.5)\n",
        "print(decode(salidas[0]))"
      ],
      "metadata": {
        "colab": {
          "base_uri": "https://localhost:8080/"
        },
        "id": "nbrrsxb8m1xp",
        "outputId": "b815e243-200d-46ec-ec16-0467a1587b5c"
      },
      "execution_count": null,
      "outputs": [
        {
          "output_type": "stream",
          "name": "stdout",
          "text": [
            "la espada, que no le había de caballero de la ventura, que no le había de caballero de la ventura, que no se \n"
          ]
        }
      ]
    },
    {
      "cell_type": "markdown",
      "source": [
        "Extendiendo la cantidad de caracteres y probando combinaciones de parametros de temepratura y num_beans, los resultados siguen teniendo repeticiones. Se podría penalizar las repeticiones para obtener resultados más variados. La puntuación, a pesar de la reiteración, parece ser correcta."
      ],
      "metadata": {
        "id": "hRSUA7iikl6x"
      }
    },
    {
      "cell_type": "markdown",
      "source": [
        "En conjunto, tanto en greedy search como con Beam Search los Simple RNN sufren de bucles muy repetitivos por su escasa memoria, las GRU añaden algo de variedad y retienen mejor contextos intermedios, y las LSTM mayor fluidez y coherencia al mantener dependencias a largo plazo.\n",
        "Utilizando Greedy Search se utiliza siempre el carácter de máxima probabilidad, lo que hace quedar atrapado en bucles de repetición muy cortos.\n",
        "Beam Search mejora la gramática local pero sigue contando con patrones frecuentes y repeticiones si estos no se penalizan."
      ],
      "metadata": {
        "id": "WgKVqakFZVk6"
      }
    }
  ],
  "metadata": {
    "accelerator": "TPU",
    "colab": {
      "gpuType": "V5E1",
      "provenance": [],
      "machine_shape": "hm"
    },
    "kernelspec": {
      "display_name": "Python 3",
      "name": "python3"
    },
    "language_info": {
      "name": "python"
    }
  },
  "nbformat": 4,
  "nbformat_minor": 0
}