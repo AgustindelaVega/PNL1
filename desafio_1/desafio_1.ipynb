{
  "cells": [
    {
      "cell_type": "code",
      "execution_count": null,
      "metadata": {
        "colab": {
          "base_uri": "https://localhost:8080/"
        },
        "id": "qi40Cn3xug2I",
        "outputId": "c0445c64-acae-4f15-8cad-fdc919a5b4e0"
      },
      "outputs": [
        {
          "name": "stdout",
          "output_type": "stream",
          "text": [
            "Requirement already satisfied: numpy in /usr/local/lib/python3.11/dist-packages (2.0.2)\n",
            "Requirement already satisfied: scikit-learn in /usr/local/lib/python3.11/dist-packages (1.6.1)\n",
            "Requirement already satisfied: scipy>=1.6.0 in /usr/local/lib/python3.11/dist-packages (from scikit-learn) (1.14.1)\n",
            "Requirement already satisfied: joblib>=1.2.0 in /usr/local/lib/python3.11/dist-packages (from scikit-learn) (1.4.2)\n",
            "Requirement already satisfied: threadpoolctl>=3.1.0 in /usr/local/lib/python3.11/dist-packages (from scikit-learn) (3.6.0)\n"
          ]
        }
      ],
      "source": [
        "%pip install numpy scikit-learn"
      ]
    },
    {
      "cell_type": "markdown",
      "metadata": {
        "id": "zq6j8LsYq1Dr"
      },
      "source": [
        "### Vectorización de texto y modelo de clasificación Naïve Bayes con el dataset 20 newsgroups"
      ]
    },
    {
      "cell_type": "code",
      "execution_count": null,
      "metadata": {
        "id": "l7cXR6CI30ry"
      },
      "outputs": [],
      "source": [
        "from sklearn.feature_extraction.text import CountVectorizer, TfidfVectorizer\n",
        "from sklearn.metrics.pairwise import cosine_similarity\n",
        "from sklearn.naive_bayes import MultinomialNB, ComplementNB\n",
        "from sklearn.metrics import f1_score\n",
        "\n",
        "# 20newsgroups por ser un dataset clásico de NLP ya viene incluido y formateado\n",
        "# en sklearn\n",
        "from sklearn.datasets import fetch_20newsgroups\n",
        "import numpy as np"
      ]
    },
    {
      "cell_type": "markdown",
      "metadata": {
        "id": "yD-pVDWV_rQc"
      },
      "source": [
        "## Carga de datos"
      ]
    },
    {
      "cell_type": "code",
      "execution_count": null,
      "metadata": {
        "id": "Ech9qJaUo9vK"
      },
      "outputs": [],
      "source": [
        "# cargamos los datos (ya separados de forma predeterminada en train y test)\n",
        "newsgroups_train = fetch_20newsgroups(subset='train', remove=('headers', 'footers', 'quotes'))\n",
        "newsgroups_test = fetch_20newsgroups(subset='test', remove=('headers', 'footers', 'quotes'))"
      ]
    },
    {
      "cell_type": "markdown",
      "metadata": {
        "id": "UxjSI7su_uWI"
      },
      "source": [
        "## Vectorización"
      ]
    },
    {
      "cell_type": "code",
      "execution_count": null,
      "metadata": {
        "id": "-94VP0QYCzDn"
      },
      "outputs": [],
      "source": [
        "# instanciamos un vectorizador\n",
        "# ver diferentes parámetros de instanciación en la documentación de sklearn https://scikit-learn.org/stable/modules/generated/sklearn.feature_extraction.text.TfidfVectorizer.html\n",
        "tfidfvect = TfidfVectorizer()"
      ]
    },
    {
      "cell_type": "code",
      "execution_count": null,
      "metadata": {
        "colab": {
          "base_uri": "https://localhost:8080/"
        },
        "id": "ftPlyanuak8n",
        "outputId": "49c7bf56-b5ea-4401-86b1-d3de0612048d"
      },
      "outputs": [
        {
          "name": "stdout",
          "output_type": "stream",
          "text": [
            "I was wondering if anyone out there could enlighten me on this car I saw\n",
            "the other day. It was a 2-door sports car, looked to be from the late 60s/\n",
            "early 70s. It was called a Bricklin. The doors were really small. In addition,\n",
            "the front bumper was separate from the rest of the body. This is \n",
            "all I know. If anyone can tellme a model name, engine specs, years\n",
            "of production, where this car is made, history, or whatever info you\n",
            "have on this funky looking car, please e-mail.\n"
          ]
        }
      ],
      "source": [
        "# en el atributo `data` accedemos al texto\n",
        "print(newsgroups_train.data[0])"
      ]
    },
    {
      "cell_type": "code",
      "execution_count": null,
      "metadata": {
        "id": "1zxcXV6aC_oL"
      },
      "outputs": [],
      "source": [
        "# con la interfaz habitual de sklearn podemos fitear el vectorizador\n",
        "# (obtener el vocabulario y calcular el vector IDF)\n",
        "# y transformar directamente los datos\n",
        "X_train = tfidfvect.fit_transform(newsgroups_train.data)\n",
        "# `X_train` la podemos denominar como la matriz documento-término"
      ]
    },
    {
      "cell_type": "code",
      "execution_count": null,
      "metadata": {
        "colab": {
          "base_uri": "https://localhost:8080/"
        },
        "id": "4Sv7TXbda41-",
        "outputId": "d503ecc5-7853-41d0-e940-f8b785b67781"
      },
      "outputs": [
        {
          "name": "stdout",
          "output_type": "stream",
          "text": [
            "<class 'scipy.sparse._csr.csr_matrix'>\n",
            "shape: (11314, 101631)\n",
            "Cantidad de documentos: 11314\n",
            "Tamaño del vocabulario (dimensionalidad de los vectores): 101631\n"
          ]
        }
      ],
      "source": [
        "# recordar que las vectorizaciones por conteos son esparsas\n",
        "# por ello sklearn convenientemente devuelve los vectores de documentos\n",
        "# como matrices esparsas\n",
        "print(type(X_train))\n",
        "print(f'shape: {X_train.shape}')\n",
        "print(f'Cantidad de documentos: {X_train.shape[0]}')\n",
        "print(f'Tamaño del vocabulario (dimensionalidad de los vectores): {X_train.shape[1]}')"
      ]
    },
    {
      "cell_type": "code",
      "execution_count": null,
      "metadata": {
        "colab": {
          "base_uri": "https://localhost:8080/"
        },
        "id": "dgydNTZ2pAgR",
        "outputId": "811256a4-2552-47d8-df59-62e4ff087cd9"
      },
      "outputs": [
        {
          "data": {
            "text/plain": [
              "25775"
            ]
          },
          "execution_count": 8,
          "metadata": {},
          "output_type": "execute_result"
        }
      ],
      "source": [
        "# una vez fiteado el vectorizador, podemos acceder a atributos como el vocabulario\n",
        "# aprendido. Es un diccionario que va de términos a índices.\n",
        "# El índice es la posición en el vector de documento.\n",
        "tfidfvect.vocabulary_['car']"
      ]
    },
    {
      "cell_type": "code",
      "execution_count": null,
      "metadata": {
        "id": "xnTSZuvyrTcP"
      },
      "outputs": [],
      "source": [
        "# es muy útil tener el diccionario opuesto que va de índices a términos\n",
        "idx2word = {v: k for k,v in tfidfvect.vocabulary_.items()}"
      ]
    },
    {
      "cell_type": "code",
      "execution_count": null,
      "metadata": {
        "colab": {
          "base_uri": "https://localhost:8080/"
        },
        "id": "swa-AgWrMSHM",
        "outputId": "4ab8d45a-8a9c-49a1-ff9d-b785b3af8e88"
      },
      "outputs": [
        {
          "data": {
            "text/plain": [
              "array([ 7,  4,  4,  1, 14, 16, 13,  3,  2,  4])"
            ]
          },
          "execution_count": 10,
          "metadata": {},
          "output_type": "execute_result"
        }
      ],
      "source": [
        "# en `y_train` guardamos los targets que son enteros\n",
        "y_train = newsgroups_train.target\n",
        "y_train[:10]"
      ]
    },
    {
      "cell_type": "code",
      "execution_count": null,
      "metadata": {
        "colab": {
          "base_uri": "https://localhost:8080/"
        },
        "id": "je5kxvQMDLvf",
        "outputId": "58bb374d-ead6-4a82-9176-cd18f4e18ed2"
      },
      "outputs": [
        {
          "name": "stdout",
          "output_type": "stream",
          "text": [
            "clases [ 0  1  2  3  4  5  6  7  8  9 10 11 12 13 14 15 16 17 18 19]\n"
          ]
        },
        {
          "data": {
            "text/plain": [
              "['alt.atheism',\n",
              " 'comp.graphics',\n",
              " 'comp.os.ms-windows.misc',\n",
              " 'comp.sys.ibm.pc.hardware',\n",
              " 'comp.sys.mac.hardware',\n",
              " 'comp.windows.x',\n",
              " 'misc.forsale',\n",
              " 'rec.autos',\n",
              " 'rec.motorcycles',\n",
              " 'rec.sport.baseball',\n",
              " 'rec.sport.hockey',\n",
              " 'sci.crypt',\n",
              " 'sci.electronics',\n",
              " 'sci.med',\n",
              " 'sci.space',\n",
              " 'soc.religion.christian',\n",
              " 'talk.politics.guns',\n",
              " 'talk.politics.mideast',\n",
              " 'talk.politics.misc',\n",
              " 'talk.religion.misc']"
            ]
          },
          "execution_count": 11,
          "metadata": {},
          "output_type": "execute_result"
        }
      ],
      "source": [
        "# hay 20 clases correspondientes a los 20 grupos de noticias\n",
        "print(f'clases {np.unique(newsgroups_test.target)}')\n",
        "newsgroups_test.target_names"
      ]
    },
    {
      "cell_type": "markdown",
      "metadata": {
        "id": "SXCICFSd_y90"
      },
      "source": [
        "## Similaridad de documentos"
      ]
    },
    {
      "cell_type": "code",
      "execution_count": null,
      "metadata": {
        "colab": {
          "base_uri": "https://localhost:8080/"
        },
        "id": "_pki_olShnyE",
        "outputId": "da29c5b1-70dd-40ce-e168-be28df6f0ec1"
      },
      "outputs": [
        {
          "name": "stdout",
          "output_type": "stream",
          "text": [
            "THE WHITE HOUSE\n",
            "\n",
            "                  Office of the Press Secretary\n",
            "                   (Pittsburgh, Pennslyvania)\n",
            "______________________________________________________________\n",
            "For Immediate Release                         April 17, 1993     \n",
            "\n",
            "             \n",
            "                  RADIO ADDRESS TO THE NATION \n",
            "                        BY THE PRESIDENT\n",
            "             \n",
            "                Pittsburgh International Airport\n",
            "                    Pittsburgh, Pennsylvania\n",
            "             \n",
            "             \n",
            "10:06 A.M. EDT\n",
            "             \n",
            "             \n",
            "             THE PRESIDENT:  Good morning.  My voice is coming to\n",
            "you this morning through the facilities of the oldest radio\n",
            "station in America, KDKA in Pittsburgh.  I'm visiting the city to\n",
            "meet personally with citizens here to discuss my plans for jobs,\n",
            "health care and the economy.  But I wanted first to do my weekly\n",
            "broadcast with the American people. \n",
            "             \n",
            "             I'm told this station first broadcast in 1920 when\n",
            "it reported that year's presidential elections.  Over the past\n",
            "seven decades presidents have found ways to keep in touch with\n",
            "the people, from whistle-stop tours to fire-side chats to the bus\n",
            "tour that I adopted, along with Vice President Gore, in last\n",
            "year's campaign.\n",
            "             \n",
            "             Every Saturday morning I take this time to talk with\n",
            "you, my fellow Americans, about the problems on your minds and\n",
            "what I'm doing to try and solve them.  It's my way of reporting\n",
            "to you and of giving you a way to hold me accountable.\n",
            "             \n",
            "             You sent me to Washington to get our government and\n",
            "economy moving after years of paralysis and policy and a bad\n",
            "experiment with trickle-down economics.  You know how important\n",
            "it is for us to make bold, comprehensive changes in the way we do\n",
            "business.  \n",
            "             \n",
            "             We live in a competitive global economy.  Nations\n",
            "rise and fall on the skills of their workers, the competitiveness\n",
            "of their companies, the imagination of their industries, and the\n",
            "cooperative experience and spirit that exists between business,\n",
            "labor and government.  Although many of the economies of the\n",
            "industrialized world are now suffering from slow growth, they've\n",
            "made many of the smart investments and the tough choices which\n",
            "our government has for too long ignored.  That's why many of them\n",
            "have been moving ahead and too many of our people have been\n",
            "falling behind.\n",
            "             \n",
            "             We have an economy today that even when it grows is\n",
            "not producing new jobs.  We've increased the debt of our nation\n",
            "by four times over the last 12 years, and we don't have much to\n",
            "show for it.  We know that wages of most working people have\n",
            "stopped rising, that most people are working longer work weeks\n",
            "and that too many families can no longer afford the escalating\n",
            "cost of health care.\n",
            "             \n",
            "             But we also know that, given the right tools, the\n",
            "right incentives and the right encouragement, our workers and\n",
            "businesses can make the kinds of products and profits our economy\n",
            "needs to expand opportunity and to make our communities better\n",
            "places to live.\n",
            "             \n",
            "             In many critical products today Americans are the\n",
            "low cost, high quality producers.  Our task is to make sure that\n",
            "we create more of those kinds of jobs.\n",
            "             \n",
            "             Just two months ago I gave Congress my plan for\n",
            "long-term jobs and economic growth.  It changes the old\n",
            "priorities in Washington and puts our emphasis where it needs to\n",
            "be -- on people's real needs, on increasing investments and jobs\n",
            "and education, on cutting the federal deficit, on stopping the\n",
            "waste which pays no dividends, and redirecting our precious\n",
            "resources toward investment that creates jobs now and lays the\n",
            "groundwork for robust economic growth in the future.\n",
            "             \n",
            "             These new directions passed the Congress in record\n",
            "time and created a new sense of hope and opportunity in our\n",
            "country.  Then the jobs plan I presented to Congress, which would\n",
            "create hundreds of thousands of jobs, most of them in the private\n",
            "sector in 1993 and 1994, passed the House of Representatives.  It\n",
            "now has the support of a majority of the United States Senate. \n",
            "But it's been held up by a filibuster of a minority in the\n",
            "Senate, just 43 senators.  They blocked a vote that they know\n",
            "would result in the passage of our bill and the creation of jobs.\n",
            "             \n",
            "             The issue isn't politics; the issue is people. \n",
            "Millions of Americans are waiting for this legislation and\n",
            "counting on it, counting on us in Washington.  But the jobs bill\n",
            "has been grounded by gridlock.  \n",
            "             \n",
            "             I know the American people are tired of business as\n",
            "usual and politics as usual.  I know they don't want us to spin\n",
            "or wheels.  They want the recovery to get moving.  So I have\n",
            "taken a first step to break this gridlock and gone the extra\n",
            "mile.  Yesterday I offered to cut the size of this plan by 25\n",
            "percent -- from $16 billion to $12 billion.  \n",
            "             \n",
            "             It's not what I'd hoped for.  With 16 million\n",
            "Americans looking for full-time work, I simply can't let the bill\n",
            "languish when I know that even a compromise bill will mean\n",
            "hundreds of thousands of jobs for our people.  The mandate is to\n",
            "act to achieve change and move the country forward.  By taking\n",
            "this initiative in the face of an unrelenting Senate talkathon, I\n",
            "think we can respond to your mandate and achieve a significant\n",
            "portion of our original goals.\n",
            "             \n",
            "             First, we want to keep the programs as much as\n",
            "possible that are needed to generate jobs and meet human needs,\n",
            "including highway and road construction, summer jobs for young\n",
            "people, immunization for children, construction of waste water\n",
            "sites, and aid to small businesses.  We also want to keep funding\n",
            "for extended unemployment compensation benefits, for people who\n",
            "have been unemployed for a long time because the economy isn't\n",
            "creating jobs.\n",
            "             \n",
            "             Second, I've recommended that all the other programs\n",
            "in the bill be cut across-the-board by a little more than 40\n",
            "percent.\n",
            "             \n",
            "             And third, I've recommended a new element in this\n",
            "program to help us immediately start our attempt to fight against\n",
            "crime by providing $200 million for cities and towns to rehire\n",
            "police officers who lost their jobs during the recession and put\n",
            "them back to work protecting our people.  I'm also going to fight\n",
            "for a tough crime bill because the people of this country need it\n",
            "and deserve it.\n",
            "             \n",
            "             Now, the people who are filibustering this bill --\n",
            "the Republican senators -- say they won't vote for it because it\n",
            "increases deficit spending, because there's extra spending this\n",
            "year that hasn't already been approved.  That sounds reasonable,\n",
            "doesn't it?  Here's what they don't say.  This program is more\n",
            "than paid for by budget cuts over my five-year budget, and this\n",
            "budget is well within the spending limits already approved by the\n",
            "Congress this year.\n",
            "             \n",
            "             It's amazing to me that many of these same senators\n",
            "who are filibustering the bill voted during the previous\n",
            "administration for billions of dollars of the same kind of\n",
            "emergency spending, and much of it was not designed to put the\n",
            "American people to work.  \n",
            "             \n",
            "             This is not about deficit spending.  We have offered\n",
            "a plan to cut the deficit.  This is about where your priorities\n",
            "are -- on people or on politics.  \n",
            "             \n",
            "             Keep in mind that our jobs bill is paid for dollar\n",
            "for dollar.  It is paid for by budget cuts.  And it's the\n",
            "soundest investment we can now make for ourselves and our\n",
            "children.  I urge all Americans to take another look at this jobs\n",
            "and investment program; to consider again the benefits for all of\n",
            "us when we've helped make more American partners working to\n",
            "ensure the future of our nation and the strength of our economy.\n",
            "             \n",
            "             You know, if every American who wanted a job had\n",
            "one, we wouldn't have a lot of the other problems we have in this\n",
            "country today.  This bill is not a miracle, it's a modest first\n",
            "step to try to set off a job creation explosion in this country\n",
            "again.  But it's a step we ought to take.  And it is fully paid\n",
            "for over the life of our budget.\n",
            "             \n",
            "             Tell your lawmakers what you think.  Tell them how\n",
            "important the bill is.  If it passes, we'll all be winners.\n",
            "             \n",
            "             Good morning, and thank you for listening.\n"
          ]
        }
      ],
      "source": [
        "# Veamos similaridad de documentos. Tomemos algún documento\n",
        "idx = 4811\n",
        "print(newsgroups_train.data[idx])"
      ]
    },
    {
      "cell_type": "code",
      "execution_count": null,
      "metadata": {
        "id": "Ssa9bqJ-hA_v"
      },
      "outputs": [],
      "source": [
        "# midamos la similaridad coseno con todos los documentos de train\n",
        "cossim = cosine_similarity(X_train[idx], X_train)[0]"
      ]
    },
    {
      "cell_type": "code",
      "execution_count": null,
      "metadata": {
        "colab": {
          "base_uri": "https://localhost:8080/"
        },
        "id": "p_mDA7p3AzcQ",
        "outputId": "89f7c172-27e8-4c92-ee02-65bb8634f196"
      },
      "outputs": [
        {
          "data": {
            "text/plain": [
              "array([1.        , 0.70930477, 0.67474953, ..., 0.        , 0.        ,\n",
              "       0.        ])"
            ]
          },
          "execution_count": 14,
          "metadata": {},
          "output_type": "execute_result"
        }
      ],
      "source": [
        "# podemos ver los valores de similaridad ordenados de mayor a menos\n",
        "np.sort(cossim)[::-1]"
      ]
    },
    {
      "cell_type": "code",
      "execution_count": null,
      "metadata": {
        "colab": {
          "base_uri": "https://localhost:8080/"
        },
        "id": "0OIhDA1jAryX",
        "outputId": "e8fabaeb-c35c-4873-ea82-f0463b6f0733"
      },
      "outputs": [
        {
          "data": {
            "text/plain": [
              "array([4811, 6635, 4253, ..., 9019, 9016, 8748])"
            ]
          },
          "execution_count": 15,
          "metadata": {},
          "output_type": "execute_result"
        }
      ],
      "source": [
        "# y a qué documentos corresponden\n",
        "np.argsort(cossim)[::-1]"
      ]
    },
    {
      "cell_type": "code",
      "execution_count": null,
      "metadata": {
        "id": "hP7qLS4ZBLps"
      },
      "outputs": [],
      "source": [
        "# los 5 documentos más similares:\n",
        "mostsim = np.argsort(cossim)[::-1][1:6]"
      ]
    },
    {
      "cell_type": "code",
      "execution_count": null,
      "metadata": {
        "colab": {
          "base_uri": "https://localhost:8080/",
          "height": 36
        },
        "id": "QdJLHPJACvaj",
        "outputId": "84411a60-8db9-47d1-c5b9-a163004a6f25"
      },
      "outputs": [
        {
          "data": {
            "application/vnd.google.colaboratory.intrinsic+json": {
              "type": "string"
            },
            "text/plain": [
              "'talk.politics.misc'"
            ]
          },
          "execution_count": 17,
          "metadata": {},
          "output_type": "execute_result"
        }
      ],
      "source": [
        "# el documento original pertenece a la clase:\n",
        "newsgroups_train.target_names[y_train[idx]]"
      ]
    },
    {
      "cell_type": "code",
      "execution_count": null,
      "metadata": {
        "colab": {
          "base_uri": "https://localhost:8080/"
        },
        "id": "RWy_73epCbFG",
        "outputId": "d91fde14-1132-4b61-cf74-b64a4f3138c6"
      },
      "outputs": [
        {
          "name": "stdout",
          "output_type": "stream",
          "text": [
            "talk.politics.misc\n",
            "talk.politics.misc\n",
            "talk.politics.misc\n",
            "talk.politics.misc\n",
            "talk.politics.misc\n"
          ]
        }
      ],
      "source": [
        "# y los 5 más similares son de las clases:\n",
        "for i in mostsim:\n",
        "  print(newsgroups_train.target_names[y_train[i]])"
      ]
    },
    {
      "cell_type": "markdown",
      "metadata": {
        "id": "zRoNnKwhBqzq"
      },
      "source": [
        "### Modelo de clasificación Naïve Bayes"
      ]
    },
    {
      "cell_type": "code",
      "execution_count": null,
      "metadata": {
        "colab": {
          "base_uri": "https://localhost:8080/",
          "height": 81
        },
        "id": "TPM0thDaLk0R",
        "outputId": "a3bbf601-e5dc-43a8-debd-f950f5be6200"
      },
      "outputs": [
        {
          "data": {
            "text/html": [
              "<style>#sk-container-id-1 {\n",
              "  /* Definition of color scheme common for light and dark mode */\n",
              "  --sklearn-color-text: #000;\n",
              "  --sklearn-color-text-muted: #666;\n",
              "  --sklearn-color-line: gray;\n",
              "  /* Definition of color scheme for unfitted estimators */\n",
              "  --sklearn-color-unfitted-level-0: #fff5e6;\n",
              "  --sklearn-color-unfitted-level-1: #f6e4d2;\n",
              "  --sklearn-color-unfitted-level-2: #ffe0b3;\n",
              "  --sklearn-color-unfitted-level-3: chocolate;\n",
              "  /* Definition of color scheme for fitted estimators */\n",
              "  --sklearn-color-fitted-level-0: #f0f8ff;\n",
              "  --sklearn-color-fitted-level-1: #d4ebff;\n",
              "  --sklearn-color-fitted-level-2: #b3dbfd;\n",
              "  --sklearn-color-fitted-level-3: cornflowerblue;\n",
              "\n",
              "  /* Specific color for light theme */\n",
              "  --sklearn-color-text-on-default-background: var(--sg-text-color, var(--theme-code-foreground, var(--jp-content-font-color1, black)));\n",
              "  --sklearn-color-background: var(--sg-background-color, var(--theme-background, var(--jp-layout-color0, white)));\n",
              "  --sklearn-color-border-box: var(--sg-text-color, var(--theme-code-foreground, var(--jp-content-font-color1, black)));\n",
              "  --sklearn-color-icon: #696969;\n",
              "\n",
              "  @media (prefers-color-scheme: dark) {\n",
              "    /* Redefinition of color scheme for dark theme */\n",
              "    --sklearn-color-text-on-default-background: var(--sg-text-color, var(--theme-code-foreground, var(--jp-content-font-color1, white)));\n",
              "    --sklearn-color-background: var(--sg-background-color, var(--theme-background, var(--jp-layout-color0, #111)));\n",
              "    --sklearn-color-border-box: var(--sg-text-color, var(--theme-code-foreground, var(--jp-content-font-color1, white)));\n",
              "    --sklearn-color-icon: #878787;\n",
              "  }\n",
              "}\n",
              "\n",
              "#sk-container-id-1 {\n",
              "  color: var(--sklearn-color-text);\n",
              "}\n",
              "\n",
              "#sk-container-id-1 pre {\n",
              "  padding: 0;\n",
              "}\n",
              "\n",
              "#sk-container-id-1 input.sk-hidden--visually {\n",
              "  border: 0;\n",
              "  clip: rect(1px 1px 1px 1px);\n",
              "  clip: rect(1px, 1px, 1px, 1px);\n",
              "  height: 1px;\n",
              "  margin: -1px;\n",
              "  overflow: hidden;\n",
              "  padding: 0;\n",
              "  position: absolute;\n",
              "  width: 1px;\n",
              "}\n",
              "\n",
              "#sk-container-id-1 div.sk-dashed-wrapped {\n",
              "  border: 1px dashed var(--sklearn-color-line);\n",
              "  margin: 0 0.4em 0.5em 0.4em;\n",
              "  box-sizing: border-box;\n",
              "  padding-bottom: 0.4em;\n",
              "  background-color: var(--sklearn-color-background);\n",
              "}\n",
              "\n",
              "#sk-container-id-1 div.sk-container {\n",
              "  /* jupyter's `normalize.less` sets `[hidden] { display: none; }`\n",
              "     but bootstrap.min.css set `[hidden] { display: none !important; }`\n",
              "     so we also need the `!important` here to be able to override the\n",
              "     default hidden behavior on the sphinx rendered scikit-learn.org.\n",
              "     See: https://github.com/scikit-learn/scikit-learn/issues/21755 */\n",
              "  display: inline-block !important;\n",
              "  position: relative;\n",
              "}\n",
              "\n",
              "#sk-container-id-1 div.sk-text-repr-fallback {\n",
              "  display: none;\n",
              "}\n",
              "\n",
              "div.sk-parallel-item,\n",
              "div.sk-serial,\n",
              "div.sk-item {\n",
              "  /* draw centered vertical line to link estimators */\n",
              "  background-image: linear-gradient(var(--sklearn-color-text-on-default-background), var(--sklearn-color-text-on-default-background));\n",
              "  background-size: 2px 100%;\n",
              "  background-repeat: no-repeat;\n",
              "  background-position: center center;\n",
              "}\n",
              "\n",
              "/* Parallel-specific style estimator block */\n",
              "\n",
              "#sk-container-id-1 div.sk-parallel-item::after {\n",
              "  content: \"\";\n",
              "  width: 100%;\n",
              "  border-bottom: 2px solid var(--sklearn-color-text-on-default-background);\n",
              "  flex-grow: 1;\n",
              "}\n",
              "\n",
              "#sk-container-id-1 div.sk-parallel {\n",
              "  display: flex;\n",
              "  align-items: stretch;\n",
              "  justify-content: center;\n",
              "  background-color: var(--sklearn-color-background);\n",
              "  position: relative;\n",
              "}\n",
              "\n",
              "#sk-container-id-1 div.sk-parallel-item {\n",
              "  display: flex;\n",
              "  flex-direction: column;\n",
              "}\n",
              "\n",
              "#sk-container-id-1 div.sk-parallel-item:first-child::after {\n",
              "  align-self: flex-end;\n",
              "  width: 50%;\n",
              "}\n",
              "\n",
              "#sk-container-id-1 div.sk-parallel-item:last-child::after {\n",
              "  align-self: flex-start;\n",
              "  width: 50%;\n",
              "}\n",
              "\n",
              "#sk-container-id-1 div.sk-parallel-item:only-child::after {\n",
              "  width: 0;\n",
              "}\n",
              "\n",
              "/* Serial-specific style estimator block */\n",
              "\n",
              "#sk-container-id-1 div.sk-serial {\n",
              "  display: flex;\n",
              "  flex-direction: column;\n",
              "  align-items: center;\n",
              "  background-color: var(--sklearn-color-background);\n",
              "  padding-right: 1em;\n",
              "  padding-left: 1em;\n",
              "}\n",
              "\n",
              "\n",
              "/* Toggleable style: style used for estimator/Pipeline/ColumnTransformer box that is\n",
              "clickable and can be expanded/collapsed.\n",
              "- Pipeline and ColumnTransformer use this feature and define the default style\n",
              "- Estimators will overwrite some part of the style using the `sk-estimator` class\n",
              "*/\n",
              "\n",
              "/* Pipeline and ColumnTransformer style (default) */\n",
              "\n",
              "#sk-container-id-1 div.sk-toggleable {\n",
              "  /* Default theme specific background. It is overwritten whether we have a\n",
              "  specific estimator or a Pipeline/ColumnTransformer */\n",
              "  background-color: var(--sklearn-color-background);\n",
              "}\n",
              "\n",
              "/* Toggleable label */\n",
              "#sk-container-id-1 label.sk-toggleable__label {\n",
              "  cursor: pointer;\n",
              "  display: flex;\n",
              "  width: 100%;\n",
              "  margin-bottom: 0;\n",
              "  padding: 0.5em;\n",
              "  box-sizing: border-box;\n",
              "  text-align: center;\n",
              "  align-items: start;\n",
              "  justify-content: space-between;\n",
              "  gap: 0.5em;\n",
              "}\n",
              "\n",
              "#sk-container-id-1 label.sk-toggleable__label .caption {\n",
              "  font-size: 0.6rem;\n",
              "  font-weight: lighter;\n",
              "  color: var(--sklearn-color-text-muted);\n",
              "}\n",
              "\n",
              "#sk-container-id-1 label.sk-toggleable__label-arrow:before {\n",
              "  /* Arrow on the left of the label */\n",
              "  content: \"▸\";\n",
              "  float: left;\n",
              "  margin-right: 0.25em;\n",
              "  color: var(--sklearn-color-icon);\n",
              "}\n",
              "\n",
              "#sk-container-id-1 label.sk-toggleable__label-arrow:hover:before {\n",
              "  color: var(--sklearn-color-text);\n",
              "}\n",
              "\n",
              "/* Toggleable content - dropdown */\n",
              "\n",
              "#sk-container-id-1 div.sk-toggleable__content {\n",
              "  max-height: 0;\n",
              "  max-width: 0;\n",
              "  overflow: hidden;\n",
              "  text-align: left;\n",
              "  /* unfitted */\n",
              "  background-color: var(--sklearn-color-unfitted-level-0);\n",
              "}\n",
              "\n",
              "#sk-container-id-1 div.sk-toggleable__content.fitted {\n",
              "  /* fitted */\n",
              "  background-color: var(--sklearn-color-fitted-level-0);\n",
              "}\n",
              "\n",
              "#sk-container-id-1 div.sk-toggleable__content pre {\n",
              "  margin: 0.2em;\n",
              "  border-radius: 0.25em;\n",
              "  color: var(--sklearn-color-text);\n",
              "  /* unfitted */\n",
              "  background-color: var(--sklearn-color-unfitted-level-0);\n",
              "}\n",
              "\n",
              "#sk-container-id-1 div.sk-toggleable__content.fitted pre {\n",
              "  /* unfitted */\n",
              "  background-color: var(--sklearn-color-fitted-level-0);\n",
              "}\n",
              "\n",
              "#sk-container-id-1 input.sk-toggleable__control:checked~div.sk-toggleable__content {\n",
              "  /* Expand drop-down */\n",
              "  max-height: 200px;\n",
              "  max-width: 100%;\n",
              "  overflow: auto;\n",
              "}\n",
              "\n",
              "#sk-container-id-1 input.sk-toggleable__control:checked~label.sk-toggleable__label-arrow:before {\n",
              "  content: \"▾\";\n",
              "}\n",
              "\n",
              "/* Pipeline/ColumnTransformer-specific style */\n",
              "\n",
              "#sk-container-id-1 div.sk-label input.sk-toggleable__control:checked~label.sk-toggleable__label {\n",
              "  color: var(--sklearn-color-text);\n",
              "  background-color: var(--sklearn-color-unfitted-level-2);\n",
              "}\n",
              "\n",
              "#sk-container-id-1 div.sk-label.fitted input.sk-toggleable__control:checked~label.sk-toggleable__label {\n",
              "  background-color: var(--sklearn-color-fitted-level-2);\n",
              "}\n",
              "\n",
              "/* Estimator-specific style */\n",
              "\n",
              "/* Colorize estimator box */\n",
              "#sk-container-id-1 div.sk-estimator input.sk-toggleable__control:checked~label.sk-toggleable__label {\n",
              "  /* unfitted */\n",
              "  background-color: var(--sklearn-color-unfitted-level-2);\n",
              "}\n",
              "\n",
              "#sk-container-id-1 div.sk-estimator.fitted input.sk-toggleable__control:checked~label.sk-toggleable__label {\n",
              "  /* fitted */\n",
              "  background-color: var(--sklearn-color-fitted-level-2);\n",
              "}\n",
              "\n",
              "#sk-container-id-1 div.sk-label label.sk-toggleable__label,\n",
              "#sk-container-id-1 div.sk-label label {\n",
              "  /* The background is the default theme color */\n",
              "  color: var(--sklearn-color-text-on-default-background);\n",
              "}\n",
              "\n",
              "/* On hover, darken the color of the background */\n",
              "#sk-container-id-1 div.sk-label:hover label.sk-toggleable__label {\n",
              "  color: var(--sklearn-color-text);\n",
              "  background-color: var(--sklearn-color-unfitted-level-2);\n",
              "}\n",
              "\n",
              "/* Label box, darken color on hover, fitted */\n",
              "#sk-container-id-1 div.sk-label.fitted:hover label.sk-toggleable__label.fitted {\n",
              "  color: var(--sklearn-color-text);\n",
              "  background-color: var(--sklearn-color-fitted-level-2);\n",
              "}\n",
              "\n",
              "/* Estimator label */\n",
              "\n",
              "#sk-container-id-1 div.sk-label label {\n",
              "  font-family: monospace;\n",
              "  font-weight: bold;\n",
              "  display: inline-block;\n",
              "  line-height: 1.2em;\n",
              "}\n",
              "\n",
              "#sk-container-id-1 div.sk-label-container {\n",
              "  text-align: center;\n",
              "}\n",
              "\n",
              "/* Estimator-specific */\n",
              "#sk-container-id-1 div.sk-estimator {\n",
              "  font-family: monospace;\n",
              "  border: 1px dotted var(--sklearn-color-border-box);\n",
              "  border-radius: 0.25em;\n",
              "  box-sizing: border-box;\n",
              "  margin-bottom: 0.5em;\n",
              "  /* unfitted */\n",
              "  background-color: var(--sklearn-color-unfitted-level-0);\n",
              "}\n",
              "\n",
              "#sk-container-id-1 div.sk-estimator.fitted {\n",
              "  /* fitted */\n",
              "  background-color: var(--sklearn-color-fitted-level-0);\n",
              "}\n",
              "\n",
              "/* on hover */\n",
              "#sk-container-id-1 div.sk-estimator:hover {\n",
              "  /* unfitted */\n",
              "  background-color: var(--sklearn-color-unfitted-level-2);\n",
              "}\n",
              "\n",
              "#sk-container-id-1 div.sk-estimator.fitted:hover {\n",
              "  /* fitted */\n",
              "  background-color: var(--sklearn-color-fitted-level-2);\n",
              "}\n",
              "\n",
              "/* Specification for estimator info (e.g. \"i\" and \"?\") */\n",
              "\n",
              "/* Common style for \"i\" and \"?\" */\n",
              "\n",
              ".sk-estimator-doc-link,\n",
              "a:link.sk-estimator-doc-link,\n",
              "a:visited.sk-estimator-doc-link {\n",
              "  float: right;\n",
              "  font-size: smaller;\n",
              "  line-height: 1em;\n",
              "  font-family: monospace;\n",
              "  background-color: var(--sklearn-color-background);\n",
              "  border-radius: 1em;\n",
              "  height: 1em;\n",
              "  width: 1em;\n",
              "  text-decoration: none !important;\n",
              "  margin-left: 0.5em;\n",
              "  text-align: center;\n",
              "  /* unfitted */\n",
              "  border: var(--sklearn-color-unfitted-level-1) 1pt solid;\n",
              "  color: var(--sklearn-color-unfitted-level-1);\n",
              "}\n",
              "\n",
              ".sk-estimator-doc-link.fitted,\n",
              "a:link.sk-estimator-doc-link.fitted,\n",
              "a:visited.sk-estimator-doc-link.fitted {\n",
              "  /* fitted */\n",
              "  border: var(--sklearn-color-fitted-level-1) 1pt solid;\n",
              "  color: var(--sklearn-color-fitted-level-1);\n",
              "}\n",
              "\n",
              "/* On hover */\n",
              "div.sk-estimator:hover .sk-estimator-doc-link:hover,\n",
              ".sk-estimator-doc-link:hover,\n",
              "div.sk-label-container:hover .sk-estimator-doc-link:hover,\n",
              ".sk-estimator-doc-link:hover {\n",
              "  /* unfitted */\n",
              "  background-color: var(--sklearn-color-unfitted-level-3);\n",
              "  color: var(--sklearn-color-background);\n",
              "  text-decoration: none;\n",
              "}\n",
              "\n",
              "div.sk-estimator.fitted:hover .sk-estimator-doc-link.fitted:hover,\n",
              ".sk-estimator-doc-link.fitted:hover,\n",
              "div.sk-label-container:hover .sk-estimator-doc-link.fitted:hover,\n",
              ".sk-estimator-doc-link.fitted:hover {\n",
              "  /* fitted */\n",
              "  background-color: var(--sklearn-color-fitted-level-3);\n",
              "  color: var(--sklearn-color-background);\n",
              "  text-decoration: none;\n",
              "}\n",
              "\n",
              "/* Span, style for the box shown on hovering the info icon */\n",
              ".sk-estimator-doc-link span {\n",
              "  display: none;\n",
              "  z-index: 9999;\n",
              "  position: relative;\n",
              "  font-weight: normal;\n",
              "  right: .2ex;\n",
              "  padding: .5ex;\n",
              "  margin: .5ex;\n",
              "  width: min-content;\n",
              "  min-width: 20ex;\n",
              "  max-width: 50ex;\n",
              "  color: var(--sklearn-color-text);\n",
              "  box-shadow: 2pt 2pt 4pt #999;\n",
              "  /* unfitted */\n",
              "  background: var(--sklearn-color-unfitted-level-0);\n",
              "  border: .5pt solid var(--sklearn-color-unfitted-level-3);\n",
              "}\n",
              "\n",
              ".sk-estimator-doc-link.fitted span {\n",
              "  /* fitted */\n",
              "  background: var(--sklearn-color-fitted-level-0);\n",
              "  border: var(--sklearn-color-fitted-level-3);\n",
              "}\n",
              "\n",
              ".sk-estimator-doc-link:hover span {\n",
              "  display: block;\n",
              "}\n",
              "\n",
              "/* \"?\"-specific style due to the `<a>` HTML tag */\n",
              "\n",
              "#sk-container-id-1 a.estimator_doc_link {\n",
              "  float: right;\n",
              "  font-size: 1rem;\n",
              "  line-height: 1em;\n",
              "  font-family: monospace;\n",
              "  background-color: var(--sklearn-color-background);\n",
              "  border-radius: 1rem;\n",
              "  height: 1rem;\n",
              "  width: 1rem;\n",
              "  text-decoration: none;\n",
              "  /* unfitted */\n",
              "  color: var(--sklearn-color-unfitted-level-1);\n",
              "  border: var(--sklearn-color-unfitted-level-1) 1pt solid;\n",
              "}\n",
              "\n",
              "#sk-container-id-1 a.estimator_doc_link.fitted {\n",
              "  /* fitted */\n",
              "  border: var(--sklearn-color-fitted-level-1) 1pt solid;\n",
              "  color: var(--sklearn-color-fitted-level-1);\n",
              "}\n",
              "\n",
              "/* On hover */\n",
              "#sk-container-id-1 a.estimator_doc_link:hover {\n",
              "  /* unfitted */\n",
              "  background-color: var(--sklearn-color-unfitted-level-3);\n",
              "  color: var(--sklearn-color-background);\n",
              "  text-decoration: none;\n",
              "}\n",
              "\n",
              "#sk-container-id-1 a.estimator_doc_link.fitted:hover {\n",
              "  /* fitted */\n",
              "  background-color: var(--sklearn-color-fitted-level-3);\n",
              "}\n",
              "</style><div id=\"sk-container-id-1\" class=\"sk-top-container\"><div class=\"sk-text-repr-fallback\"><pre>MultinomialNB()</pre><b>In a Jupyter environment, please rerun this cell to show the HTML representation or trust the notebook. <br />On GitHub, the HTML representation is unable to render, please try loading this page with nbviewer.org.</b></div><div class=\"sk-container\" hidden><div class=\"sk-item\"><div class=\"sk-estimator fitted sk-toggleable\"><input class=\"sk-toggleable__control sk-hidden--visually\" id=\"sk-estimator-id-1\" type=\"checkbox\" checked><label for=\"sk-estimator-id-1\" class=\"sk-toggleable__label fitted sk-toggleable__label-arrow\"><div><div>MultinomialNB</div></div><div><a class=\"sk-estimator-doc-link fitted\" rel=\"noreferrer\" target=\"_blank\" href=\"https://scikit-learn.org/1.6/modules/generated/sklearn.naive_bayes.MultinomialNB.html\">?<span>Documentation for MultinomialNB</span></a><span class=\"sk-estimator-doc-link fitted\">i<span>Fitted</span></span></div></label><div class=\"sk-toggleable__content fitted\"><pre>MultinomialNB()</pre></div> </div></div></div></div>"
            ],
            "text/plain": [
              "MultinomialNB()"
            ]
          },
          "execution_count": 19,
          "metadata": {},
          "output_type": "execute_result"
        }
      ],
      "source": [
        "# es muy fácil instanciar un modelo de clasificación Naïve Bayes y entrenarlo con sklearn\n",
        "clf = MultinomialNB()\n",
        "clf.fit(X_train, y_train)"
      ]
    },
    {
      "cell_type": "code",
      "execution_count": null,
      "metadata": {
        "id": "NrQjzM48Mu4T"
      },
      "outputs": [],
      "source": [
        "# con nuestro vectorizador ya fiteado en train, vectorizamos los textos\n",
        "# del conjunto de test\n",
        "X_test = tfidfvect.transform(newsgroups_test.data)\n",
        "y_test = newsgroups_test.target\n",
        "y_pred = clf.predict(X_test)"
      ]
    },
    {
      "cell_type": "code",
      "execution_count": null,
      "metadata": {
        "colab": {
          "base_uri": "https://localhost:8080/"
        },
        "id": "UkGJhetEPdA4",
        "outputId": "0b172f16-e9a2-4fd4-a81c-e294c39a443c"
      },
      "outputs": [
        {
          "data": {
            "text/plain": [
              "0.5854345727938506"
            ]
          },
          "execution_count": 21,
          "metadata": {},
          "output_type": "execute_result"
        }
      ],
      "source": [
        "# el F1-score es una metrica adecuada para reportar desempeño de modelos de claificación\n",
        "# es robusta al desbalance de clases. El promediado 'macro' es el promedio de los\n",
        "# F1-score de cada clase. El promedio 'micro' es equivalente a la accuracy que no\n",
        "# es una buena métrica cuando los datasets son desbalanceados\n",
        "f1_score(y_test, y_pred, average='macro')"
      ]
    },
    {
      "cell_type": "markdown",
      "metadata": {
        "id": "McArD4rSDR2K"
      },
      "source": [
        "### Desafío 1"
      ]
    },
    {
      "cell_type": "markdown",
      "metadata": {
        "id": "mx8C4H09ug2O"
      },
      "source": [
        "## **1**.\n",
        "Vectorizar documentos. Tomar 5 documentos al azar y medir similaridad con el resto de los documentos.\n",
        "Estudiar los 5 documentos más similares de cada uno analizar si tiene sentido\n",
        "la similaridad según el contenido del texto y la etiqueta de clasificación."
      ]
    },
    {
      "cell_type": "code",
      "execution_count": null,
      "metadata": {
        "id": "er_Vi7v7vUdt"
      },
      "outputs": [],
      "source": [
        "import random\n",
        "import numpy as np\n",
        "\n",
        "random_indices = random.sample(range(len(newsgroups_train.data)), 5)"
      ]
    },
    {
      "cell_type": "markdown",
      "metadata": {
        "id": "xRPs-wLQz16B"
      },
      "source": [
        "### 1er documento"
      ]
    },
    {
      "cell_type": "code",
      "execution_count": null,
      "metadata": {
        "colab": {
          "base_uri": "https://localhost:8080/"
        },
        "id": "CZJ4gBPhz4DP",
        "outputId": "951585c9-0298-451b-f922-3fbe7bf89ab5"
      },
      "outputs": [
        {
          "name": "stdout",
          "output_type": "stream",
          "text": [
            "Document Index: 677\n",
            "Class: comp.windows.x\n",
            "I'm trying to set up an IPX for another group. I copied all the\n",
            "X stuff that I compiled on my 4/280 (which runs SunOS 4.1.1) using\n",
            "gcc 2.1, and most things run just fine. however, I did find a\n",
            "couple of bugs, and when I try to recompile those clients on the IPX\n",
            "(which runs 4.1.3), I get\n",
            "\n",
            "ld: Undefined symbol\n",
            "   _XShapeQueryExtension\n",
            "   _XShapeCombineMask\n",
            "\n",
            "I know that I can include libXext and get rid of those messages,\n",
            "but I can't figure out why I get them on the IPX and not on the\n",
            "4/280. any ideas?\n",
            "\n",
            "5 Most Similar Documents:\n",
            "Document Index 7972: Class - comp.windows.x\n",
            "Document Index 6117: Class - comp.windows.x\n",
            "Document Index 7496: Class - comp.windows.x\n",
            "Document Index 7967: Class - comp.windows.x\n",
            "Document Index 9623: Class - talk.politics.mideast\n"
          ]
        }
      ],
      "source": [
        "idx = random_indices[0]\n",
        "print(f\"Document Index: {idx}\")\n",
        "print(f\"Class: {newsgroups_train.target_names[y_train[idx]]}\")\n",
        "print(newsgroups_train.data[idx])\n",
        "\n",
        "cossim = cosine_similarity(X_train[idx], X_train)[0]\n",
        "\n",
        "mostsim = np.argsort(cossim)[::-1][1:6]\n",
        "\n",
        "print(\"5 Most Similar Documents:\")\n",
        "for i in mostsim:\n",
        "    print(f\"Document Index {i}: Class - {newsgroups_train.target_names[y_train[i]]}\")"
      ]
    },
    {
      "cell_type": "markdown",
      "metadata": {
        "id": "RJ3TcMcM0RVv"
      },
      "source": [
        "El documento habla sobre un problema a la hora de ejecutar un programa. La clasificación del mismo es comp.windows, la cual tiene sentido. Los primeros 4 documentos pertenecen a la misma clase, pero el 5to a politics.mideast."
      ]
    },
    {
      "cell_type": "markdown",
      "metadata": {
        "id": "C_S748Sj0jyX"
      },
      "source": [
        "### 2do documento"
      ]
    },
    {
      "cell_type": "code",
      "execution_count": null,
      "metadata": {
        "colab": {
          "base_uri": "https://localhost:8080/"
        },
        "id": "fPMs-kSm0mMh",
        "outputId": "774e175b-131e-4918-ee5a-2c83cfd4e1d4"
      },
      "outputs": [
        {
          "name": "stdout",
          "output_type": "stream",
          "text": [
            "Document Index: 1858\n",
            "Class: sci.crypt\n",
            "\n",
            "I have a question that is a slight variation on the previously mentioned\n",
            "examples that perhaps people could give me some pointers on (it has been a\n",
            "couple of years since my Con Law class in college so I hope I am not\n",
            "missing something obvious here...)\n",
            "\n",
            "Basic Scenario:\n",
            "\n",
            "\tI set up a bbs that uses public-key encryption and encryption of\n",
            "\tfiles on disk.  The general setup is designed so that when users \n",
            "\tconnect they send a private key encrypted using the system public\n",
            "\tkey and the user's public-private keypair is used to wrap the\n",
            "\tone-time session keys used for encrypting the files on disk.  The\n",
            "\tresult of this is that even if I reveal the system private key it\n",
            "\tis impossible for anyone to gain access to the files stored on the\n",
            "\tmachine.  What is possible is for someone to use the revealed\n",
            "\tsystem private key to entice users into revealing thier personal\n",
            "\tprivate keys during the authentication sequence.\n",
            "\n",
            "Questions:\n",
            "\n",
            "\tDoes the fact that the system private key does not provide any\n",
            "\tinformation useful for a search give me any protection as far as\n",
            "\tbeing coerced to reveal the key?  (I doubt it myself..)\n",
            "\n",
            "\tIt seems providing the system private key does not mean that I am\n",
            "\tassisting in \"entrapment\" (the users would send thier key anyway\n",
            "\tand are not being enticed into doing something they would not\n",
            "\totherwise do) but is there any other hook that can be used?\n",
            "\n",
            "\tWould the user private-key enticement require wiretap approval?\n",
            "\n",
            "Any answers or general musings on the subject would be appreciated...\n",
            "\n",
            "jim\n",
            "5 Most Similar Documents:\n",
            "Document Index 2256: Class - sci.crypt\n",
            "Document Index 5287: Class - sci.crypt\n",
            "Document Index 5948: Class - sci.crypt\n",
            "Document Index 4866: Class - sci.crypt\n",
            "Document Index 10384: Class - sci.crypt\n"
          ]
        }
      ],
      "source": [
        "idx = random_indices[1]\n",
        "print(f\"Document Index: {idx}\")\n",
        "print(f\"Class: {newsgroups_train.target_names[y_train[idx]]}\")\n",
        "print(newsgroups_train.data[idx])\n",
        "\n",
        "cossim = cosine_similarity(X_train[idx], X_train)[0]\n",
        "\n",
        "mostsim = np.argsort(cossim)[::-1][1:6]\n",
        "\n",
        "print(\"5 Most Similar Documents:\")\n",
        "for i in mostsim:\n",
        "    print(f\"Document Index {i}: Class - {newsgroups_train.target_names[y_train[i]]}\")"
      ]
    },
    {
      "cell_type": "markdown",
      "metadata": {
        "id": "pHItEQsk0uEV"
      },
      "source": [
        "El documento habla sobre criptografia, es clasificado como sci.crypt y los 5 documentos mas similares también."
      ]
    },
    {
      "cell_type": "markdown",
      "metadata": {
        "id": "Ld4VNU8h011K"
      },
      "source": [
        "### 3er documento"
      ]
    },
    {
      "cell_type": "code",
      "execution_count": null,
      "metadata": {
        "colab": {
          "base_uri": "https://localhost:8080/"
        },
        "id": "NmqVTkN41Bp1",
        "outputId": "fa2755c6-0545-47a6-c3b8-c95fcbffb036"
      },
      "outputs": [
        {
          "name": "stdout",
          "output_type": "stream",
          "text": [
            "(1, 101631)\n",
            "Document Index: 7264\n",
            "Class: comp.os.ms-windows.misc\n",
            "I am using WFW 2.0c with a Canon BJ10e. The printer driver is that \n",
            "which comes with Windows 3.1. Unfortatunately, I am having a problem with \n",
            "printing page numbers on the bottom of the page. I can print page number \n",
            "on the top of the page, but not on the bottom. Has anybody had a similar \n",
            "problem and/or does anybody have a solution for such a problem.\n",
            "\n",
            "Thanks\n",
            "pwoodcoc@business.uwo.ca\n",
            "5 Most Similar Documents:\n",
            "Document Index 10607: Class - comp.sys.mac.hardware\n",
            "Document Index 9443: Class - sci.med\n",
            "Document Index 5090: Class - comp.os.ms-windows.misc\n",
            "Document Index 348: Class - comp.graphics\n",
            "Document Index 6057: Class - comp.graphics\n"
          ]
        }
      ],
      "source": [
        "idx = random_indices[2]\n",
        "print(f\"Document Index: {idx}\")\n",
        "print(f\"Class: {newsgroups_train.target_names[y_train[idx]]}\")\n",
        "print(newsgroups_train.data[idx])\n",
        "\n",
        "cossim = cosine_similarity(X_train[idx], X_train)[0]\n",
        "\n",
        "mostsim = np.argsort(cossim)[::-1][1:6]\n",
        "\n",
        "print(\"5 Most Similar Documents:\")\n",
        "for i in mostsim:\n",
        "    print(f\"Document Index {i}: Class - {newsgroups_train.target_names[y_train[i]]}\")"
      ]
    },
    {
      "cell_type": "markdown",
      "metadata": {
        "id": "1ad-gnGd1xDw"
      },
      "source": [
        "El documento habla sobre problemas a la hora de imprimier numeros en el pie de pagina. La clasificación del mismo es comp.os.ms-windows, la cual tiene sentido. 4 de los documentos tienen clases de hardware, gráficos o sistema operativo de windows. Sin embargo, el 2do documento más similar tiene una categoria de (asumo) ciencia.medicina, lo cual parece errado."
      ]
    },
    {
      "cell_type": "markdown",
      "metadata": {
        "id": "Y7axxSU72gd4"
      },
      "source": [
        "Observamos el contenido de el documento con indice 9443 y efectivamente habla sobre el posicionamiento de algún elemento en un documento. Esto es sumamente similar al contenido del documento a comparar."
      ]
    },
    {
      "cell_type": "code",
      "execution_count": null,
      "metadata": {
        "colab": {
          "base_uri": "https://localhost:8080/"
        },
        "id": "jI9SFO9i1gRj",
        "outputId": "51b89c01-36b3-46d1-c2d7-a3400d0e7d31"
      },
      "outputs": [
        {
          "name": "stdout",
          "output_type": "stream",
          "text": [
            "\n",
            "It's on page 315, about 2 1/2 inches up from the bottom and an inch in\n",
            "from the right.\n",
            "\n",
            "At least we know what some people *haven't* read and remembered.\n",
            "\n"
          ]
        }
      ],
      "source": [
        "print(newsgroups_train.data[9443])"
      ]
    },
    {
      "cell_type": "markdown",
      "metadata": {
        "id": "RKqQIdAA21BS"
      },
      "source": [
        "### 4to documento"
      ]
    },
    {
      "cell_type": "code",
      "execution_count": null,
      "metadata": {
        "colab": {
          "base_uri": "https://localhost:8080/"
        },
        "id": "BgplteWY24-A",
        "outputId": "986be1ce-2304-4d6c-b724-33cd03c0b527"
      },
      "outputs": [
        {
          "name": "stdout",
          "output_type": "stream",
          "text": [
            "Document Index: 7350\n",
            "Class: talk.politics.mideast\n",
            "Now we have strong evidence of where the CPR really stands.\n",
            "Unbelievable and disgusting.  It only proves that we must\n",
            "never forget...\n",
            "\n",
            "\n",
            "!!!!!!!!!!!!!!!!!!!!!!!!!!!!!!!!!!!!!!!!!!!!!!!!!!!!!!!!!!!!!!!!\n",
            "\n",
            "\n",
            "Not so unconventional.  Eugenic solutions to the Jewish Problem\n",
            "have been suggested by Northern Europeans in the past.\n",
            "\n",
            "  Eugenics: a science that deals with the improvement (as by\n",
            "  control of human mating) of hereditory qualities of race\n",
            "  or breed.  -- Webster's Ninth Collegiate Dictionary.\n",
            "\n",
            "\n",
            "This is nothing more than Feisal Husseini's statement that the\n",
            "Zionist entity must be disolved by forcing it to \"engage\" the\n",
            "surrounding \"normal\" Arab society.\n",
            "\n",
            "\"a strong mixed stock\", \"integration of Israeli society into\n",
            "the Middle East in a graceful manner,\" these are the phrases\n",
            "of Nazi racial engineering pure and simple.  As if Israeli\n",
            "society has no right to exist per se!\n",
            "\n",
            "\n",
            "\"the continued existance of a specific Jewish People overrides\n",
            "any other consideration, be it human love, peace of human\n",
            "rights.\"  Disolve the Jewish People and protect human values\n",
            "such as love and peace; yes ve have heard this before Her Himmler.\n",
            "Notice how the source of the problem seems to be accruing to\n",
            "the Jews in this analysis.  Ya, Der Spiegal ist a gut sourcen...\n",
            "\n",
            "\n",
            "Nice attempt to mix in a slam against U.S. aid to Israel.\n",
            "\n",
            "\n",
            "Critical comment: you can take the Nazi flag and Holocaust photos\n",
            "off of your bedroom wall, Elias; you'll never succeed.\n",
            "\n",
            "-- Chris Metcalfe\n",
            "\n",
            "!!!!!!!!!!!!!!!!!!!!!!!!!!!!!!!!!!!!!!!!!!!!!!!!!!!!!!!!!!!!!!!!!!!!\n",
            "5 Most Similar Documents:\n",
            "Document Index 2900: Class - talk.politics.mideast\n",
            "Document Index 8651: Class - talk.politics.mideast\n",
            "Document Index 4564: Class - talk.politics.mideast\n",
            "Document Index 8726: Class - talk.politics.mideast\n",
            "Document Index 8224: Class - talk.politics.mideast\n"
          ]
        }
      ],
      "source": [
        "idx = random_indices[3]\n",
        "print(f\"Document Index: {idx}\")\n",
        "print(f\"Class: {newsgroups_train.target_names[y_train[idx]]}\")\n",
        "print(newsgroups_train.data[idx])\n",
        "\n",
        "cossim = cosine_similarity(X_train[idx], X_train)[0]\n",
        "\n",
        "mostsim = np.argsort(cossim)[::-1][1:6]\n",
        "\n",
        "print(\"5 Most Similar Documents:\")\n",
        "for i in mostsim:\n",
        "    print(f\"Document Index {i}: Class - {newsgroups_train.target_names[y_train[i]]}\")"
      ]
    },
    {
      "cell_type": "markdown",
      "metadata": {
        "id": "YcIUjHFb4VX4"
      },
      "source": [
        "El documento claramente pertenece a la clase talk.politics.mideast y los 5 documentos más similares también."
      ]
    },
    {
      "cell_type": "markdown",
      "metadata": {
        "id": "iIuixjgj4e7W"
      },
      "source": [
        "### 5to documento"
      ]
    },
    {
      "cell_type": "code",
      "execution_count": null,
      "metadata": {
        "colab": {
          "base_uri": "https://localhost:8080/"
        },
        "id": "lPuzE2ue4hLo",
        "outputId": "94033a4d-e272-441c-8404-29685125b003"
      },
      "outputs": [
        {
          "name": "stdout",
          "output_type": "stream",
          "text": [
            "Document Index: 566\n",
            "Class: soc.religion.christian\n",
            "\n",
            "Yes, it's important to realize that all actions have consequences,\n",
            "and that \"rules\" were made for our own good.  But to suggest that a\n",
            "*disease* is a *punishment* for certain types of sin I think is \n",
            "taking things much too far.  If we got some kind of mouth disease\n",
            "for lying, would any of us have mouths left?  What if we developed\n",
            "blindness every time we lusted after someone or something?  I dare\n",
            "say all of us would be walking into walls.\n",
            "\n",
            "Yes, sin can have terrible consequences, but we need to be *real*\n",
            "careful when saying that the consequences are a *punishment* for \n",
            "sin.  The Jews of Jesus's time believed that all sickness was the\n",
            "result of a sin.  Then Jesus healed a blind man and said that man was\n",
            "blind to show the glory of God, not because of sin.  If AIDS, or any\n",
            "other STD is a *punishment\" for sexual sin, what do we do with \n",
            "diseases like cancer, or multiple sclerosis, which are just as\n",
            "debilitating and terrible as AIDS, yet are not usually linked to a\n",
            "specific behavior or lifestyle?\n",
            "\n",
            "Atonement is *extremely* important, but I think you've missed the mark\n",
            "about as far as you can by suggesting that AIDS is an atonement for sin.\n",
            "The atonement for sin is JESUS CHRIST - period.  This is the central\n",
            "message of the Gospel.  A perfect sacrifice was required for our sins,\n",
            "and was made in the Lamb of God.  His sacrifice atoned for *all* of\n",
            "our sins, past present and future.  God does not require pennance for\n",
            "our sins, nor does he require us to come up with our own atonement.  He\n",
            "has graciously already done that for us.  To suggest that AIDS or \n",
            "some other consequence is an atonement for sins is literally spitting\n",
            "on the sacrifice that Jesus made.\n",
            "\n",
            "In case you couldn't tell, I get *extremely* angry and upset when\n",
            "I see things like this.  Instead of rationalizing our own fears and\n",
            "phobias, we need to be reaching out to people with AIDS and other\n",
            "socially unacceptable diseases.  Whether they got the disease through\n",
            "their own actions or not is irrelevant.  They still need Jesus Christ,\n",
            "no more and no less than we do.  I've said this before, but I think\n",
            "it's a good analogy.  People with AIDS are modern-day lepers.  Jesus\n",
            "healed many lepers.  He can also heal people with AIDS, maybe not on\n",
            "this earth, but in an ultimate sense.  My next-door neighbor has AIDS.\n",
            "She has recently come to have a much deeper and more committed \n",
            "relationship with God.  Her theology isn't what I would want it to be,\n",
            "but God's grace covers her.  The amazing thing is that she is gaining\n",
            "weight (she's had the disease for over 2 years) and her health is\n",
            "excellent apart from occassional skin rashes and such.  She attributes\n",
            "her improvement in her health to God's intervention in her life.  Who\n",
            "are we to suggest that her disease is some kind of punishment?  It\n",
            "seems to me that God is being glorified through her disease.\n",
            "\n",
            "Paul Overstreet, the country singer, has a good song title that I \n",
            "think applies to all of us - But for the Grace of God, There Go I\n",
            "(or something like that).\n",
            "\n",
            "May we all experience and accept God's grace.\n",
            "\n",
            "\n",
            "===============================================================================\n",
            "Paul Conditt\t\tInternet: conditt@titan.tsd.arlut.utexas.edu\n",
            "Applied Research\tPhone:\t  (512) 835-3422   FAX: (512) 835-3416/3259\n",
            "  Laboratories\t\tFedex:\t  10000 Burnet Road, Austin, Texas 78758-4423\n",
            "University of Texas\tPostal:\t  P.O. Box 8029, Austin, Texas 78713-8029\n",
            "Austin, Texas <----- the most wonderful place in Texas to live\n",
            "\n",
            "5 Most Similar Documents:\n",
            "Document Index 10932: Class - soc.religion.christian\n",
            "Document Index 5559: Class - soc.religion.christian\n",
            "Document Index 10649: Class - soc.religion.christian\n",
            "Document Index 6962: Class - soc.religion.christian\n",
            "Document Index 5826: Class - soc.religion.christian\n"
          ]
        }
      ],
      "source": [
        "idx = random_indices[4]\n",
        "print(f\"Document Index: {idx}\")\n",
        "print(f\"Class: {newsgroups_train.target_names[y_train[idx]]}\")\n",
        "print(newsgroups_train.data[idx])\n",
        "\n",
        "cossim = cosine_similarity(X_train[idx], X_train)[0]\n",
        "\n",
        "mostsim = np.argsort(cossim)[::-1][1:6]\n",
        "\n",
        "print(\"5 Most Similar Documents:\")\n",
        "for i in mostsim:\n",
        "    print(f\"Document Index {i}: Class - {newsgroups_train.target_names[y_train[i]]}\")"
      ]
    },
    {
      "cell_type": "markdown",
      "metadata": {
        "id": "tgJ8_avY4x3W"
      },
      "source": [
        "El documento claramente pertenece a la clase religion.christian y los 5 documentos más similares también."
      ]
    },
    {
      "cell_type": "markdown",
      "metadata": {
        "id": "AoGXrL92440_"
      },
      "source": [
        "## **2**.\n",
        "Entrenar modelos de clasificación Naïve Bayes para maximizar el desempeño de clasificación\n",
        "(f1-score macro) en el conjunto de datos de test. Considerar cambiar parámteros\n",
        "de instanciación del vectorizador y los modelos y probar modelos de Naïve Bayes Multinomial\n",
        "y ComplementNB."
      ]
    },
    {
      "cell_type": "markdown",
      "metadata": {
        "id": "UFCkOO0VO2qa"
      },
      "source": [
        "Usamos como baseline el modelo dado en la implementación inicial con un F1-Score de 0.5854345727938506."
      ]
    },
    {
      "cell_type": "code",
      "execution_count": null,
      "metadata": {
        "id": "3lCZzjdONgaQ"
      },
      "outputs": [],
      "source": [
        "from sklearn.feature_extraction.text import TfidfVectorizer\n",
        "\n",
        "tfidf_vectorizer = TfidfVectorizer(\n",
        "    ngram_range=(1, 3),\n",
        "    min_df=3,\n",
        "    max_df=0.85,\n",
        "    stop_words='english',\n",
        ")\n",
        "X_train = tfidf_vectorizer.fit_transform(newsgroups_train.data)\n",
        "X_test = tfidf_vectorizer.transform(newsgroups_test.data)\n",
        "y_train = newsgroups_train.target\n",
        "y_test = newsgroups_test.target"
      ]
    },
    {
      "cell_type": "markdown",
      "metadata": {
        "id": "pwQyldhUE16C"
      },
      "source": [
        "Se realiza una busqueda de hiperparametros para el modelo Multinomial mediante GridSearch. Los parametros a probar son alpha y fit_prior con valores variados."
      ]
    },
    {
      "cell_type": "code",
      "execution_count": null,
      "metadata": {
        "colab": {
          "base_uri": "https://localhost:8080/"
        },
        "id": "_C4dHUI56si7",
        "outputId": "55799400-6ec9-421a-f21a-81d3205c9cd3"
      },
      "outputs": [
        {
          "name": "stdout",
          "output_type": "stream",
          "text": [
            "Best parameters: {'alpha': 0.01, 'fit_prior': False}\n",
            "Best cross-validation F1 macro score: 0.7653834304154792\n"
          ]
        }
      ],
      "source": [
        "from sklearn.naive_bayes import MultinomialNB\n",
        "from sklearn.model_selection import GridSearchCV\n",
        "\n",
        "clf = MultinomialNB()\n",
        "\n",
        "param_grid = {\n",
        "    'alpha': [0.0001, 0.001, 0.01, 0.1, 0.5, 1.0],\n",
        "    'fit_prior': [True, False]\n",
        "}\n",
        "\n",
        "grid_search = GridSearchCV(clf, param_grid, cv=10, scoring='f1_macro')\n",
        "grid_search.fit(X_train, y_train)\n",
        "\n",
        "print(\"Best parameters:\", grid_search.best_params_)\n",
        "print(\"Best cross-validation F1 macro score:\", grid_search.best_score_)"
      ]
    },
    {
      "cell_type": "markdown",
      "metadata": {
        "id": "ujX2wuKqFM1p"
      },
      "source": [
        "Se obtiene un F1 Score de 0.765. Es un resultado significativamente mejor que el de baseline."
      ]
    },
    {
      "cell_type": "markdown",
      "metadata": {
        "id": "RMLE5t1NFIBp"
      },
      "source": [
        "Se realiza una busqueda de hiperparametros para el modelo ComplementNB mediante GridSearch. Los parametros a probar son alpha, fit_prior y norm con valores variados."
      ]
    },
    {
      "cell_type": "code",
      "execution_count": null,
      "metadata": {
        "colab": {
          "base_uri": "https://localhost:8080/"
        },
        "id": "9CLQqhM5SWlF",
        "outputId": "2e72de14-4077-47e6-acba-836fcb9011c4"
      },
      "outputs": [
        {
          "name": "stdout",
          "output_type": "stream",
          "text": [
            "Best parameters: {'alpha': 0.5, 'fit_prior': True, 'norm': False}\n",
            "Best cross-validation F1 macro score: 0.7700936364259501\n"
          ]
        }
      ],
      "source": [
        "from sklearn.naive_bayes import ComplementNB\n",
        "from sklearn.model_selection import GridSearchCV\n",
        "\n",
        "clf = ComplementNB()\n",
        "\n",
        "param_grid = {\n",
        "    'alpha': [0.0001, 0.001, 0.01, 0.1, 0.5, 1.0],\n",
        "    'fit_prior': [True, False],\n",
        "    'norm': [True, False],\n",
        "}\n",
        "\n",
        "grid_search = GridSearchCV(clf, param_grid, cv=10, scoring='f1_macro')\n",
        "grid_search.fit(X_train, y_train)\n",
        "\n",
        "print(\"Best parameters:\", grid_search.best_params_)\n",
        "print(\"Best cross-validation F1 macro score:\", grid_search.best_score_)"
      ]
    },
    {
      "cell_type": "markdown",
      "metadata": {
        "id": "UbIfUey5FXjS"
      },
      "source": [
        "Se obtiene un F1 Score de 0.770. Es un resultado levemente mejor al del modelo Multinomial con hiperparametros tuneados y significativamente mejor que el de baseline."
      ]
    },
    {
      "cell_type": "markdown",
      "metadata": {
        "id": "6a-Nd-ewuu2k"
      },
      "source": [
        "## 3.\n",
        "Transponer la matriz documento-término. De esa manera se obtiene una matriz\n",
        "término-documento que puede ser interpretada como una colección de vectorización de palabras.\n",
        "Estudiar ahora similaridad entre palabras tomando 5 palabras y estudiando sus 5 más similares. **La elección de palabras no debe ser al azar para evitar la aparición de términos poco interpretables, elegirlas \"manualmente\"**."
      ]
    },
    {
      "cell_type": "markdown",
      "metadata": {
        "id": "oqvvJArVFwC3"
      },
      "source": [
        "Se utiliza el vectorizer con los hiperparametros encontrados en el punto anterior."
      ]
    },
    {
      "cell_type": "code",
      "execution_count": null,
      "metadata": {
        "id": "7YJGzoVR8O_I"
      },
      "outputs": [],
      "source": [
        "tfidf_vectorizer = TfidfVectorizer(\n",
        "    ngram_range=(1, 3),\n",
        "    min_df=3,\n",
        "    max_df=0.85,\n",
        "    stop_words='english',\n",
        ")\n",
        "X_train = tfidf_vectorizer.fit_transform(newsgroups_train.data)\n",
        "X_test = tfidf_vectorizer.transform(newsgroups_test.data)\n",
        "y_train = newsgroups_train.target\n",
        "y_test = newsgroups_test.target"
      ]
    },
    {
      "cell_type": "markdown",
      "metadata": {
        "id": "jQ-O5kTCF5SB"
      },
      "source": [
        "Se toman 5 palabras y los terminos incluidos en el vectorizer del punto 2 (Este no incluye todos los terminos del dataset ya que utiliza los parametros min_df y max_df que limitan la cantidad de documentos de los cuales se toman las palabras.)"
      ]
    },
    {
      "cell_type": "code",
      "execution_count": null,
      "metadata": {
        "id": "6agvFmUSF4Ud"
      },
      "outputs": [],
      "source": [
        "X_train_transposed = X_train.T\n",
        "\n",
        "words = ['god', 'gun', 'moon', 'car', 'baseball']\n",
        "terms = list(tfidf_vectorizer.get_feature_names_out())"
      ]
    },
    {
      "cell_type": "code",
      "execution_count": null,
      "metadata": {
        "colab": {
          "base_uri": "https://localhost:8080/"
        },
        "id": "b2sYQHTruxG9",
        "outputId": "ca27c1a4-1230-4d63-994d-f6118d52e033"
      },
      "outputs": [
        {
          "name": "stdout",
          "output_type": "stream",
          "text": [
            "\n",
            "Most similar words to 'god':\n",
            "god god\n",
            "jesus\n",
            "god does\n",
            "christ\n",
            "bible\n",
            "\n",
            "Most similar words to 'gun':\n",
            "gun control\n",
            "guns\n",
            "gun owners\n",
            "pro gun\n",
            "using gun\n",
            "\n",
            "Most similar words to 'moon':\n",
            "lunar\n",
            "phases\n",
            "moon landing\n",
            "orbit moon\n",
            "moon mars\n",
            "\n",
            "Most similar words to 'car':\n",
            "car car\n",
            "new car\n",
            "bought car\n",
            "car like\n",
            "car accident\n",
            "\n",
            "Most similar words to 'baseball':\n",
            "baseball games\n",
            "baseball game\n",
            "league baseball\n",
            "tommorrow\n",
            "earl weaver\n"
          ]
        }
      ],
      "source": [
        "import numpy as np\n",
        "\n",
        "for word in words:\n",
        "    word_index = terms.index(word)\n",
        "    cossim = cosine_similarity(X_train_transposed[word_index], X_train_transposed)[0]\n",
        "    most_similar = np.argsort(cossim)[::-1][1:6]\n",
        "\n",
        "    print(f\"\\nMost similar words to '{word}':\")\n",
        "    for i in most_similar:\n",
        "        print(terms[i])\n"
      ]
    },
    {
      "cell_type": "markdown",
      "metadata": {
        "id": "IG-gxjd5ylmI"
      },
      "source": [
        "\n",
        "\n",
        "*   **God**: Todas las palabras son relacionadas a la religión\n",
        "*   **Gun**: Todas las palabras son relacionadas a las armas\n",
        "*   **Moon**: Parecieran ser 5 terminos relacionados a la exploración espacial. \"Phases\" podrian ser las fases de un cohete espacial.\n",
        "*   **Car**: Todas las palabras son relacionadas a los autos.\n",
        "*   **Baseball**: 4 de las 5 palabras parecen acertadas. \"Tomorrow\" podria tratarse de una palabra utilizada en anuncios de partidos de baseball o deportes en general. \"Earl Weaver\" era una figura reconocida en el mundo del baseball.\n",
        "\n"
      ]
    }
  ],
  "metadata": {
    "colab": {
      "collapsed_sections": [
        "mx8C4H09ug2O"
      ],
      "provenance": []
    },
    "kernelspec": {
      "display_name": ".venv",
      "language": "python",
      "name": "python3"
    },
    "language_info": {
      "codemirror_mode": {
        "name": "ipython",
        "version": 3
      },
      "file_extension": ".py",
      "mimetype": "text/x-python",
      "name": "python",
      "nbconvert_exporter": "python",
      "pygments_lexer": "ipython3",
      "version": "3.12.3"
    }
  },
  "nbformat": 4,
  "nbformat_minor": 0
}
